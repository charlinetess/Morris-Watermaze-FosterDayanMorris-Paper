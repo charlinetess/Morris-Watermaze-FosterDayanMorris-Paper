{
 "cells": [
  {
   "cell_type": "code",
   "execution_count": 1,
   "metadata": {
    "collapsed": true
   },
   "outputs": [],
   "source": [
    "# This code is an implementation of the model proposed by Foster Dayan and Morris (Hippocampus, 2000). \n",
    "# This is the DMP algorithm in which every day the location of the platform changes and every trial the \n",
    "# start location of the rat changes. We can define the number of rats (= number of independant experiment \n",
    "# to perform statistics), the number of days and the number of trials per day. \n",
    "\n",
    "#MvR edits"
   ]
  },
  {
   "cell_type": "code",
   "execution_count": 2,
   "metadata": {
    "collapsed": true,
    "scrolled": true
   },
   "outputs": [],
   "source": [
    "using Polynomials"
   ]
  },
  {
   "cell_type": "code",
   "execution_count": 3,
   "metadata": {
    "collapsed": true
   },
   "outputs": [],
   "source": [
    "###################################################################################\n",
    "###################################################################################\n",
    "########################                                ###########################\n",
    "########################       DEFINE CLASSES           ###########################\n",
    "\n",
    "###################################################################################\n",
    "###################################################################################"
   ]
  },
  {
   "cell_type": "code",
   "execution_count": 4,
   "metadata": {
    "collapsed": true
   },
   "outputs": [],
   "source": [
    "type Trial\n",
    "    Trajectory\n",
    "    Latency\n",
    "    SearchPreference\n",
    "    ActionMap\n",
    "    Valuemap\n",
    "    Error\n",
    "end"
   ]
  },
  {
   "cell_type": "code",
   "execution_count": 5,
   "metadata": {
    "collapsed": true
   },
   "outputs": [],
   "source": [
    "type Day \n",
    "    trial::Any\n",
    "    Day()=new(Trial[]);\n",
    "    Platform::Any\n",
    "end"
   ]
  },
  {
   "cell_type": "code",
   "execution_count": 6,
   "metadata": {
    "collapsed": true
   },
   "outputs": [],
   "source": [
    "type Experiment \n",
    "    day::Any\n",
    "        Experiment()=new(Day[])\n",
    "\n",
    "    PlaceCells::Any\n",
    "end"
   ]
  },
  {
   "cell_type": "code",
   "execution_count": 7,
   "metadata": {
    "collapsed": true
   },
   "outputs": [],
   "source": [
    "type Rat\n",
    "    experiment::Any\n",
    "    Rat()=new(Experiment[])\n",
    "    parameters\n",
    "    featuresexperiment\n",
    "end"
   ]
  },
  {
   "cell_type": "code",
   "execution_count": 8,
   "metadata": {
    "collapsed": true
   },
   "outputs": [],
   "source": [
    "###################################################################################\n",
    "###################################################################################\n",
    "########################                                ###########################\n",
    "########################       DEFINE FUNCTIONS         ###########################\n",
    "########################                                ###########################\n",
    "########################                                ##########################\n",
    "########################                                ##########################\n",
    "###################################################################################\n",
    "###################################################################################"
   ]
  },
  {
   "cell_type": "code",
   "execution_count": 9,
   "metadata": {},
   "outputs": [
    {
     "data": {
      "text/plain": [
       "place_activity (generic function with 1 method)"
      ]
     },
     "execution_count": 9,
     "metadata": {},
     "output_type": "execute_result"
    }
   ],
   "source": [
    "# Define the place activity :\n",
    "\n",
    "# this is a for loop and the other bit uses vectorial formulation \n",
    "# Define activity as a function of position \n",
    "###### !!!!!!! POSITIONS TO BE GIVEN IN THE SAME UNIT THAN SIGMA ###### !!!!!!!\n",
    "function place_activity(x,y,xpc,ypc,σ) # x,y 2 scalars the position of the rat, xpc,ypc 2 vectors posiions of all place cells\n",
    "    N=length(xpc); # N number of place cells \n",
    "    actplacecell=zeros(N,1); # define empty array of activity \n",
    "    \n",
    "    for k=1:N # k is the k-th place cell\n",
    "        actplacecell[k]=exp(-((x-xpc[k])^2+(y-ypc[k])^2)/(2σ^2));\n",
    "    end\n",
    "    return actplacecell\n",
    "end "
   ]
  },
  {
   "cell_type": "code",
   "execution_count": 10,
   "metadata": {},
   "outputs": [
    {
     "data": {
      "text/plain": [
       "placecells (generic function with 1 method)"
      ]
     },
     "execution_count": 10,
     "metadata": {},
     "output_type": "execute_result"
    }
   ],
   "source": [
    "# computes place cell activity with vectorial product \n",
    "\n",
    "function  placecells(position,centres,width)\n",
    "# PLACECELLS Calculates the activity of the place cells in the simulation.\n",
    "#\n",
    "# PLACECELLS(POSITION,CENTRES,WIDTH) calculates the activity of the place cells\n",
    "#in the simulation. The returned vector F is of length N, where N is the number of place\n",
    "#cells, and it contains the activity of each place cell given the simulated rat's current\n",
    "#POSITION (a 2 element column vector). The activity of the place cells is modelled as a\n",
    "#rate-of-fire (i.e. a scalar value) determined by a gaussian function. The CENTRES of the\n",
    "#gaussian functions are an argument, and must be a 2 x N matrix containing each place\n",
    "#cell's preferred location in 2D space. The WIDTH of the place cell fields must\n",
    "#also be provided as a scalar value (all place cells are assumed to have the same\n",
    "#width).\n",
    "#\n",
    "#The returned vector, F, must be a N element column vector.\n",
    "    \n",
    "    # calculate place cell activity\n",
    "F = exp.(-sum((repmat(position,1,size(centres,2))-centres).^2,1)/(2*width^2))';\n",
    "return F\n",
    "end\n"
   ]
  },
  {
   "cell_type": "code",
   "execution_count": 11,
   "metadata": {},
   "outputs": [
    {
     "data": {
      "text/plain": [
       "reward (generic function with 1 method)"
      ]
     },
     "execution_count": 11,
     "metadata": {},
     "output_type": "execute_result"
    }
   ],
   "source": [
    "# Calculate reward as a function of position \n",
    "function reward(x,y,xp,yp,r) # x,y position of the rat and xp,yp position of the platform, r radius of the platform\n",
    "    if (x-xp)^2+(y-yp)^2<= r^2 # if the rat is in the platform\n",
    "        R=1;\n",
    "    else # else \n",
    "        R=0;\n",
    "    end\n",
    "    return R;\n",
    "end"
   ]
  },
  {
   "cell_type": "code",
   "execution_count": 12,
   "metadata": {},
   "outputs": [
    {
     "data": {
      "text/plain": [
       "indice (generic function with 1 method)"
      ]
     },
     "execution_count": 12,
     "metadata": {},
     "output_type": "execute_result"
    }
   ],
   "source": [
    "# This function tells within wich index column is located x\n",
    "function indice(Acum,x) # x number, Acum vector\n",
    "    if x<Acum[1] # if the random number generated is before the first \n",
    "                return 1\n",
    "    end \n",
    "    for i=1:length(Acum)\n",
    "       if Acum[i-1]<x<=Acum[i]\n",
    "                return i\n",
    "       end\n",
    "    end \n",
    "end"
   ]
  },
  {
   "cell_type": "code",
   "execution_count": 13,
   "metadata": {
    "collapsed": true
   },
   "outputs": [],
   "source": [
    "###################################################################################\n",
    "################## GENERAL PARAMETERS THAT DONT CHANGE WITHIN TRIALS ##################\n",
    "###################################################################################\n",
    "\n",
    "# ELEMENTS WITH UNITS \n",
    "R=1 #100; # Radius of the circle in cm\n",
    "r=0.04; #5;# Radius of the platform  in cm\n",
    "radiussearchpref=0.2;# 20; # radius of the area in which we calculate searchpreference  \n",
    "\n",
    "speed=0.3; #30; # speed of the rat in cm.s-1 \n",
    "\n",
    "\n",
    "dt=0.1; # timestep in s \n",
    "# Different possible directions \n",
    "angles=[-3*pi/4, -2*pi/4, -pi/4, 0, pi/4, 2*pi/4, 3*pi/4, pi];\n",
    "\n",
    "\n",
    "# Trial characteristic :\n",
    "T=120; # maximal duration of a trial in seconds\n",
    "DeltaT=15; # Interval between trials in seconds  \n",
    "\n",
    "# Place cells \n",
    "N=493; # number of place cells \n",
    "σ=0.30*R; # variability of place cell activity, in proportion of the radius \n",
    "\n",
    "\n",
    "# Place cell : other method than the use of the sunflower section, generate random uniform centers and radius, \n",
    "# so place cells centers are more random than with the use of sunflower in which they are all eqidistqnt for \n",
    "# one another\n",
    "# initialize the centres of the place cells by random unifrom sampling across the pool :\n",
    "arguments= rand(1,N)*2*pi;\n",
    "radii= sqrt.(rand(1,N))*R;\n",
    "centres= [cos.(arguments).*radii; sin.(arguments).*radii]; \n",
    "Xplacecell=centres[1,:];\n",
    "Yplacecell=centres[2,:];\n",
    "\n",
    "\n",
    "# Action cells : \n",
    "n=8; # number of action cells \n",
    "\n",
    "\n",
    "# Potential positions of the platform : \n",
    "Xplatform=[0.3,0,-0.3,0,0.5,-0.5,0.5,-0.5].*R;  \n",
    "Yplatform=[0,0.3,0,-0.3,0.5,0.5,-0.5,-0.5].*R; \n",
    "\n",
    "# Potential Starting positions of the rat :\n",
    "Xstart=[0.90,0,-0.90,0].*R; # East, North, West, South\n",
    "Ystart=[0,0.90,0,-0.90].*R;\n",
    "\n",
    "# Define number of rats, number of days and numbers of trials per day\n",
    "numberofdays=1;\n",
    "numberofrats=10;\n",
    "numberoftrials=20;\n",
    "\n",
    "\n",
    "times=collect(0:dt:T+dt);"
   ]
  },
  {
   "cell_type": "code",
   "execution_count": 14,
   "metadata": {
    "collapsed": true
   },
   "outputs": [],
   "source": [
    "# Parameter that regulate the choice between former angle and new angle \n",
    "momentum=1.1;\n",
    "\n",
    "# Learning variables : \n",
    "γ=0.98; # Discount factor.  they dont precise the value  \n",
    "actorLR=0.1; # actor learning rate\n",
    "criticLR=0.01; # critic learning rate"
   ]
  },
  {
   "cell_type": "code",
   "execution_count": 21,
   "metadata": {
    "collapsed": true
   },
   "outputs": [],
   "source": [
    "#########################################################################\n",
    "#############          LOOP       1   EXPERIMENT FOR 1 DAY 1 RAT   ######################\n",
    "#########################################################################\n",
    "\n",
    "@time begin # get the time it takes to run it \n",
    "\n",
    "rats=Rat();\n",
    "# Save different parameters \n",
    "rats.parameters=[momentum,γ,actorLR,criticLR]; \n",
    "rats.featuresexperiment=[numberofrats, numberofdays, numberoftrials];\n",
    "\n",
    "\n",
    "for indexrat=1:numberofrats\n",
    "    \n",
    "currentexperiment=Experiment(); # Creating the experiment \n",
    "currentexperiment.PlaceCells=hcat(Xplacecell,Yplacecell); # Store location of place cells \n",
    "\n",
    "# Initialisation variables :\n",
    "criticweights=zeros(N,1); # weights between critic and place cells\n",
    "actorweights=zeros(N,n); # weights between actor and place cells\n",
    "    \n",
    "        ##########  ##########  ##########  ##########   ########## \n",
    "    ##########  ##########  START EXPERIMENT  ##########  ##########  \n",
    "        ##########  ##########  ##########  ##########   ########## \n",
    "\n",
    "# currentexperiment=Experiment(); # Creating the experiment \n",
    "#currentexperiment.PlaceCells=hcat(Xplacecell,Yplacecell); # Store location of place cells \n",
    "\n",
    "    for indexday=1:numberofdays\n",
    "            \n",
    "        # Everyday the location of the platform changes\n",
    "        # Chose platform :\n",
    "        indexplatform=rand(1:8); # generate random index between 1 and 8 (only 8 positions possible) \n",
    "        xp=Xplatform[indexplatform]; # take the ith platform position \n",
    "        yp=Yplatform[indexplatform]; \n",
    "\n",
    "        \n",
    "        currentday=Day(); # creating a day \n",
    "        currentday.Platform=hcat(xp,yp); # storing the position of the platform for this day  \n",
    "                    \n",
    "            ##########  ##########  ##########  ##########  \n",
    "        ##########  ##########  START DAY ##########  ##########  \n",
    "            ##########  ##########  ##########  ##########  \n",
    "       \n",
    "        for indextrial=1:numberoftrials ##########  \n",
    "            indextrial\n",
    "            \n",
    "            ## Chose starting position :\n",
    "                      \n",
    "            indexstart=rand(1:4); # generate random number between 1 and 4\n",
    "            positionstart=[Xstart[indexstart] Ystart[indexstart]]; # put the rat in the chosen position 1 East 2 North 3 West 4 South\n",
    "            \n",
    "            position=positionstart;\n",
    "            \n",
    "            # Initialize reward \n",
    "            re=0;\n",
    "            \n",
    "            # Initialise index  \n",
    "            k=1;\n",
    "            # initialise time \n",
    "            t=times[k];\n",
    "                \n",
    "            # initialise the storage of the trajectory within the trial \n",
    "            historyX=Float64[]; # for x coordinate\n",
    "            historyY=Float64[]; # for y coordinate \n",
    "\n",
    "            error=Float64[]; # initialise storage of the error within the trial\n",
    "            searchpref=0; # initialise serachpreference which is the counting of the time spent within the circle around the platform of radius radiussearchpref\n",
    "            arg=0; # define the angle        \n",
    "            timeout=0; # define the timeout parameter that tells if we are running out of time (at 120 seconds rats are put on the platform in which case we dont reinforce the action)        \n",
    "            prevdir=[0 0]; # initialise prevdir to smooth trajectory\n",
    "                \n",
    "                \n",
    "            ##########  ##########  ##########  ##########   ########## \n",
    "            ##########  ##########  START TRIAL ##########  ##########  \n",
    "            ##########  ##########  ##########  ##########   ########## \n",
    "            \n",
    "                while t<=T && re==0 # if we are not on the platform and if the time is less than the limit time \n",
    "    \n",
    "                        if t==T # if we are running out of time \n",
    "                            X=xp; # we put the rat on the platform\n",
    "                            Y=yp;\n",
    "                            position=[X Y];\n",
    "                            timeout=1; # if we put the rat on the platform then we dont reinforce the actor but only the critic\n",
    "                        end\n",
    "                        \n",
    "                        \n",
    "                    # Store former position to be able to draw trajectory\n",
    "                    push!(historyX,position[1]) # store position \n",
    "                    push!(historyY,position[2])\n",
    "                    \n",
    "                    \n",
    "                         ###  Compute reward ### \n",
    "                    re=reward(position[1],position[2],xp,yp,r); \n",
    "                    \n",
    "                         # compute new activity of pace cells :\n",
    "                    actplacecell=placecells([position[1],position[2]],centres,σ);\n",
    "                \n",
    "                    ### Compute Critic ###\n",
    "                    C=dot(criticweights,actplacecell); # current estimation of the future discounted reward \n",
    "                    \n",
    "                    ####### Take decision and move to new position : #######\n",
    "                    #  Compute action cell activity    \n",
    "                    actactioncell=transpose(actorweights)*actplacecell; # careful actorweights contains place cells in rows and action cells in column \n",
    "                        \n",
    "                        if maximum(actactioncell)>=100 # if its getting to big control it \n",
    "                            actactioncell=100.*actactioncell./maximum(actactioncell); \n",
    "                        end\n",
    "                    \n",
    "                    # Compute probability distribution : \n",
    "                    # 2 is like temperature.\n",
    "                    Pactioncell=exp.(2.*actactioncell)./sum(exp.(2.*actactioncell)); \n",
    " \n",
    "                    \n",
    "                    # Compute summed probability distribution:\n",
    "                    SumPactioncell=[sum(Pactioncell[1:k]) for k=1:length(Pactioncell)] # compute the vector of progressive sum\n",
    "\n",
    "                    # Compute summed probability distribution:\n",
    "                    # SumPactioncell=cumul(Pactioncell); # other possibility but first one better\n",
    "\n",
    "                    # Generate uniform number between 0 and 1 that we will compare with the elements of the cumulative probabilities:\n",
    "                    x=rand(); \n",
    "\n",
    "                    # now chose action: \n",
    "                    indexaction=indice(SumPactioncell,x); # Chose which action between the 8 possibilities\n",
    "                    argdecision=angles[indexaction]; # compute the coreesponding angle \n",
    "                    newdir=[cos(argdecision) sin(argdecision)]; # compute the direction it decided to go to\n",
    "                    dir=(newdir./(1.0+momentum).+momentum.*prevdir./(1.0+momentum)); # smooth trajectory to avoid sharp angles\n",
    "                    dir=dir./norm(dir); # normalize so we control the exact speed of the rat\n",
    "                    prevdir=dir; # store former direction\n",
    "                    \n",
    "              \n",
    "                    # Store former position \n",
    "                    formerposition=position; \n",
    "                    # Compute new position : \n",
    "                    position=position.+dt.*speed.*dir; \n",
    "                    \n",
    "                    # redefine X and Y in case we hit the walls (this would need improving)\n",
    "                    X=position[1];\n",
    "                    Y=position[2];\n",
    "                    Xf=formerposition[1];\n",
    "                    Yf=formerposition[2];\n",
    "                \n",
    "                    # We code walls as reflectors :\n",
    "                        if X^2+Y^2>R^2 # if we are out of the circle \n",
    "                            # find the position between former position and current position that is exactly on the circle :\n",
    "                            # Create Polynomial with a parameter lambda that represent the absciss along the segment between formerposition and newposition\n",
    "                            # search the value of lambda for which we are crossing the circle    \n",
    "                            polynom=Poly([Xf^2+Yf^2-R^2,2*X*Xf+2*Y*Yf-2*Xf^2-2*Yf^2,Xf^2+Yf^2+X^2+Y^2-2*X*Xf-2*Y*Yf]); # using poly creates a polynomial, coefficient are in order of increasing exposant \n",
    "                            # find the root of this polynomial that is between 0 and 1 \n",
    "                            λ=roots(polynom)[find(x -> 0<x <1,roots(polynom))];\n",
    "                            λ=maximum(λ); # to convert from array of float \n",
    "                            Xlambda=λ*X+(1-λ)Xf; # position of the point that is on the circle between the former position to the new position\n",
    "                            Ylambda=λ*Y+(1-λ)Yf; \n",
    "                            delta=norm([Xlambda-X,Ylambda-Y]); # distance of the point to Xlambda Ylambda\n",
    "                                \n",
    "                            \n",
    "                            # Find the intersection between the line starting from the newposition in the direction of Xlambda and Ylambda and the circle of centre Xlambda Ylambda of radius delta\n",
    "                            poly2=Poly([Y^2-2*Ylambda*Y+(Ylambda^2)+X^2-2*Xlambda*X+(Xlambda^2)-delta^2, -2*Ylambda*Y/R+2*Ylambda^2/R-2*Xlambda*X/R+2*Xlambda^2/R ,Ylambda^2/R^2+Xlambda^2/R^2]);\n",
    "            \n",
    "                            # Problem with root is the precision : sometimes the first root given is reaaally near the first point in which case we want the second root\n",
    "                            deplacement=maximum(roots(poly2)[find(x -> 0<x ,roots(poly2))]); \n",
    "                            \n",
    "                                \n",
    "                            # Compute new position : we just move following the inverse vector of Xlambda,Ylambda of the distance we computed\n",
    "                            Xnew=X-deplacement*Xlambda/R;\n",
    "                            Ynew=Y-deplacement*Ylambda/R;\n",
    "                            #X=-delta*cos(anglerotation)*cos(anglereflect)-delta*sin(anglerotation)*sin(anglereflect)+delta*sin(anglerotation)*cos(anglereflect)+delta*cos(anglerotation)*sin(anglereflect)+Xlambda;   \n",
    "                            #Y=-delta*sin(anglerotation)*cos(anglereflect)+delta*sin(anglerotation)*sin(anglereflect)-delta*cos(anglerotation)*cos(anglereflect)+delta*cos(anglerotation)*sin(anglereflect)+Ylambda;   \n",
    "                                if Xnew^2+Ynew^2>R^2 # if we are still out of the circle \n",
    "                                    println(\"we are still out\")\n",
    "                                    break\n",
    "                                end\n",
    "\n",
    "                            X=Xnew;\n",
    "                            Y=Ynew;\n",
    "                            position=[X Y];    \n",
    "                        end\n",
    "                    \n",
    "                    # If we are now at the very edge of the maze, move us in a little bit :\n",
    "                        if X^2+Y^2>=R^2\n",
    "                            eps=0.02;\n",
    "                            position = position.*(1-eps);\n",
    "                        end\n",
    "                \n",
    "                    # compute new activity of pace cells :\n",
    "                    actplacecell=placecells([position[1],position[2]],centres,σ);\n",
    "\n",
    "                        if re==1 # if we are on the platform \n",
    "                            Cnext=0;\n",
    "                        else # if we are not on the platform\n",
    "                            Cnext=dot(criticweights,actplacecell);# new estimation of the future discounted reward \n",
    "                        end \n",
    "                    \n",
    "                \n",
    "                    #### Compute error  ####\n",
    "                    err=re+γ*Cnext-C;\n",
    "  \n",
    "                    push!(error,err);\n",
    "                \n",
    "                \n",
    "                    ######### Compute new weights : ########\n",
    "                    \n",
    "                    # Actor weights :\n",
    "                        if timeout==0 # if the location we are in is thanks to our action \n",
    "                            G=zeros(8,1); # creating a matrix to select the row to update\n",
    "                            G[indexaction]=1; # indicating which row is to update \n",
    "                            actorweights=actorweights+actorLR.*err.*actplacecell*transpose(G);# updating the weights       \n",
    "                        end\n",
    "                    \n",
    "                    # Critic weights : \n",
    "                    criticweights=criticweights+criticLR.*err.*actplacecell;\n",
    "    \n",
    "                     ###### ####### ####### Updating search preference  ####### ####### #######\n",
    "                       if (X-xp)^2+(Y-yp)^2<= radiussearchpref^2          \n",
    "                           searchpref=searchpref+1*dt;\n",
    "                       end\n",
    "                     # going to next step\n",
    "                    k=k+1; # counting steps\n",
    "                    t=times[k]; # counting time\n",
    "                \n",
    "                ##################################################            \n",
    "                end\n",
    "\n",
    "                ########## ##########  END TRIAL ########## ##########             \n",
    "            \n",
    "            push!(historyX,position[1]) # Store the last position visited \n",
    "            push!(historyY,position[2])\n",
    "                        \n",
    "            ############### SAVING THE THINGS IN THE DIFFERENT CLASS ################\n",
    "            ## in creating a new trial type one should write Trial(Trajectory, latency, searchpreference, actionmap) # action map atm is just z, then it will be improved adding a new attribute being value map \n",
    "            \n",
    "            currenttrial=Trial(hcat(historyX,historyY),t,searchpref,actorweights,criticweights,error); # Creating the current trial with all its fields\n",
    "            \n",
    "            push!(currentday.trial,currenttrial) # Storing the current trial in the current day \n",
    "        \n",
    "        ##################################################     \n",
    "        end \n",
    "        ########## ##########  END DAY ########## ##########\n",
    "               \n",
    "        push!(currentexperiment.day,currentday) # Storing the current day in the current experiment \n",
    "                   \n",
    "    ##################################################     \n",
    "    end \n",
    "    ########## ##########  END EXPERIMENT ########## ##########\n",
    "\n",
    "push!(rats.experiment,currentexperiment) # Storing the current experiment in the rat's class\n",
    "\n",
    "##################################################     \n",
    "end \n",
    "########## ##########  END RATS ########## ###\n",
    "    \n",
    "    \n",
    "#end # end time "
   ]
  },
  {
   "cell_type": "code",
   "execution_count": 16,
   "metadata": {
    "collapsed": true
   },
   "outputs": [],
   "source": [
    "# Save the data so we can open them again or use them to plot \n",
    "using JLD: save \n",
    "\n",
    "save(\"./experiment.jld\", \"rats\", rats)"
   ]
  },
  {
   "cell_type": "code",
   "execution_count": null,
   "metadata": {
    "collapsed": true
   },
   "outputs": [],
   "source": []
  }
 ],
 "metadata": {
  "kernelspec": {
   "display_name": "Julia 0.6.0",
   "language": "julia",
   "name": "julia-0.6"
  },
  "language_info": {
   "file_extension": ".jl",
   "mimetype": "application/julia",
   "name": "julia",
   "version": "0.6.0"
  }
 },
 "nbformat": 4,
 "nbformat_minor": 2
}
