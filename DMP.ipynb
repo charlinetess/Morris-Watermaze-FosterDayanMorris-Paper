{
 "cells": [
  {
   "cell_type": "code",
   "execution_count": null,
   "metadata": {
    "collapsed": true
   },
   "outputs": [],
   "source": [
    "# This code is an implementation of the model proposed by Foster Dayan and Morris (Hippocampus, 2000). \n",
    "# This is the DMP algorithm in which every day the location of the platform changes and every trial the \n",
    "# start location of the rat changes. We can define the number of rats (= number of independant experiment \n",
    "# to perform statistics), the number of days and the number of trials per day. "
   ]
  },
  {
   "cell_type": "code",
   "execution_count": 1,
   "metadata": {
    "scrolled": true
   },
   "outputs": [],
   "source": [
    "using Polynomials"
   ]
  },
  {
   "cell_type": "code",
   "execution_count": 2,
   "metadata": {
    "collapsed": true
   },
   "outputs": [],
   "source": [
    "###################################################################################\n",
    "###################################################################################\n",
    "########################                                ###########################\n",
    "########################       DEFINE CLASSES           ###########################\n",
    "########################                                ###########################\n",
    "########################                                ##########################\n",
    "########################                                ##########################\n",
    "###################################################################################\n",
    "###################################################################################\n"
   ]
  },
  {
   "cell_type": "code",
   "execution_count": 3,
   "metadata": {
    "collapsed": true
   },
   "outputs": [],
   "source": [
    "type Trial\n",
    "    Trajectory\n",
    "    Latency\n",
    "    SearchPreference\n",
    "    ActionMap\n",
    "    Valuemap\n",
    "    Error\n",
    "end"
   ]
  },
  {
   "cell_type": "code",
   "execution_count": 4,
   "metadata": {
    "collapsed": true
   },
   "outputs": [],
   "source": [
    "type Day \n",
    "    trial::Any\n",
    "    Day()=new(Trial[]);\n",
    "    Platform::Any\n",
    "end"
   ]
  },
  {
   "cell_type": "code",
   "execution_count": 5,
   "metadata": {
    "collapsed": true
   },
   "outputs": [],
   "source": [
    "type Experiment \n",
    "    day::Any\n",
    "        Experiment()=new(Day[])\n",
    "\n",
    "    PlaceCells::Any\n",
    "end"
   ]
  },
  {
   "cell_type": "code",
   "execution_count": 6,
   "metadata": {
    "collapsed": true
   },
   "outputs": [],
   "source": [
    "type Rat\n",
    "    experiment::Any\n",
    "    Rat()=new(Experiment[])\n",
    "    parameters\n",
    "    featuresexperiment\n",
    "end"
   ]
  },
  {
   "cell_type": "code",
   "execution_count": 7,
   "metadata": {
    "collapsed": true
   },
   "outputs": [],
   "source": [
    "###################################################################################\n",
    "###################################################################################\n",
    "########################                                ###########################\n",
    "########################       DEFINE FUNCTIONS         ###########################\n",
    "########################                                ###########################\n",
    "########################                                ##########################\n",
    "########################                                ##########################\n",
    "###################################################################################\n",
    "###################################################################################\n"
   ]
  },
  {
   "cell_type": "code",
   "execution_count": 8,
   "metadata": {},
   "outputs": [
    {
     "data": {
      "text/plain": [
       "radius (generic function with 1 method)"
      ]
     },
     "execution_count": 8,
     "metadata": {},
     "output_type": "execute_result"
    }
   ],
   "source": [
    "#The algorithm places n points, of which the kth point is put at distance sqrt(k-1/2) from the boundary (index begins with k=1), and with polar angle 2*pi*k/phi^2 where phi is the golden ratio. Exception: the last alpha*sqrt(n) points are placed on the outer boundary of the circle, and the polar radius of other points is scaled to account for that. This computation of the polar radius is done in the function radius.\n",
    "\n",
    "function  radius(k,n,b) # k index of point on the boundary, n number of total points, b number of boundary points\n",
    "    if k>n-b\n",
    "        r = 1;            # put on the boundary\n",
    "    else\n",
    "        r = sqrt(k-1/2)/sqrt(n-(b+1)/2);     # computation of radius of the different points \n",
    "    end\n",
    "end\n",
    "\n"
   ]
  },
  {
   "cell_type": "code",
   "execution_count": 9,
   "metadata": {
    "collapsed": true
   },
   "outputs": [],
   "source": [
    "# sunflower seed arrangement :\n",
    "function sunflower(n, R, alpha)   # n number of centers,\n",
    "    # alpha is indicating how much one cares about the evenness of boundary , chose 2 to have nice trade off\n",
    "    # R is the radius of the circle in cm\n",
    "    r=Array{Any}( n);\n",
    "    theta=Array{Any}( n);\n",
    "    b = round(alpha*sqrt(n));      # number of boundary points\n",
    "    phi = (sqrt(5)+1)/2;           # golden ratio\n",
    "    \n",
    "    for k=1:n\n",
    "        r[k] = R*radius(k,n,b); # computation of the radius of each point \n",
    "        theta[k] = 2*pi*k/phi^2; # computation of the angle of each point \n",
    "        \n",
    "        #plot(r*cos.(theta), r*sin.(theta), \"m\");\n",
    "    end\n",
    "    # scatter(r.*cos.(theta), r.*sin.(theta));#, marker='o', \"m\");\n",
    "    X=r.*cos.(theta); \n",
    "    Y=r.*sin.(theta);\n",
    "    return hcat(X, Y)\n",
    "end\n",
    "\n",
    "Xplacecell=sunflower(493, 100, 2)[:,1];\n",
    "Yplacecell=sunflower(493, 100, 2)[:,2];"
   ]
  },
  {
   "cell_type": "code",
   "execution_count": 10,
   "metadata": {},
   "outputs": [
    {
     "data": {
      "text/plain": [
       "place_activity (generic function with 1 method)"
      ]
     },
     "execution_count": 10,
     "metadata": {},
     "output_type": "execute_result"
    }
   ],
   "source": [
    "# Define the place activity :\n",
    "\n",
    "# Define activity as a function of position \n",
    "###### !!!!!!! POSITIONS TO BE GIVEN IN THE SAME UNITE THAN THE SIGMA ###### !!!!!!!\n",
    "function place_activity(x,y,xpc,ypc,σ) # x,y 2 scalars the position of the rat, xpc,ypc 2 vectors posiions of all place cells\n",
    "    N=length(xpc); # N number of place cells \n",
    "    actplacecell=zeros(N,1); # define empty array of activity \n",
    "    \n",
    "    for k=1:N # k is the k-th place cell\n",
    "        actplacecell[k]=exp(-((x-xpc[k])^2+(y-ypc[k])^2)/(2σ^2));\n",
    "    end\n",
    "    return actplacecell\n",
    "end "
   ]
  },
  {
   "cell_type": "code",
   "execution_count": 11,
   "metadata": {},
   "outputs": [
    {
     "data": {
      "text/plain": [
       "placecells (generic function with 1 method)"
      ]
     },
     "execution_count": 11,
     "metadata": {},
     "output_type": "execute_result"
    }
   ],
   "source": [
    "function  placecells(position,centres,width)\n",
    "# PLACECELLS Calculates the activity of the place cells in the simulation.\n",
    "#\n",
    "#\tF = PLACECELLS(POSITION,CENTRES,WIDTH) calculates the activity of the place cells\n",
    "#\tin the simulation. The returned vector F is of length N, where N is the number of place\n",
    "#\tcells, and it contains the activity of each place cell given the simulated rat's current\n",
    "#\tPOSITION (a 2 element column vector). The activity of the place cells is modelled as a\n",
    "#\trate-of-fire (i.e. a scalar value) determined by a gaussian function. The CENTRES of the\n",
    "#\tgaussian functions are an argument, and must be a 2 x N matrix containing each place\n",
    "#\tcell's preferred location in 2D space. The WIDTH of the place cell fields must\n",
    "#\talso be provided as a scalar value (all place cells are assumed to have the same\n",
    "#\twidth).\n",
    "#\n",
    "#\tThe returned vector, F, must be a N element column vector.\n",
    "#\n",
    "#\tCode for BIO/NROD08 Assignment 2, Winter 2017\n",
    "#\tAuthor: Blake Richards, blake.richards@utoronto.ca\n",
    "\n",
    "\n",
    "# calculate the place cell activity\n",
    "F = exp.(-sum((repmat(position,1,size(centres,2))-centres).^2,1)/(2*width^2))';\n",
    "return F\n",
    "end\n"
   ]
  },
  {
   "cell_type": "code",
   "execution_count": 12,
   "metadata": {},
   "outputs": [
    {
     "data": {
      "text/plain": [
       "reward (generic function with 1 method)"
      ]
     },
     "execution_count": 12,
     "metadata": {},
     "output_type": "execute_result"
    }
   ],
   "source": [
    "# Calculate reward as a function of position \n",
    "function reward(x,y,xp,yp,r) # x,y position of the rat and xp,yp position of the platform, r radius of the platform\n",
    "    if (x-xp)^2+(y-yp)^2<= r^2 # if the rat is in the platform\n",
    "        R=1;\n",
    "    else # else \n",
    "        R=0;\n",
    "    end \n",
    "    \n",
    "end\n"
   ]
  },
  {
   "cell_type": "code",
   "execution_count": 13,
   "metadata": {
    "scrolled": false
   },
   "outputs": [
    {
     "data": {
      "text/plain": [
       "cumul (generic function with 1 method)"
      ]
     },
     "execution_count": 13,
     "metadata": {},
     "output_type": "execute_result"
    }
   ],
   "source": [
    "# Function to return the cumulative sum of the terms of a vector : \n",
    "function cumul(A) # A vector \n",
    "    Acum=Array{Any}(length(A));\n",
    "    for k=1:length(A)\n",
    "       Acum[k]=sum(A[1:k]);\n",
    "    \n",
    "    end\n",
    "    return Acum\n",
    "end"
   ]
  },
  {
   "cell_type": "code",
   "execution_count": 14,
   "metadata": {},
   "outputs": [
    {
     "data": {
      "text/plain": [
       "indice (generic function with 1 method)"
      ]
     },
     "execution_count": 14,
     "metadata": {},
     "output_type": "execute_result"
    }
   ],
   "source": [
    "# This function tells within wich index column is located x\n",
    "function indice(Acum,x) # x number, Acum vector\n",
    "    \n",
    "    for i=1:length(Acum)\n",
    "       if i==1\n",
    "           if x<Acum[i]\n",
    "                return i\n",
    "            end\n",
    "        else\n",
    "            if Acum[i-1]<x<=Acum[i]\n",
    "                return i\n",
    "            end\n",
    "        end\n",
    "    end  \n",
    "        \n",
    "end"
   ]
  },
  {
   "cell_type": "code",
   "execution_count": 15,
   "metadata": {
    "collapsed": true
   },
   "outputs": [],
   "source": [
    "###################################################################################\n",
    "################## GENERAL THINGS THAT DONT CHANGE WITHIN TRIALS ##################\n",
    "###################################################################################\n",
    "\n",
    "# Creating the circle and the place cells:\n",
    "center=[0,0];\n",
    "R= 100; # Radius of the circle in cm\n",
    "r=5;# Radius of the platform  in cm\n",
    "radiussearchpref=20; # radius of the area in which we calculate searchpreference \n",
    "\n",
    "# Motion characteristic \n",
    "dt=0.1; # timestep in s \n",
    "speed=30; # speed of the rat in cm.s-1\n",
    "# Different possible directions \n",
    "angles=[-3*pi/4, -2*pi/4, -pi/4, 0, pi/4, 2*pi/4, 3*pi/4, pi];\n",
    "\n",
    "\n",
    "# Trial characteristic :\n",
    "T=120; # maximal duration of a trial in seconds\n",
    "DeltaT=15; # Interval between trials in seconds  \n",
    "\n",
    "# Place cells \n",
    "N=493; # number of place cells \n",
    "Xplacecell=sunflower(N,R,2)[:,1]; # absciss place cells  \n",
    "Yplacecell=sunflower(N,R,2)[:,2]; # y place cells \n",
    "\n",
    "\n",
    "# Place cell : method used by Blake richards \n",
    "# initialize the centres of the place cells by random unifrom sampling across the pool\n",
    "arguments= rand(1,N)*2*pi;\n",
    "radii= sqrt.(rand(1,N))*R;\n",
    "centres= [cos.(arguments).*radii; sin.(arguments).*radii]; \n",
    "Xplacecell=centres[1,:];\n",
    "Yplacecell=centres[2,:];\n",
    "\n",
    "σ=0.30*100; # variability of place cell activity, in centimeters\n",
    "\n",
    "\n",
    "# Action cells : \n",
    "n=8; # number of action cells \n",
    "\n",
    "\n",
    "# Potential positions of the platform : \n",
    "Xplatform=[0.3,0,-0.3,0,0.5,-0.5,0.5,-0.5].*R; # in cm\n",
    "Yplatform=[0,0.3,0,-0.3,0.5,0.5,-0.5,-0.5].*R;# in cm\n",
    "\n",
    "# Potential Starting positions of the rat :\n",
    "Xstart=[0.95,0,-0.95,0].*R; # East, North, West, South\n",
    "Ystart=[0,0.95,0,-0.95].*R;\n",
    "\n",
    "# Define number of rats, number of days and numbers of trials per day\n",
    "numberofdays=1;\n",
    "numberofrats=10;\n",
    "numberoftrials=20;\n",
    "\n",
    "\n",
    "times=collect(0:dt:T+dt);"
   ]
  },
  {
   "cell_type": "code",
   "execution_count": 16,
   "metadata": {
    "collapsed": true
   },
   "outputs": [],
   "source": [
    "\n",
    "# Parameter that regulate the choice between former angle and new angle \n",
    "momentum=1.0;\n",
    "\n",
    "\n",
    "\n",
    "# Learning variables : \n",
    "γ=0.98; # Discount factor.  they dont precise the value  \n",
    "Z=0.1; # actor learning rate\n",
    "W=0.01; # critic learning rate"
   ]
  },
  {
   "cell_type": "code",
   "execution_count": 17,
   "metadata": {},
   "outputs": [
    {
     "name": "stdout",
     "output_type": "stream",
     "text": [
      "start of experiments\n",
      " 31.861418 seconds (156.28 M allocations: 16.409 GiB, 5.63% gc time)\n"
     ]
    }
   ],
   "source": [
    "#########################################################################\n",
    "#############          LOOP       1   EXPERIMENT FOR 1 DAY 1 RAT   ######################\n",
    "#########################################################################\n",
    "\n",
    "@time begin # get the time it takes to run it \n",
    "\n",
    "rats=Rat();\n",
    "rats.parameters=[momentum,γ,Z,W]; # Save different parameters \n",
    "rats.featuresexperiment=[numberofrats, numberofdays, numberoftrials];\n",
    "\n",
    "    \n",
    "println(\"start of experiments\")\n",
    "\n",
    "for indexrat=1:numberofrats\n",
    "    \n",
    "currentexperiment=Experiment(); # Creating the experiment \n",
    "currentexperiment.PlaceCells=hcat(Xplacecell,Yplacecell); # Store location of place cells \n",
    "\n",
    "# Initialisation variables :\n",
    "w=zeros(N,1);\n",
    "z=zeros(N,n);    \n",
    "    \n",
    "        ##########  ##########  ##########  ##########   ########## \n",
    "    ##########  ##########  START EXPERIMENT  ##########  ##########  \n",
    "        ##########  ##########  ##########  ##########   ########## \n",
    "\n",
    "# currentexperiment=Experiment(); # Creating the experiment \n",
    "#currentexperiment.PlaceCells=hcat(Xplacecell,Yplacecell); # Store location of place cells \n",
    "\n",
    "    for indexday=1:numberofdays\n",
    "        # Everyday the location of the platform changes\n",
    "        # Chose platform :\n",
    "        #indexplatform=rand(1:8); # take ith platform \n",
    "        #xp=Xplatform[indexplatform];\n",
    "        #yp=Yplatform[indexplatform]; \n",
    "        xp=40;\n",
    "        yp=40;\n",
    "        \n",
    "        currentday=Day(); # creating a day \n",
    "        currentday.Platform=hcat(xp,yp);  \n",
    "                    \n",
    "            ##########  ##########  ##########  ##########  \n",
    "        ##########  ##########  START DAY ##########  ##########  \n",
    "            ##########  ##########  ##########  ##########  \n",
    "\n",
    "        \n",
    "        for indextrial=1:numberoftrials ##########  \n",
    "            \n",
    "            ## Chose starting position :\n",
    "            #        \n",
    "            #indexstart=rand(1:4); # take indexstart-th starting position : chose randomnly between 4 possibilities 1 East 2 North 3 West 4 South\n",
    "            #position=[Xstart[indexstart] Ystart[indexstart]];\n",
    "            \n",
    "            # Chose starting position :\n",
    "                      \n",
    "            indexstart=rand(1:4); # take indexstart-th starting position : chose randomnly between 4 possibilities 1 East 2 North 3 West 4 South\n",
    "            positionstart=[Xstart[indexstart] Ystart[indexstart]];\n",
    "            \n",
    "            position=positionstart;\n",
    "            \n",
    "            # Initialize reward \n",
    "            re=0;\n",
    "            \n",
    "            # Initialise index to save the trajectory and the values \n",
    "            k=1;\n",
    "            # initialise time \n",
    "            t=times[k];\n",
    "            historyX=Float64[];\n",
    "            historyY=Float64[];\n",
    "            #valuemap=Float64[];\n",
    "            error=Float64[];\n",
    "            searchpref=0;\n",
    "            arg=0;        \n",
    "            timeout=0;        \n",
    "            prevdir=[0 0];    \n",
    "            ##########  ##########  ##########  ##########   ########## \n",
    "            ##########  ##########  START TRIAL ##########  ##########  \n",
    "            ##########  ##########  ##########  ##########   ########## \n",
    "            \n",
    "                while t<=T && re==0\n",
    "    \n",
    "                        if t==T\n",
    "                            X=xp;\n",
    "                            Y=yp;\n",
    "                            position=[X Y];\n",
    "                            timeout=1; # if we have to put the rat on the platform then we dont reinforce the actor but only the critic\n",
    "                        end\n",
    "                        \n",
    "                        \n",
    "                    # Store former position to be able to draw trajectory\n",
    "                    push!(historyX,position[1]) \n",
    "                    push!(historyY,position[2])\n",
    "                    \n",
    "                    \n",
    "                         ###  Compute reward ### \n",
    "                    re=reward(position[1],position[2],xp,yp,r); \n",
    "                    \n",
    "                         # compute new activity of pace cells :\n",
    "                    # actplacecell=place_activity(position[1],position[2],Xplacecell,Yplacecell,σ); # this function is wrong \n",
    "                    actplacecell=placecells([position[1],position[2]],centres,σ);\n",
    "                \n",
    "                    ### Compute Critic ###\n",
    "                    C=dot(w,actplacecell); # current estimation of the future discounted reward \n",
    "                    \n",
    "                    ####### Take decision and move to new position : ########\n",
    "                    # Compute the activity of action cells \n",
    "    \n",
    "                    #  Compute action cell activity    \n",
    "                    actactioncell=transpose(z)*actplacecell; # careful z contains place cells in rows and action cells in column \n",
    "                        if maximum(actactioncell)>=100\n",
    "                            actactioncell=100.*actactioncell./maximum(actactioncell); \n",
    "                        end\n",
    "                    \n",
    "                    # Compute probability distribution : \n",
    "                    Pactioncell=exp.(2.*actactioncell)./sum(exp.(2.*actactioncell)); \n",
    "                    # be sure it does not give rise to errors by thrsholding to the maximum number allowed\n",
    "                    #     for c in 1:length(Pactioncell)\n",
    "                    #          if Pactioncell[c]==Inf\n",
    "                    #                  Pactioncell[c]=realmax(Float64)-100;\n",
    "                    #            elseif isnan(Pactioncell[c])\n",
    "                    #                Pactioncell[c]=realmax(Float64)-100;\n",
    "                    #           end\n",
    "                    #      end\n",
    "                    #\n",
    "                \n",
    "                    # Compute summed probability distribution:\n",
    "                    SumPactioncell=cumul(Pactioncell);\n",
    "                    # Generate uniform number between 0 and 1 :\n",
    "                    x=rand();\n",
    "                    # println(SumPactioncell)\n",
    "                    # now chose action: \n",
    "                    indexaction=indice(SumPactioncell,x); # Chose which action between the 8 psosibilities\n",
    "                    argdecision=angles[indexaction]; # compute the coreesponding angle \n",
    "                    newdir=[cos(argdecision) sin(argdecision)];\n",
    "                    dir=(newdir./(1.0+momentum).+momentum.*prevdir./(1.0+momentum));\n",
    "                    prevdir=dir;\n",
    "                    # arg=α*formerarg+β*argdecision; # to constrain the angle to prevent from sharp angles\n",
    "                    # arg=argdecision; # not good because angles too sharp\n",
    "                    # Store former position \n",
    "                    formerposition=position;\n",
    "                    # Compute new position : \n",
    "                    position=position.+dt.*speed.*dir; \n",
    "                    \n",
    "                    X=position[1];\n",
    "                    Y=position[2];\n",
    "                    Xf=formerposition[1];\n",
    "                    Yf=formerposition[2];\n",
    "                \n",
    "                    # We code walls as reflectors :\n",
    "                        if X^2+Y^2>R^2 # if we are out of the circle \n",
    "                            # find the position between former position and current position that is exactly on the circle :\n",
    "                            # Create Polynomial with a parameter lambda that represent the absciss along the segment\n",
    "                            # search the value of lambda for which we are crossing the circle    \n",
    "                            polynom=Poly([Xf^2+Yf^2-R^2,2*X*Xf+2*Y*Yf-2*Xf^2-2*Yf^2,Xf^2+Yf^2+X^2+Y^2-2*X*Xf-2*Y*Yf]); # using poly creates a polynomial, coefficient are in order of increasing exposant \n",
    "                            # find the root of this polynomial that is between 0 and 1 (there is just one by I dont know which theorem)\n",
    "                            λ=roots(polynom)[find(x -> 0<x <1,roots(polynom))];\n",
    "                            λ=maximum(λ); # to convert from array of float to float \n",
    "                            Xlambda=λ*X+(1-λ)Xf; # position of the point that is on the circle \n",
    "                            Ylambda=λ*Y+(1-λ)Yf;\n",
    "                            delta=norm([Xlambda-X,Ylambda-Y]); # distance of the point to Xlambda Ylambda\n",
    "                                \n",
    "                            #anglereflect=acos(dot([Xlambda, Ylambda],[Xf-Xlambda,Yf-Ylambda])/(norm([Xlambda, Ylambda])*norm([Xf-Xlambda,Yf-Ylambda]))); # compute the angle between the former position and the radius linking the point in the circle to the center \n",
    "                            #anglerotation=acos(Xlambda/norm([Xlambda, Ylambda])); # angle of rotation to calculate the new coordonnee, angle between the point in the circle and the x axis\n",
    "                            # Find the intersection between the line starting from X,Y in the direction of Xlambda and Ylambda and the circle of centre Xlambda Ylambda of radius delta\n",
    "                            poly2=Poly([Y^2-2*Ylambda*Y+(Ylambda^2)+X^2-2*Xlambda*X+(Xlambda^2)-delta^2, -2*Ylambda*Y/R+2*Ylambda^2/R-2*Xlambda*X/R+2*Xlambda^2/R ,Ylambda^2/R^2+Xlambda^2/R^2]);\n",
    "            \n",
    "                            # Problem with root is the precision : sometimes the first root given is reaaally near the first point in which case we want the second root\n",
    "                            deplacement=maximum(roots(poly2)[find(x -> 0<x ,roots(poly2))]); \n",
    "                            \n",
    "                                \n",
    "                            # Compute new position : we just move following the inverse vector of Xlambda,Ylambda of the distance we computed\n",
    "                            Xnew=X-deplacement*Xlambda/R;\n",
    "                            Ynew=Y-deplacement*Ylambda/R;\n",
    "                            #X=-delta*cos(anglerotation)*cos(anglereflect)-delta*sin(anglerotation)*sin(anglereflect)+delta*sin(anglerotation)*cos(anglereflect)+delta*cos(anglerotation)*sin(anglereflect)+Xlambda;   \n",
    "                            #Y=-delta*sin(anglerotation)*cos(anglereflect)+delta*sin(anglerotation)*sin(anglereflect)-delta*cos(anglerotation)*cos(anglereflect)+delta*cos(anglerotation)*sin(anglereflect)+Ylambda;   \n",
    "                                if Xnew^2+Ynew^2>R^2 # if we are still out of the circle \n",
    "                                    println(\"we are still out\")\n",
    "                                    break\n",
    "                                end\n",
    "\n",
    "                            X=Xnew;\n",
    "                            Y=Ynew;\n",
    "                            position=[X Y];    \n",
    "                        end\n",
    "                    \n",
    "                    # If we are now at the very edge of the maze, move us in a little bit :\n",
    "                        if X^2+Y^2==R^2\n",
    "                            position = (position./(X^2+Y^2))*(R - 1);\n",
    "                        end\n",
    "                \n",
    "                    # compute new activity of pace cells :\n",
    "                    # actplacecell=place_activity(position[1],position[2],Xplacecell,Yplacecell,σ);\n",
    "                    actplacecell=placecells([position[1],position[2]],centres,σ);\n",
    "\n",
    "                        if re==1 # if we are on the platform \n",
    "                           ###  Compute error ###\n",
    "                            Cnext=0;\n",
    "                        else \n",
    "                            Cnext=dot(w,actplacecell);# new estimation of the future discounted reward \n",
    "                        end \n",
    "                    \n",
    "                \n",
    "                    #### Compute error  ####\n",
    "                    err=re+γ*Cnext-C;\n",
    "                    \n",
    "               # if re==1\n",
    "               #     println(\"timeout is $(timeout)\")\n",
    "               #     println(\"error is $(err)\") \n",
    "               #     println(\"C is $(C)\")\n",
    "               # end\n",
    "               #     # save error\n",
    "                    push!(error,err);\n",
    "                \n",
    "                \n",
    "                    ######### Compute new weights : ########\n",
    "                        if timeout==0\n",
    "                            G=zeros(8,1);\n",
    "                            G[indexaction]=1;\n",
    "                            # weights between action cells and place cells only reinforced when the rats actually found the platform\n",
    "                            # z[:,indexaction]=z[:,indexaction]+Z.*err.*actplacecell; # only the weights between place cells and the action taken are updated\n",
    "                            z=z+Z.*err.*actplacecell*transpose(G);       \n",
    "                        end\n",
    "                    \n",
    "                    # weights between critic and place cells :\n",
    "                    # Save value to draw valuemap\n",
    "                    # push!(valuemap,w);\n",
    "                    w=w+W.*err.*actplacecell;\n",
    "    \n",
    "                     ####### ####### ####### Updating search preference  ####### ####### #######\n",
    "                        if (X-xp)^2+(Y-yp)^2<= radiussearchpref^2          \n",
    "                            searchpref=searchpref+1*dt;\n",
    "                        end\n",
    "\n",
    "                    k=k+1;\n",
    "                    t=times[k];\n",
    "                \n",
    "                ##################################################            \n",
    "                end\n",
    "\n",
    "                ########## ##########  END TRIAL ########## ##########             \n",
    "            \n",
    "            push!(historyX,position[1]) # Store the last position visited \n",
    "            push!(historyY,position[2])\n",
    "            # push!(valuemap,w)\n",
    "                        \n",
    "            ############### SAVING THE THINGS IN THE DIFFERENT CLASS ################\n",
    "            ## in creating a new trial type one should write Trial(Trajectory, latency, searchpreference, actionmap) # action map atm is just z, then it will be improved adding a new attribute being value map \n",
    "            \n",
    "            currenttrial=Trial(hcat(historyX,historyY),t,searchpref,z,w,error); # Creating the current trial with all its fields\n",
    "            \n",
    "            push!(currentday.trial,currenttrial) # Storing it in the current day \n",
    "        \n",
    "        ##################################################     \n",
    "        end \n",
    "        ########## ##########  END DAY ########## ##########\n",
    "        \n",
    "        \n",
    "        push!(currentexperiment.day,currentday) # Storing the current day in the current experiment \n",
    "        \n",
    "            \n",
    "    ##################################################     \n",
    "    end \n",
    "    ########## ##########  END EXPERIMENT ########## ##########\n",
    "\n",
    "push!(rats.experiment,currentexperiment) # Storing the current experiment in the rat's class\n",
    "\n",
    "##################################################     \n",
    "end \n",
    "########## ##########  END RATS ########## ###\n",
    "    \n",
    "    \n",
    "end # end time "
   ]
  },
  {
   "cell_type": "code",
   "execution_count": 18,
   "metadata": {
    "collapsed": true
   },
   "outputs": [],
   "source": [
    "# Save the data so we can open them again or use them to plot \n",
    "\n",
    "\n",
    "using JLD: save \n",
    "\n",
    "save(\"/Users/pmxct2/Documents/FosterDayanMorris/experiment.jld\", \"rats\", rats)"
   ]
  },
  {
   "cell_type": "code",
   "execution_count": null,
   "metadata": {
    "collapsed": true
   },
   "outputs": [],
   "source": []
  }
 ],
 "metadata": {
  "kernelspec": {
   "display_name": "Julia 0.6.0",
   "language": "julia",
   "name": "julia-0.6"
  },
  "language_info": {
   "file_extension": ".jl",
   "mimetype": "application/julia",
   "name": "julia",
   "version": "0.6.0"
  }
 },
 "nbformat": 4,
 "nbformat_minor": 2
}
