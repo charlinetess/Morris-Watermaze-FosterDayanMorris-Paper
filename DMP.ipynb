{
 "cells": [
  {
   "cell_type": "code",
   "execution_count": 1,
   "metadata": {
    "collapsed": true
   },
   "outputs": [],
   "source": [
    "# This code is an implementation of the model proposed by Foster Dayan and Morris (Hippocampus, 2000). \n",
    "# This is the DMP algorithm in which every day the location of the platform changes and every trial the \n",
    "# start location of the rat changes. We can define the number of rats (= number of independant experiment \n",
    "# to perform statistics), the number of days and the number of trials per day. "
   ]
  },
  {
   "cell_type": "code",
   "execution_count": 2,
   "metadata": {
    "collapsed": true,
    "scrolled": true
   },
   "outputs": [],
   "source": [
    "using Polynomials"
   ]
  },
  {
   "cell_type": "code",
   "execution_count": 3,
   "metadata": {
    "collapsed": true
   },
   "outputs": [],
   "source": [
    "###################################################################################\n",
    "###################################################################################\n",
    "########################                                ###########################\n",
    "########################       DEFINE CLASSES           ###########################\n",
    "########################                                ###########################\n",
    "########################                                ##########################\n",
    "########################                                ##########################\n",
    "###################################################################################\n",
    "###################################################################################\n"
   ]
  },
  {
   "cell_type": "code",
   "execution_count": 4,
   "metadata": {
    "collapsed": true
   },
   "outputs": [],
   "source": [
    "type Trial\n",
    "    Trajectory\n",
    "    Latency\n",
    "    SearchPreference\n",
    "    ActionMap\n",
    "    Valuemap\n",
    "    Error\n",
    "end"
   ]
  },
  {
   "cell_type": "code",
   "execution_count": 5,
   "metadata": {
    "collapsed": true
   },
   "outputs": [],
   "source": [
    "type Day \n",
    "    trial::Any\n",
    "    Day()=new(Trial[]);\n",
    "    Platform::Any\n",
    "end"
   ]
  },
  {
   "cell_type": "code",
   "execution_count": 6,
   "metadata": {
    "collapsed": true
   },
   "outputs": [],
   "source": [
    "type Experiment \n",
    "    day::Any\n",
    "        Experiment()=new(Day[])\n",
    "\n",
    "    PlaceCells::Any\n",
    "end"
   ]
  },
  {
   "cell_type": "code",
   "execution_count": 7,
   "metadata": {
    "collapsed": true
   },
   "outputs": [],
   "source": [
    "type Rat\n",
    "    experiment::Any\n",
    "    Rat()=new(Experiment[])\n",
    "    parameters\n",
    "    featuresexperiment\n",
    "end"
   ]
  },
  {
   "cell_type": "code",
   "execution_count": 8,
   "metadata": {
    "collapsed": true
   },
   "outputs": [],
   "source": [
    "###################################################################################\n",
    "###################################################################################\n",
    "########################                                ###########################\n",
    "########################       DEFINE FUNCTIONS         ###########################\n",
    "########################                                ###########################\n",
    "########################                                ##########################\n",
    "########################                                ##########################\n",
    "###################################################################################\n",
    "###################################################################################\n"
   ]
  },
  {
   "cell_type": "code",
   "execution_count": 9,
   "metadata": {},
   "outputs": [
    {
     "data": {
      "text/plain": [
       "radius (generic function with 1 method)"
      ]
     },
     "execution_count": 9,
     "metadata": {},
     "output_type": "execute_result"
    }
   ],
   "source": [
    "# define place cells, not used anymore, now just see the \"things that dont change within trials\" part\n",
    "\n",
    "#The algorithm places n points, of which the kth point is put at distance sqrt(k-1/2) from the boundary (index begins with k=1), and with polar angle 2*pi*k/phi^2 where phi is the golden ratio. Exception: the last alpha*sqrt(n) points are placed on the outer boundary of the circle, and the polar radius of other points is scaled to account for that. This computation of the polar radius is done in the function radius.\n",
    "\n",
    "function  radius(k,n,b) # k index of point on the boundary, n number of total points, b number of boundary points\n",
    "    if k>n-b\n",
    "        r = 1;            # put on the boundary\n",
    "    else\n",
    "        r = sqrt(k-1/2)/sqrt(n-(b+1)/2);     # computation of radius of the different points \n",
    "    end\n",
    "end\n",
    "\n"
   ]
  },
  {
   "cell_type": "code",
   "execution_count": 10,
   "metadata": {},
   "outputs": [
    {
     "data": {
      "text/plain": [
       "sunflower (generic function with 1 method)"
      ]
     },
     "execution_count": 10,
     "metadata": {},
     "output_type": "execute_result"
    }
   ],
   "source": [
    "# define place cells, not used anymore, now just see the \"things that dont change within trials\" part\n",
    "\n",
    "\n",
    "# sunflower seed arrangement :\n",
    "function sunflower(n, R, alpha)   # n number of centers,\n",
    "    # alpha is indicating how much one cares about the evenness of boundary , chose 2 to have nice trade off\n",
    "    # R is the radius of the circle in cm\n",
    "    r=Array{Any}( n);\n",
    "    theta=Array{Any}( n);\n",
    "    b = round(alpha*sqrt(n));      # number of boundary points\n",
    "    phi = (sqrt(5)+1)/2;           # golden ratio\n",
    "    \n",
    "    for k=1:n\n",
    "        r[k] = R*radius(k,n,b); # computation of the radius of each point \n",
    "        theta[k] = 2*pi*k/phi^2; # computation of the angle of each point \n",
    "        \n",
    "        #plot(r*cos.(theta), r*sin.(theta), \"m\");\n",
    "    end\n",
    "    # scatter(r.*cos.(theta), r.*sin.(theta));#, marker='o', \"m\");\n",
    "    X=r.*cos.(theta); \n",
    "    Y=r.*sin.(theta);\n",
    "    return hcat(X, Y)\n",
    "end\n"
   ]
  },
  {
   "cell_type": "code",
   "execution_count": 11,
   "metadata": {},
   "outputs": [
    {
     "data": {
      "text/plain": [
       "place_activity (generic function with 1 method)"
      ]
     },
     "execution_count": 11,
     "metadata": {},
     "output_type": "execute_result"
    }
   ],
   "source": [
    "# Define the place activity :\n",
    "\n",
    "# this is a for loop and the other bit uses vectorial formulation \n",
    "# Define activity as a function of position \n",
    "###### !!!!!!! POSITIONS TO BE GIVEN IN THE SAME UNIT THAN SIGMA ###### !!!!!!!\n",
    "function place_activity(x,y,xpc,ypc,σ) # x,y 2 scalars the position of the rat, xpc,ypc 2 vectors posiions of all place cells\n",
    "    N=length(xpc); # N number of place cells \n",
    "    actplacecell=zeros(N,1); # define empty array of activity \n",
    "    \n",
    "    for k=1:N # k is the k-th place cell\n",
    "        actplacecell[k]=exp(-((x-xpc[k])^2+(y-ypc[k])^2)/(2σ^2));\n",
    "    end\n",
    "    return actplacecell\n",
    "end "
   ]
  },
  {
   "cell_type": "code",
   "execution_count": 12,
   "metadata": {},
   "outputs": [
    {
     "data": {
      "text/plain": [
       "placecells (generic function with 1 method)"
      ]
     },
     "execution_count": 12,
     "metadata": {},
     "output_type": "execute_result"
    }
   ],
   "source": [
    "# computes place cell activity with vectorial product \n",
    "\n",
    "function  placecells(position,centres,width)\n",
    "# PLACECELLS Calculates the activity of the place cells in the simulation.\n",
    "#\n",
    "# PLACECELLS(POSITION,CENTRES,WIDTH) calculates the activity of the place cells\n",
    "#in the simulation. The returned vector F is of length N, where N is the number of place\n",
    "#cells, and it contains the activity of each place cell given the simulated rat's current\n",
    "#POSITION (a 2 element column vector). The activity of the place cells is modelled as a\n",
    "#rate-of-fire (i.e. a scalar value) determined by a gaussian function. The CENTRES of the\n",
    "#gaussian functions are an argument, and must be a 2 x N matrix containing each place\n",
    "#cell's preferred location in 2D space. The WIDTH of the place cell fields must\n",
    "#also be provided as a scalar value (all place cells are assumed to have the same\n",
    "#width).\n",
    "#\n",
    "#The returned vector, F, must be a N element column vector.\n",
    "    \n",
    "    # calculate place cell activity\n",
    "F = exp.(-sum((repmat(position,1,size(centres,2))-centres).^2,1)/(2*width^2))';\n",
    "return F\n",
    "end\n"
   ]
  },
  {
   "cell_type": "code",
   "execution_count": 13,
   "metadata": {},
   "outputs": [
    {
     "data": {
      "text/plain": [
       "reward (generic function with 1 method)"
      ]
     },
     "execution_count": 13,
     "metadata": {},
     "output_type": "execute_result"
    }
   ],
   "source": [
    "# Calculate reward as a function of position \n",
    "function reward(x,y,xp,yp,r) # x,y position of the rat and xp,yp position of the platform, r radius of the platform\n",
    "    if (x-xp)^2+(y-yp)^2<= r^2 # if the rat is in the platform\n",
    "        R=1;\n",
    "    else # else \n",
    "        R=0;\n",
    "    end \n",
    "end\n"
   ]
  },
  {
   "cell_type": "code",
   "execution_count": 14,
   "metadata": {
    "scrolled": false
   },
   "outputs": [
    {
     "data": {
      "text/plain": [
       "cumul (generic function with 1 method)"
      ]
     },
     "execution_count": 14,
     "metadata": {},
     "output_type": "execute_result"
    }
   ],
   "source": [
    "# Function to return the cumulative sum of the terms of a vector : \n",
    "\n",
    "# Not used anymore, as there are really simpler ways to define vectors in julia \n",
    "function cumul(A) # A vector \n",
    "    Acum=Array{Any}(length(A));\n",
    "    for k=1:length(A)\n",
    "       Acum[k]=sum(A[1:k]);\n",
    "    \n",
    "    end\n",
    "    return Acum\n",
    "end"
   ]
  },
  {
   "cell_type": "code",
   "execution_count": 15,
   "metadata": {},
   "outputs": [
    {
     "data": {
      "text/plain": [
       "indice (generic function with 1 method)"
      ]
     },
     "execution_count": 15,
     "metadata": {},
     "output_type": "execute_result"
    }
   ],
   "source": [
    "# This function tells within wich index column is located x\n",
    "function indice(Acum,x) # x number, Acum vector\n",
    "    \n",
    "    for i=1:length(Acum)\n",
    "       if i==1\n",
    "           if x<Acum[i] # if the random number generated is before the first \n",
    "                return i\n",
    "            end\n",
    "        else\n",
    "            if Acum[i-1]<x<=Acum[i]\n",
    "                return i\n",
    "            end\n",
    "        end\n",
    "    end  \n",
    "        \n",
    "end"
   ]
  },
  {
   "cell_type": "code",
   "execution_count": 16,
   "metadata": {
    "collapsed": true
   },
   "outputs": [],
   "source": [
    "###################################################################################\n",
    "################## GENERAL PARAMETERS THAT DONT CHANGE WITHIN TRIALS ##################\n",
    "###################################################################################\n",
    "\n",
    "\n",
    "\n",
    "\n",
    "# ELEMENTS WITH UNITS \n",
    "R= 1; # Radius of the circle in cm\n",
    "r=0.05;# Radius of the platform  in cm\n",
    "radiussearchpref=0.20; # radius of the area in which we calculate searchpreference  \n",
    "\n",
    "speed=0.30; # speed of the rat in cm.s-1 \n",
    "\n",
    "\n",
    "dt=0.1; # timestep in s \n",
    "# Different possible directions \n",
    "angles=[-3*pi/4, -2*pi/4, -pi/4, 0, pi/4, 2*pi/4, 3*pi/4, pi];\n",
    "\n",
    "\n",
    "# Trial characteristic :\n",
    "T=120; # maximal duration of a trial in seconds\n",
    "DeltaT=15; # Interval between trials in seconds  \n",
    "\n",
    "# Place cells \n",
    "N=493; # number of place cells \n",
    "Xplacecell=sunflower(N,R,2)[:,1]; # absciss place cells  \n",
    "Yplacecell=sunflower(N,R,2)[:,2]; # y place cells \n",
    "σ=0.30*R; # variability of place cell activity, in proportion of the radius \n",
    "\n",
    "\n",
    "# Place cell : other method than the use of the sunflower section, generate random uniform centers and radius, \n",
    "# so place cells centers are more random than with the use of sunflower in which they are all eqidistqnt for \n",
    "# one another\n",
    "# initialize the centres of the place cells by random unifrom sampling across the pool :\n",
    "arguments= rand(1,N)*2*pi;\n",
    "radii= sqrt.(rand(1,N))*R;\n",
    "centres= [cos.(arguments).*radii; sin.(arguments).*radii]; \n",
    "Xplacecell=centres[1,:];\n",
    "Yplacecell=centres[2,:];\n",
    "\n",
    "\n",
    "# Action cells : \n",
    "n=8; # number of action cells \n",
    "\n",
    "\n",
    "# Potential positions of the platform : \n",
    "Xplatform=[0.3,0,-0.3,0,0.5,-0.5,0.5,-0.5].*R;  \n",
    "Yplatform=[0,0.3,0,-0.3,0.5,0.5,-0.5,-0.5].*R; \n",
    "\n",
    "# Potential Starting positions of the rat :\n",
    "Xstart=[0.90,0,-0.90,0].*R; # East, North, West, South\n",
    "Ystart=[0,0.90,0,-0.90].*R;\n",
    "\n",
    "# Define number of rats, number of days and numbers of trials per day\n",
    "numberofdays=1;\n",
    "numberofrats=10;\n",
    "numberoftrials=20;\n",
    "\n",
    "\n",
    "times=collect(0:dt:T+dt);"
   ]
  },
  {
   "cell_type": "code",
   "execution_count": 197,
   "metadata": {
    "collapsed": true
   },
   "outputs": [],
   "source": [
    "\n",
    "# Parameter that regulate the choice between former angle and new angle \n",
    "momentum=1.1;\n",
    "\n",
    "temperature=2.0;\n",
    "\n",
    "# Learning variables : \n",
    "γ=0.98; # Discount factor.  they dont precise the value  \n",
    "actorLR= 0.8; # actor learning rate\n",
    "criticLR=0.08; # critic learning rate"
   ]
  },
  {
   "cell_type": "code",
   "execution_count": 202,
   "metadata": {},
   "outputs": [
    {
     "name": "stdout",
     "output_type": "stream",
     "text": [
      " 57.346588 seconds (351.20 M allocations: 34.965 GiB, 8.93% gc time)\n"
     ]
    }
   ],
   "source": [
    "#########################################################################\n",
    "#############          LOOP       1   EXPERIMENT FOR 1 DAY 1 RAT   ######################\n",
    "#########################################################################\n",
    "\n",
    "\n",
    "\n",
    "@time begin # get the time it takes to run it \n",
    "\n",
    "rats=Rat();\n",
    "# Save different parameters \n",
    "rats.parameters=[momentum,γ,actorLR,criticLR,temperature]; \n",
    "rats.featuresexperiment=[numberofrats, numberofdays, numberoftrials];\n",
    "\n",
    "\n",
    "for indexrat=1:numberofrats\n",
    "    \n",
    "currentexperiment=Experiment(); # Creating the experiment \n",
    "currentexperiment.PlaceCells=hcat(Xplacecell,Yplacecell); # Store location of place cells \n",
    "\n",
    "# Initialisation variables :\n",
    "criticweights=zeros(N,1); # weights between critic and place cells\n",
    "actorweights=zeros(N,n); # weights between actor and place cells\n",
    "    \n",
    "        ##########  ##########  ##########  ##########   ########## \n",
    "    ##########  ##########  START EXPERIMENT  ##########  ##########  \n",
    "        ##########  ##########  ##########  ##########   ########## \n",
    "\n",
    "# currentexperiment=Experiment(); # Creating the experiment \n",
    "#currentexperiment.PlaceCells=hcat(Xplacecell,Yplacecell); # Store location of place cells \n",
    "\n",
    "    for indexday=1:numberofdays\n",
    "            \n",
    "        # Everyday the location of the platform changes\n",
    "        # Chose platform :\n",
    "        indexplatform=rand(1:8); # generate random index between 1 and 8 (only 8 positions possible) \n",
    "        xp=Xplatform[indexplatform]; # take the ith platform position \n",
    "        yp=Yplatform[indexplatform]; \n",
    "\n",
    "        \n",
    "        currentday=Day(); # creating a day \n",
    "        currentday.Platform=hcat(xp,yp); # storing the position of the platform for this day  \n",
    "                    \n",
    "            ##########  ##########  ##########  ##########  \n",
    "        ##########  ##########  START DAY ##########  ##########  \n",
    "            ##########  ##########  ##########  ##########  \n",
    "\n",
    "        \n",
    "        for indextrial=1:numberoftrials ##########  \n",
    "            \n",
    "            ## Chose starting position :\n",
    "                      \n",
    "            indexstart=rand(1:4); # generate random number between 1 and 4\n",
    "            positionstart=[Xstart[indexstart] Ystart[indexstart]]; # put the rat in the chosen position 1 East 2 North 3 West 4 South\n",
    "            \n",
    "            position=positionstart;\n",
    "            \n",
    "            # Initialize reward \n",
    "            re=0;\n",
    "            \n",
    "            # Initialise index  \n",
    "            k=1;\n",
    "            # initialise time \n",
    "            t=times[k];\n",
    "                \n",
    "            # initialise the storage of the trajectory within the trial \n",
    "            historyX=Float64[]; # for x coordinate\n",
    "            historyY=Float64[]; # for y coordinate \n",
    "\n",
    "            error=Float64[]; # initialise storage of the error within the trial\n",
    "            searchpref=0; # initialise serachpreference which is the counting of the time spent within the circle around the platform of radius radiussearchpref\n",
    "            arg=0; # define the angle        \n",
    "            timeout=0; # define the timeout parameter that tells if we are running out of time (at 120 seconds rats are put on the platform in which case we dont reinforce the action)        \n",
    "            prevdir=[0 0]; # initialise prevdir to smooth trajectory\n",
    "                \n",
    "                \n",
    "            ##########  ##########  ##########  ##########   ########## \n",
    "            ##########  ##########  START TRIAL ##########  ##########  \n",
    "            ##########  ##########  ##########  ##########   ########## \n",
    "            \n",
    "                while t<=T && re==0 # if we are not on the platform and if the time is less than the limit time \n",
    "    \n",
    "                        if t==T # if we are running out of time \n",
    "                            X=xp; # we put the rat on the platform\n",
    "                            Y=yp;\n",
    "                            position=[X Y];\n",
    "                            timeout=1; # if we put the rat on the platform then we dont reinforce the actor but only the critic\n",
    "                        end\n",
    "                        \n",
    "                        \n",
    "                    # Store former position to be able to draw trajectory\n",
    "                    push!(historyX,position[1]) # store position \n",
    "                    push!(historyY,position[2])\n",
    "                    \n",
    "                    \n",
    "                         ###  Compute reward ### \n",
    "                    re=reward(position[1],position[2],xp,yp,r); \n",
    "                    \n",
    "                         # compute new activity of pace cells :\n",
    "                    actplacecell=placecells([position[1],position[2]],centres,σ);\n",
    "                \n",
    "                    ### Compute Critic ###\n",
    "                    C=dot(criticweights,actplacecell); # current estimation of the future discounted reward \n",
    "                    \n",
    "                    ####### Take decision and move to new position : #######\n",
    "                    #  Compute action cell activity    \n",
    "                    actactioncell=transpose(actorweights)*actplacecell; # careful actorweights contains place cells in rows and action cells in column \n",
    "                        \n",
    "                        if maximum(actactioncell)>=100 # if its getting to big control it \n",
    "                            actactioncell=100.*actactioncell./maximum(actactioncell); \n",
    "                        end\n",
    "                    \n",
    "                    # Compute probability distribution : \n",
    "                    Pactioncell=exp.(temperature.*actactioncell)./sum(exp.(temperature.*actactioncell)); \n",
    " \n",
    "                    \n",
    "                    # Compute summed probability distribution:\n",
    "                    SumPactioncell=[sum(Pactioncell[1:k]) for k=1:length(Pactioncell)] # compute the vector of progressive sum\n",
    "\n",
    "                    # Compute summed probability distribution:\n",
    "                    # SumPactioncell=cumul(Pactioncell); # other possibility but first one better\n",
    "\n",
    "                    # Generate uniform number between 0 and 1 that we will compare with the elements of the cumulative probabilities:\n",
    "                    x=rand(); \n",
    "\n",
    "                    # now chose action: \n",
    "                    indexaction=indice(SumPactioncell,x); # Chose which action between the 8 possibilities\n",
    "                    argdecision=angles[indexaction]; # compute the coreesponding angle \n",
    "                    newdir=[cos(argdecision) sin(argdecision)]; # compute the direction it decided to go to\n",
    "                    dir=(newdir./(1.0+momentum).+momentum.*prevdir./(1.0+momentum)); # smooth trajectory to avoid sharp angles\n",
    "                    \n",
    "                   \n",
    "                    if !(norm(dir)==0)    \n",
    "                    dir=dir./norm(dir); # normalize so we control the exact speed of the rat\n",
    "                    end\n",
    "                    prevdir=dir; # store former direction\n",
    "                    \n",
    "              \n",
    "                    # Store former position \n",
    "                    formerposition=position; \n",
    "                    # Compute new position : \n",
    "                    position=position.+dt.*speed.*dir; \n",
    "                    \n",
    "                    # redefine X and Y in case we hit the walls (this would need improving)\n",
    "                    X=position[1];\n",
    "                    Y=position[2];\n",
    "                    Xf=formerposition[1];\n",
    "                    Yf=formerposition[2];\n",
    "                \n",
    "                    # We code walls as reflectors :\n",
    "                        if X^2+Y^2>R^2 # if we are out of the circle \n",
    "                            # find the position between former position and current position that is exactly on the circle :\n",
    "                            # Create Polynomial with a parameter lambda that represent the absciss along the segment between formerposition and newposition\n",
    "                            # search the value of lambda for which we are crossing the circle    \n",
    "                            polynom=Poly([Xf^2+Yf^2-R^2,2*X*Xf+2*Y*Yf-2*Xf^2-2*Yf^2,Xf^2+Yf^2+X^2+Y^2-2*X*Xf-2*Y*Yf]); # using poly creates a polynomial, coefficient are in order of increasing exposant \n",
    "                            # find the root of this polynomial that is between 0 and 1 \n",
    "                            λ=roots(polynom)[find(x -> 0<x <1,roots(polynom))];\n",
    "                            λ=maximum(λ); # to convert from array of float \n",
    "                            Xlambda=λ*X+(1-λ)Xf; # position of the point that is on the circle between the former position to the new position\n",
    "                            Ylambda=λ*Y+(1-λ)Yf; \n",
    "                            delta=norm([Xlambda-X,Ylambda-Y]); # distance of the point to Xlambda Ylambda\n",
    "                                \n",
    "                            \n",
    "                            # Find the intersection between the line starting from the newposition in the direction of Xlambda and Ylambda and the circle of centre Xlambda Ylambda of radius delta\n",
    "                            poly2=Poly([Y^2-2*Ylambda*Y+(Ylambda^2)+X^2-2*Xlambda*X+(Xlambda^2)-delta^2, -2*Ylambda*Y/R+2*Ylambda^2/R-2*Xlambda*X/R+2*Xlambda^2/R ,Ylambda^2/R^2+Xlambda^2/R^2]);\n",
    "            \n",
    "                            # Problem with root is the precision : sometimes the first root given is reaaally near the first point in which case we want the second root\n",
    "                            deplacement=maximum(roots(poly2)[find(x -> 0<x ,roots(poly2))]); \n",
    "                            \n",
    "                                \n",
    "                            # Compute new position : we just move following the inverse vector of Xlambda,Ylambda of the distance we computed\n",
    "                            Xnew=X-deplacement*Xlambda/R;\n",
    "                            Ynew=Y-deplacement*Ylambda/R;\n",
    "                            #X=-delta*cos(anglerotation)*cos(anglereflect)-delta*sin(anglerotation)*sin(anglereflect)+delta*sin(anglerotation)*cos(anglereflect)+delta*cos(anglerotation)*sin(anglereflect)+Xlambda;   \n",
    "                            #Y=-delta*sin(anglerotation)*cos(anglereflect)+delta*sin(anglerotation)*sin(anglereflect)-delta*cos(anglerotation)*cos(anglereflect)+delta*cos(anglerotation)*sin(anglereflect)+Ylambda;   \n",
    "                                if Xnew^2+Ynew^2>R^2 # if we are still out of the circle \n",
    "                                    println(\"we are still out\")\n",
    "                                    break\n",
    "                                end\n",
    "\n",
    "                            X=Xnew;\n",
    "                            Y=Ynew;\n",
    "                            position=[X Y];    \n",
    "                        end\n",
    "                    \n",
    "                    # If we are now at the very edge of the maze, move us in a little bit :\n",
    "                        if X^2+Y^2==R^2\n",
    "                          \n",
    "                            position = (position./norm(position))*(R - R/50);\n",
    "                        end\n",
    "                \n",
    "                    # compute new activity of pace cells :\n",
    "                    actplacecell=placecells([position[1],position[2]],centres,σ);\n",
    "\n",
    "                        if re==1 # if we are on the platform \n",
    "                            Cnext=0;\n",
    "                        else # if we are not on the platform\n",
    "                            Cnext=dot(criticweights,actplacecell);# new estimation of the future discounted reward \n",
    "                        end \n",
    "                    \n",
    "                \n",
    "                    #### Compute error  ####\n",
    "                    err=re+γ*Cnext-C;\n",
    "  \n",
    "                    push!(error,err);\n",
    "                \n",
    "                \n",
    "                    ######### Compute new weights : ########\n",
    "                    \n",
    "                    # Actor weights :\n",
    "                        if timeout==0 # if the location we are in is thanks to our action \n",
    "                            G=zeros(8,1); # creating a matrix to select the row to update\n",
    "                            G[indexaction]=1; # indicating which row is to update \n",
    "                            actorweights=actorweights+actorLR.*err.*actplacecell*transpose(G);# updating the weights       \n",
    "                        end\n",
    "                    \n",
    "                    # Critic weights : \n",
    "                    criticweights=criticweights+criticLR.*err.*actplacecell;\n",
    "    \n",
    "                     ###### ####### ####### Updating search preference  ####### ####### #######\n",
    "                       if (X-xp)^2+(Y-yp)^2<= radiussearchpref^2          \n",
    "                           searchpref=searchpref+1*dt;\n",
    "                       end\n",
    "                     # going to next step\n",
    "                    k=k+1; # counting steps\n",
    "                    t=times[k]; # counting time\n",
    "                \n",
    "                ##################################################            \n",
    "                end\n",
    "\n",
    "                ########## ##########  END TRIAL ########## ##########             \n",
    "            \n",
    "            push!(historyX,position[1]) # Store the last position visited \n",
    "            push!(historyY,position[2])\n",
    "                        \n",
    "            ############### SAVING THE THINGS IN THE DIFFERENT CLASS ################\n",
    "            ## in creating a new trial type one should write Trial(Trajectory, latency, searchpreference, actionmap) # action map atm is just z, then it will be improved adding a new attribute being value map \n",
    "            \n",
    "            currenttrial=Trial(hcat(historyX,historyY),t,searchpref,actorweights,criticweights,error); # Creating the current trial with all its fields\n",
    "            \n",
    "            push!(currentday.trial,currenttrial) # Storing the current trial in the current day \n",
    "        \n",
    "        ##################################################     \n",
    "        end \n",
    "        ########## ##########  END DAY ########## ##########\n",
    "        \n",
    "        \n",
    "        push!(currentexperiment.day,currentday) # Storing the current day in the current experiment \n",
    "        \n",
    "            \n",
    "    ##################################################     \n",
    "    end \n",
    "    ########## ##########  END EXPERIMENT ########## ##########\n",
    "\n",
    "push!(rats.experiment,currentexperiment) # Storing the current experiment in the rat's class\n",
    "\n",
    "##################################################     \n",
    "end \n",
    "########## ##########  END RATS ########## ###\n",
    "    \n",
    "    \n",
    "end # end time "
   ]
  },
  {
   "cell_type": "code",
   "execution_count": 204,
   "metadata": {
    "collapsed": true
   },
   "outputs": [],
   "source": [
    "# Save the data so we can open them again or use them to plot \n",
    "\n",
    "\n",
    "using JLD: save \n",
    "\n",
    "save(\"/Users/pmxct2/Documents/FosterDayanMorris/experiment$(rats.parameters).jld\", \"rats\", rats)"
   ]
  },
  {
   "cell_type": "code",
   "execution_count": 203,
   "metadata": {},
   "outputs": [
    {
     "data": {
      "text/plain": [
       "10-element Array{Experiment,1}:\n",
       " Experiment(Day[Day(Trial[Trial([-0.9 0.0; -0.921213 -0.0212132; … ; -0.0116409 -0.328943; 0.0112833 -0.309592], 98.5, 2.8, [0.0 0.0 … 0.0 0.0; 0.0 0.0 … 0.0 0.0; … ; 0.0 0.0 … 0.0 0.0; 0.0 0.0 … 0.0 0.0], [0.00778864; 0.022747; … ; 0.0304451; 7.95118e-5], [0.0, 0.0, 0.0, 0.0, 0.0, 0.0, 0.0, 0.0, 0.0, 0.0  …  0.0, 0.0, 0.0, 0.0, 0.0, 0.0, 0.0, 0.0, 0.0, 1.0]), Trial([0.0 -0.9; 0.0212132 -0.878787; … ; -0.0361507 -0.324985; -0.0128863 -0.343926], 17.2, 10.0, [0.0 -0.041898 … 0.004408 0.198108; 0.0 -0.00130972 … 0.000152925 -0.175902; … ; 0.0 -0.00392762 … 0.000520338 -0.198026; 0.0 -0.000149469 … 5.52979e-5 8.21706e-6], [-0.00590708; 0.00626036; … ; 0.0144271; 0.00128297], [0.0623854, 0.0615038, 0.0586294, 0.0535921, 0.0463259, 0.0369069, 0.0255805, 0.0127666, -0.000965115, -0.0149481  …  -0.0397291, -0.026747, -0.0375654, -0.0185554, -0.0319464, -0.0123563, 0.0113572, 0.0216563, 0.0239443, 1.11484]), Trial([-0.9 0.0; -0.878787 -0.0212132; … ; 0.0126899 -0.336005; -0.0173101 -0.336057], 9.0, 2.0, [0.0 -0.041898 … 0.004408 0.184776; 0.0 -0.00130972 … 0.000152925 -0.288734; … ; 0.0 -0.00392762 … 0.000520338 -0.33714; 0.0 -0.000149469 … 5.52979e-5 -0.00033418], [-0.0210182; -0.00981566; … ; -0.0115589; 0.00112773], [0.0296867, 0.0338003, 0.0377022, 0.0412601, 0.0443442, 0.0468306, 0.0486043, 0.0495615, 0.0496135, 0.0486898  …  0.022152, 0.0374909, 0.04118, 0.0390599, 0.0340186, 0.027486, 0.0202359, 0.0127349, 0.00529612, -0.67369]), Trial([0.0 0.9; 0.0212132 0.878787; … ; 0.0 -0.3; -0.03 -0.299952], 120.1, 2.2, [-1.5528e-9 -0.041898 … 0.0468397 0.182033; -1.72093e-5 -0.000986054 … 0.0794464 -0.295155; … ; 5.89216e-6 -0.00359516 … 0.146824 -0.354895; 6.00407e-5 0.00312064 … 0.0829327 -0.017315], [-0.0117551; 0.0238031; … ; 0.0297897; -0.000153809], [0.000629122, 0.00101439, 0.00142865, 0.0018543, 0.00227546, 0.00268024, 0.00306187, 0.00341841, 0.00375138, 0.00406367  …  -1.88118e-5, -0.000251227, 0.000895495, 0.000197266, -0.000114285, -0.000596807, 9.30138e-5, -0.000695051, -0.000243205, 1.04139]), Trial([0.0 0.9; 0.0212132 0.878787; … ; -0.0181078 -0.289651; 0.00618469 -0.272048], 28.6, 7.6, [-0.0211087 -0.041398 … 0.127163 0.182033; 0.00728852 0.0101354 … 0.0319425 -0.29511; … ; 0.0419964 0.00795994 … 0.125392 -0.354857; 0.00109442 0.00046142 … 0.102803 -0.0170457], [-0.0124933; 0.0140961; … ; 0.0201383; 0.00357085], [0.00889265, 0.00955333, 0.00981077, 0.0096518, 0.00910626, 0.00823818, 0.00713116, 0.00587242, 0.00453962, 0.00319262  …  0.000935446, 0.0112393, 0.0178752, 0.0135898, 0.00908765, 0.015234, 0.0114232, 0.0105131, 0.00367337, 0.776643]), Trial([-0.9 0.0; -0.878787 -0.0212132; … ; -0.0427799 -0.325572; -0.01278 -0.325649], 9.7, 1.8, [-0.0192382 -0.041398 … 0.121111 0.182033; 0.0618875 0.0101354 … -0.272751 -0.29511; … ; 0.113952 0.00795994 … -0.189765 -0.354857; 0.00218802 0.00046142 … 0.100317 -0.0170457], [-0.0162426; -0.0205716; … ; -0.0227175; 0.0031728], [0.0247135, 0.02665, 0.0280956, 0.0289808, 0.0292591, 0.0289077, 0.0279277, 0.0263432, 0.024199, 0.0215582  …  0.0328052, 0.0382057, 0.035871, 0.0304392, 0.0236594, 0.0161524, 0.00818749, -4.69251e-5, -0.00836278, -0.440458]), Trial([0.9 0.0; 0.87 3.67394e-18; … ; -0.0158149 -0.264683; -0.036952 -0.285972], 16.0, 4.2, [0.01761 -0.0415628 … 0.116802 0.18193; 0.298023 0.00526488 … -0.336907 -0.295141; … ; 0.407275 0.00394879 … -0.250887 -0.354979; -0.00146151 0.000460013 … 0.143967 -0.0175364], [-0.0124196; 0.00250207; … ; 0.00595201; 0.00404697], [-0.0055447, -0.00599199, -0.00496191, -0.00334921, -0.00178646, 0.000181821, 0.00248998, 0.00490941, 0.00734477, 0.00971449  …  0.0225065, 0.0115529, -0.00169949, -0.0296956, -0.0377315, -0.0156002, 0.0154964, 0.0321769, 0.0103358, 0.706389]), Trial([0.0 -0.9; 0.0212132 -0.878787; … ; 0.00251726 -0.274889; -0.00849083 -0.302796], 4.9, 1.8, [-0.0697108 -0.0419858 … 0.198653 0.18193; 0.0719275 -0.000332468 … -0.338006 -0.295141; … ; 0.134782 -0.000831623 … -0.251337 -0.354979; -0.00190873 0.00045894 … 0.143967 -0.0175364], [-0.0062167; -0.0189635; … ; -0.0196888; 0.00400383], [0.0492529, 0.0465999, 0.0422186, 0.0361061, 0.0283645, 0.0192211, 0.00903408, 0.0656502, 0.070729, 0.0573674  …  0.0413762, 0.0289206, 0.0173799, 0.00663669, -0.00330855, -0.0089214, 0.013478, 0.035615, 0.00532387, -0.616117]), Trial([0.0 -0.9; 0.0212132 -0.878787; … ; 0.0 -0.3; 0.0291718 -0.307], 120.1, 1.5, [-0.0740374 -0.0419858 … 0.124749 0.153621; 0.0520263 -0.000278328 … -0.423615 -0.307842; … ; 0.0991191 -0.000712372 … -0.38506 -0.384328; -0.0147037 0.00371165 … 0.0376865 -0.0222291], [-0.00148752; 0.0170653; … ; 0.0297296; 0.00155235], [0.0203859, 0.018321, 0.0153716, 0.0116109, 0.00717566, -0.0136034, -0.00866915, -0.0251256, -0.0334107, -0.0376635  …  0.000843916, 0.000385189, 0.000559789, -0.000343658, -0.000468224, -0.00223098, -0.00236187, -0.000906748, -0.00114291, 1.26513]), Trial([0.0 0.9; 0.0212132 0.878787; … ; 0.039836 -0.306224; 0.0618118 -0.285801], 12.9, 2.2, [-0.0716861 0.0325019 … 0.0945231 0.234754; 0.0545314 0.199605 … -0.460422 -0.366273; … ; 0.104368 0.289725 … -0.453574 -0.4802; -0.0108897 0.104849 … -0.0391787 -0.0204088], [0.000992041; 0.0112686; … ; 0.0149899; 0.00321903], [0.0102056, 0.0116501, 0.0126948, 0.0132818, 0.0134036, 0.0130994, 0.0124415, 0.0115177, 0.0104139, 0.00920161  …  -0.0131973, -0.0259298, -0.0299652, -0.0307743, -0.0120387, -0.0301661, -0.006567, -0.0278466, -0.0298824, 0.957105]), Trial([-0.9 0.0; -0.878787 -0.0212132; … ; -0.0422391 -0.314274; -0.0261247 -0.288969], 6.9, 2.0, [-0.0716861 -0.101341 … 0.215793 0.234754; 0.0545314 0.102093 … -0.443875 -0.366273; … ; 0.104368 0.172503 … -0.425491 -0.4802; -0.0108897 0.104757 … -0.0391345 -0.0204088], [-0.0105137; -0.0108751; … ; -0.0148937; 0.00316022], [0.0228532, 0.0219486, 0.0205094, 0.0185873, 0.0162608, 0.0136301, 0.0108118, 0.00793148, 0.00511724, 0.00249242  …  0.0274291, 0.0200803, 0.0130298, 0.0062866, -9.13972e-5, -0.0661472, 0.00287998, 0.0217985, 0.0137502, -0.705976]), Trial([0.0 0.9; 0.0212132 0.878787; … ; 0.0 -0.3; -0.0251384 -0.283628], 120.1, 1.7, [-0.0716861 -0.118316 … 0.215627 0.234754; 0.0545314 0.197484 … -0.237657 -0.366273; … ; 0.104368 0.220335 … -0.241473 -0.4802; -0.0108897 0.0911216 … -0.0393202 -0.0204088], [-0.00698529; 0.0161666; … ; 0.021571; 0.000465156], [0.0034568, 0.00184259, 0.000147837, -0.0014966, -0.00296892, -0.00417254, -0.00504526, -0.00556007, -0.00571927, -0.0055448  …  -0.00431289, 0.00613976, -0.00177016, 0.00433708, -0.00468404, 0.00514954, -0.00485221, 0.00452957, -0.0035085, 0.982455]), Trial([0.9 0.0; 0.87 3.67394e-18; … ; -0.024436 -0.315668; -0.00431884 -0.337924], 13.2, 6.0, [-0.0716861 -0.0922088 … 0.173538 0.239594; 0.0545314 0.274917 … -0.488577 -0.364619; … ; 0.104368 0.310569 … -0.527132 -0.47361; -0.0108897 0.0935164 … -0.0406905 -0.0026814], [-0.00736669; 0.00537335; … ; 0.00887975; 0.00234551], [0.0411298, 0.0412574, 0.0399854, 0.0372617, 0.0331764, 0.0279602, 0.0219566, 0.0155752, 0.00923619, 0.00331866  …  -0.0251613, -0.0369944, -0.0110638, -0.00348203, 0.0227009, 0.0267986, 0.0232317, 0.0182183, 0.00665791, 0.571813]), Trial([0.0 0.9; 0.0212132 0.878787; … ; 0.0155494 -0.335719; 0.0424194 -0.349061], 7.5, 2.6, [-0.0716861 -0.145819 … 0.193745 0.24117; 0.0545314 0.298728 … -0.487968 -0.364909; … ; 0.104368 0.322094 … -0.520473 -0.474408; -0.0108897 0.177648 … -0.0406194 -0.00271517], [-0.0102645; 0.00919818; … ; 0.0121957; 0.0129478], [0.00571119, 0.00595761, 0.00613216, 0.00626148, 0.00638291, 0.00653899, 0.00677159, 0.00711678, 0.00760137, 0.00824109  …  -0.0494351, -0.0539936, -0.0358379, 0.00350814, 0.0215093, 0.0135641, -0.0130598, -0.0425041, -0.0203123, 0.417154]), Trial([0.0 0.9; 0.0212132 0.878787; … ; 0.0185867 -0.345742; 0.0224738 -0.315995], 6.7, 2.0, [-0.0716861 -0.192813 … 0.232083 0.241783; 0.0545314 0.214381 … -0.440425 -0.364536; … ; 0.104368 0.193196 … -0.449369 -0.473703; -0.0108897 0.131432 … -0.0403511 -0.00270703], [-0.0115076; 0.00517292; … ; 0.00586041; 0.00910368], [0.0280817, 0.0254952, 0.0218369, 0.0173969, 0.012533, 0.0076117, 0.00295365, -0.00120191, -0.00471103, -0.00751852  …  -0.050797, -0.0210851, 0.00612891, 0.00701173, -0.00789876, -0.0336415, -0.0173234, -0.0418151, -0.0218708, 0.184065]), Trial([0.9 0.0; 0.87 3.67394e-18; … ; 0.0263657 -0.258674; -0.00296588 -0.252377], 3.5, 0.8, [-0.055053 -0.19449 … 0.201628 0.235153; 0.0867016 0.209685 … -0.64056 -0.374776; … ; 0.16233 0.18428 … -0.699792 -0.501301; -0.00900433 0.129927 … -0.0409208 -0.0199807], [-0.0137205; -0.0131171; … ; -0.017037; 0.00735731], [0.0240377, 0.0176346, 0.00999237, 0.00153123, -0.00719051, -0.0155403, -0.0228914, -0.0287024, -0.0325781, -0.0343039  …  0.0354463, 0.0234988, 0.0088493, -0.00379536, 0.0153831, 0.01395, 0.00360835, -0.0116224, -0.00744755, -0.692474]), Trial([-0.9 0.0; -0.9 -0.03; … ; 0.044899 -0.315676; 0.0275936 -0.340181], 5.3, 2.1, [-0.044012 -0.0750685 … 0.201628 0.235153; 0.108453 0.460065 … -0.64056 -0.374776; … ; 0.194187 0.521222 … -0.699792 -0.501301; -0.00887643 0.130716 … -0.0409208 -0.0199807], [-0.00179713; 0.0138401; … ; 0.0190557; 0.0074461], [0.00864328, 0.00680622, 0.00472634, 0.00249706, -0.00995791, -0.0131736, -0.0110496, -0.0152763, -0.0142564, -0.0129515  …  -0.0165069, -0.0117332, -0.00686393, -0.0187246, -0.013077, 0.000833129, 0.0301777, 0.0389891, 0.0365603, 1.2511]), Trial([0.9 0.0; 0.87 3.67394e-18; … ; 0.0246884 -0.33601; -0.00333551 -0.346718], 7.2, 1.8, [-0.0406683 -0.49805 … 0.297968 0.274773; 0.115298 0.234475 … -0.627409 -0.367989; … ; 0.203638 0.19657 … -0.676987 -0.482805; -0.00885336 0.130891 … -0.040882 -0.00319721], [-0.0281337; -0.00486506; … ; -0.0069529; 0.00914815], [0.0409292, 0.0398932, 0.0375375, 0.0339083, 0.029188, 0.023679, 0.0177658, 0.0118621, 0.00635502, 0.00155897  …  0.0514197, 0.0419254, 0.0215767, -0.053223, -0.0388406, -0.100583, -0.0390011, 0.0174029, 0.0352869, -0.768396]), Trial([0.9 0.0; 0.87 3.67394e-18; … ; 0.0195022 -0.317346; -0.00571814 -0.3011], 10.1, 4.8, [0.0837997 -0.498265 … 0.306029 0.262469; 0.344597 0.196529 … -0.623164 -0.378052; … ; 0.534701 0.16615 … -0.671167 -0.512906; -0.0188502 0.130844 … -0.0408783 -0.0369803], [-0.0146355; 0.0144694; … ; 0.0214274; 0.00476115], [-0.00440778, -0.0152301, -0.0264468, -0.0372736, -0.0468648, -0.0544214, -0.0592958, -0.0610708, -0.0595982, -0.0549943  …  -0.0252346, 0.00653659, 0.0330516, 0.0362306, 0.0251673, 0.0120941, 0.000462661, -0.00932409, 0.00539251, 0.883797]), Trial([0.9 0.0; 0.87 3.67394e-18; … ; -0.0357409 -0.272035; -0.0136186 -0.292298], 8.2, 2.3, [-0.083872 -0.498545 … 0.402965 0.263391; 0.135615 0.148594 … -0.59856 -0.37773; … ; 0.336264 0.129163 … -0.634136 -0.511705; -0.00439162 0.130804 … -0.0408471 -0.0338098], [-0.0258353; -0.0157065; … ; -0.0117996; 0.00648489], [0.00403444, 0.00614467, 0.00887745, 0.0121911, 0.0159829, 0.02644, 0.0322147, 0.035524, 0.0373994, 0.0382373  …  -0.0313656, -0.0493028, 0.0265678, 0.0605881, 0.0373556, 0.0101339, 0.0188384, -0.0212286, -0.0514485, -0.71966])], [0.0 -0.3])], [0.480079 -0.756263; -0.130409 0.1446; … ; 0.0050745 0.107373; 0.598544 0.638892])                                                                                                                                                                                                                      \n",
       " Experiment(Day[Day(Trial[Trial([0.9 0.0; 0.921213 -0.0212132; … ; 0.323053 -0.0107898; 0.298545 0.00651259], 44.8, 0.8, [0.0 0.0 … 0.0262892 0.0; 0.0 0.0 … 0.258901 0.0; … ; 0.0 0.0 … 0.468541 0.0; 0.0 0.0 … 0.0526111 0.0], [0.00262892; 0.0258901; … ; 0.0468541; 0.00526111], [0.0, 0.0, 0.0, 0.0, 0.0, 0.0, 0.0, 0.0, 0.0, 0.0  …  0.0, 0.0, 0.0, 0.0, 0.0, 0.0, 0.0, 0.0, 0.0, 1.0]), Trial([0.9 0.0; 0.878787 0.0212132; … ; 0.3 0.0; 0.285477 -0.0262501], 120.1, 11.9, [-0.00872243 0.00297841 … 0.0929213 0.00321488; -0.142883 0.409118 … -0.231655 -0.0771007; … ; -0.132014 0.390973 … -0.164606 -0.0749225; 0.22424 0.00972592 … -0.282171 -0.00298882], [-0.00593479; 0.00913473; … ; 0.0346833; -0.00231868], [0.0672637, 0.065318, 0.0608834, 0.0539613, 0.0446905, 0.0333324, 0.0202509, 0.00589461, -0.00921528, -0.0244919  …  0.000999101, -0.000985504, -0.000888186, -0.00101061, -0.00172596, 0.000487621, 0.00154815, 0.000279596, -0.000688839, 0.90231]), Trial([-0.9 0.0; -0.9 -0.03; … ; 0.274791 -0.0383703; 0.244999 -0.0348405], 6.9, 0.9, [-0.00872243 -0.0727717 … 0.105895 0.00321488; -0.142883 -0.0921633 … -0.268779 -0.0771007; … ; -0.132014 -0.442858 … -0.223841 -0.0749225; 0.22424 -0.0356485 … -0.286001 -0.00298882], [-0.0118676; -0.0363267; … ; -0.0459403; -0.0072343], [0.00174099, 0.00175781, 0.000339162, 0.00153697, 0.00196794, 0.00203313, 0.0019589, 0.00183733, 0.00170179, 0.00229934  …  -0.0829338, -0.0237987, -0.00160971, -0.0331449, -0.0190247, -0.0513701, -0.0307323, -0.0355847, -0.050929, -1.34497]), Trial([0.0 -0.9; -0.0212132 -0.878787; … ; 0.3 0.0; 0.283914 -0.0253225], 120.1, 0.1, [-0.00870276 -0.0727717 … 0.0940024 0.0691299; -0.14288 -0.0931089 … -0.279138 0.20709; … ; -0.132011 -0.443121 … -0.238371 0.21221; 0.22424 -0.0356485 … -0.286013 -0.00257229], [-0.00678327; 0.0399013; … ; 0.080281; 0.00202199], [0.0251697, 0.0272289, 0.0285652, -0.0325689, -0.00767468, 0.00863705, 0.0176556, -0.0601196, -0.024706, -0.0841978  …  0.000646594, -0.000607138, 0.00140544, -0.000632533, 0.000550459, -0.00115163, 0.00153025, -0.00144557, 0.000480962, 2.31846]), Trial([0.0 0.9; -0.0212132 0.878787; … ; 0.25418 -0.0110071; 0.283554 -0.017101], 10.8, 4.7, [-0.0154015 -0.072779 … 0.0896371 0.0474994; -0.245694 -0.0343978 … -0.308108 -0.320564; … ; -0.28664 -0.409386 … -0.284119 -0.419923; 0.221735 -0.0341515 … -0.287136 -0.0283746], [-0.0109147; 0.0143424; … ; 0.00408856; -0.00249725], [0.0176747, 0.0180367, 0.0176658, 0.0164512, 0.0143578, 0.011448, 0.00788818, 0.00393287, -0.000112143, -0.00394054  …  -0.00293526, -0.0124037, -0.0204092, -0.0228676, -0.0187879, -0.011703, -0.0069653, 0.0124248, 0.0210924, 0.494956]), Trial([-0.9 0.0; -0.87 0.0; … ; 0.3 0.0; 0.291452 -0.0287564], 120.1, 0.1, [-0.0154015 -0.072779 … 0.0232658 0.102662; -0.245694 -0.0343978 … -0.313489 -0.327071; … ; -0.28664 -0.409386 … -0.296239 -0.419698; 0.221735 -0.0341515 … -0.287241 -0.0284327], [-0.0215642; -0.0215878; … ; -0.0250909; -0.00291547], [0.069407, 0.0740789, 0.0766324, 0.0765416, 0.0733843, 0.0669041, 0.0570671, 0.0441033, 0.0285244, 0.0111065  …  0.00214009, -0.00223377, 0.00189637, -0.00075562, -9.42935e-5, 0.0010191, -0.00390185, 0.00441153, -0.00148917, -0.0928778]), Trial([0.9 0.0; 0.921213 -0.0212132; … ; 0.3 0.0; 0.321125 0.0213012], 120.1, 2.4, [-0.0193018 -0.0727827 … 0.0264977 0.102662; -0.306261 -0.0823182 … -0.335697 -0.327071; … ; -0.365258 -0.451059 … -0.344446 -0.419698; 0.207763 -0.0447975 … -0.293938 -0.0284327], [-0.01863; 0.00199289; … ; 0.0251499; 0.00522824], [-0.0712484, -0.0365347, -0.0523789, -0.00430186, 0.0278168, 0.0427544, 0.0479448, 0.0474995, 0.0434398, 0.0367512  …  0.000552714, -0.00209567, 0.00315865, -0.000702665, 0.00322889, -0.000441994, 0.00266612, -0.000489995, 0.00201011, 1.2662]), Trial([0.9 0.0; 0.878787 0.0212132; … ; 0.3 0.0; 0.315621 -0.0256125], 120.1, 2.1, [-0.0228309 -0.0727827 … 0.0191993 0.0920672; -0.38085 -0.0823182 … -0.356383 -0.323982; … ; -0.506483 -0.451059 … -0.392297 -0.4211; 0.174876 -0.0447975 … -0.279833 -0.029835], [-0.0223565; -0.00102396; … ; 0.0163756; -0.00342073], [0.0955571, 0.0928028, 0.0864667, 0.0765662, 0.0633177, 0.047114, 0.0284939, 0.00811497, -0.0132659, -0.0348039  …  0.00457645, -0.00223884, 0.00400693, -0.00445667, 0.00371817, -0.00203327, -0.000205898, 6.6227e-5, 0.00102377, 0.574964]), Trial([0.0 0.9; 1.83697e-18 0.87; … ; 0.323368 0.0289787; 0.315177 0.000118777], 9.0, 2.1, [-0.00939743 -0.0727815 … 0.0132804 0.0897948; -0.237414 -0.0474186 … -0.370256 -0.329945; … ; -0.237258 -0.42014 … -0.42466 -0.434621; 0.251525 -0.0197396 … -0.288798 -0.0328812], [-0.02307; 0.010496; … ; 0.0270069; -0.00394621], [0.0168214, 0.0200736, 0.0228405, 0.0248039, 0.0257141, 0.0254489, 0.0240482, 0.0217072, 0.0187327, 0.0154744  …  0.0528847, 0.0406915, 0.0292388, 0.0186096, 0.00867816, -0.000605314, -0.0361783, -0.0627405, -0.0490412, 0.459829]), Trial([0.0 -0.9; -0.03 -0.9; … ; 0.3 0.0; 0.277987 -0.0203823], 120.1, 0.1, [-0.0155277 -0.0727815 … 0.0132804 0.0948433; -0.293629 -0.0474186 … -0.370256 -0.392182; … ; -0.315489 -0.42014 … -0.42466 -0.539156; 0.250637 -0.0197396 … -0.288798 -0.0340645], [-0.0237596; 0.00253715; … ; 0.0173935; -0.00274256], [0.033096, 0.027022, 0.0208459, 0.0146801, 0.00863582, 0.00283377, -0.00258989, -0.00748418, -0.0116907, -0.0150575  …  -0.000565074, 0.000627548, -0.00139341, 0.000355414, -0.00043145, 0.00111061, 0.000974073, -0.00214854, 0.00242199, 0.374185]), Trial([0.0 -0.9; -0.03 -0.9; … ; 0.3 0.0; 0.274765 -0.0162229], 120.1, 0.1, [-0.0155277 -0.0727815 … 0.0132804 0.106848; -0.293629 -0.0474186 … -0.370256 -0.488803; … ; -0.315489 -0.42014 … -0.42466 -0.656597; 0.250637 -0.0197396 … -0.288798 -0.0345015], [-0.0240478; -0.015589; … ; -0.0102222; -0.00409217], [0.0401068, 0.0345247, 0.028742, 0.0228565, 0.0169591, 0.0111465, 0.00553002, 0.000238805, -0.00458288, -0.00878519  …  0.00112933, -0.00114826, -0.000296131, 0.000118689, 0.00077085, 0.0013324, -0.000149778, 1.29785e-5, 0.00156772, -0.316672]), Trial([0.0 0.9; 1.83697e-18 0.87; … ; 0.3 0.0; 0.326646 -0.0137843], 120.1, 3.0, [-0.0286039 -0.0727852 … 0.0156109 0.106848; -0.404314 -0.117619 … -0.365384 -0.488803; … ; -0.494529 -0.484877 … -0.410768 -0.656597; 0.284956 -0.052484 … -0.267655 -0.0345015], [-0.0201916; 0.00353675; … ; 0.035409; -0.000139441], [0.0381195, 0.0339754, 0.0271954, 0.0179938, 0.00696605, -0.00497437, -0.0167493, -0.0273196, -0.0358773, -0.0419683  …  -1.48915e-5, 0.00282355, 0.00194943, -0.00357807, 0.000966101, 0.00488922, 0.00206765, 0.000332164, -0.0019832, 1.24968]), Trial([0.0 0.9; 0.0212132 0.921213; … ; 0.296969 0.0414884; 0.269976 0.0283959], 8.6, 3.8, [-0.030065 -0.0727852 … 0.0122332 0.106848; -0.39357 -0.117619 … -0.403543 -0.488803; … ; -0.488517 -0.484877 … -0.490319 -0.656597; 0.353712 -0.052484 … -0.304212 -0.0345015], [-0.0214853; -0.00530495; … ; 0.00867093; -0.00657719], [-0.0238935, -0.0189144, -0.00249993, 0.0306193, 0.00930289, 0.0407241, 0.0448902, 0.0406374, 0.0346757, 0.0286217  …  -0.0633996, -0.0410891, 0.0265912, 0.054713, 0.0495019, 0.0356414, 0.0212065, 0.00777426, -0.00444192, 0.0619897]), Trial([0.0 0.9; -0.0212132 0.878787; … ; 0.341325 0.0271702; 0.369841 0.0178509], 3.8, 0.9, [-0.029881 -0.0727852 … 0.0122332 0.106848; -0.424008 -0.117619 … -0.403543 -0.488803; … ; -0.515433 -0.484877 … -0.490319 -0.656597; 0.347198 -0.052484 … -0.304212 -0.0345015], [-0.0212312; -0.00935574; … ; 0.00742535; -0.00804654], [0.0303222, 0.026019, 0.0200804, 0.0127098, 0.00432295, 0.0147211, -0.00977593, -0.00411445, -0.0259306, -0.0203614  …  0.010729, 0.00899281, 0.00617237, 0.00230877, -0.00248141, -0.0345664, 0.000814701, 0.00970252, -0.0096474, 0.103728]), Trial([-0.9 0.0; -0.87 0.0; … ; 0.332005 0.0278737; 0.321668 -0.000289201], 4.4, 1.1, [-0.0266775 -0.0727852 … 0.0122332 0.106848; -0.401262 -0.117619 … -0.403543 -0.488803; … ; -0.472555 -0.484877 … -0.490319 -0.656597; 0.351893 -0.052484 … -0.304212 -0.0345015], [-0.0211689; 0.00419743; … ; 0.0196997; -0.00930882], [0.0235369, 0.0195836, 0.0144627, 0.00828379, 0.00126122, -0.00628533, -0.0139426, -0.0212292, -0.0276352, -0.0326716  …  -0.0116385, -0.0249867, -0.0391058, -0.0467885, -0.0592897, -0.0685017, -0.0713328, -0.0280682, 0.00533622, 0.123045]), Trial([0.0 -0.9; -0.03 -0.9; … ; 0.289167 -0.023471; 0.260874 -0.0134954], 9.0, 0.8, [-0.0209328 -0.0727852 … 0.0122332 0.118308; -0.341534 -0.117619 … -0.403543 -0.481857; … ; -0.369559 -0.484877 … -0.490319 -0.646805; 0.359913 -0.052484 … -0.304212 -0.0344418], [-0.020377; 0.00700431; … ; 0.0222723; -0.0090102], [0.0269224, 0.0218305, 0.0167435, 0.0117546, 0.00695181, 0.00242573, -0.0017263, -0.00540083, -0.00849391, -0.0109112  …  -0.00324035, -0.0184584, -0.0306224, -0.0289658, -0.0313064, -0.0536337, -0.0478065, -0.0309904, 0.000701959, 0.200204]), Trial([0.9 0.0; 0.878787 0.0212132; … ; 0.3 0.0; 0.270007 0.000669573], 120.1, 1.4, [-0.0502835 -0.072786 … 0.0423171 0.106231; -0.396425 -0.132017 … -0.43932 -0.48424; … ; -0.458298 -0.491713 … -0.52997 -0.728784; 0.378087 -0.0524944 … -0.303705 -0.0353838], [-0.020809; 0.00517879; … ; 0.0263225; -0.00483519], [0.00297284, 0.00108694, -0.000907356, 0.0319429, 0.048002, 0.0522075, 0.0497143, 0.0434097, 0.034735, 0.0245268  …  1.052e-5, -0.000968229, 7.14429e-5, -0.000951389, 0.000128155, 0.00317978, 0.000211866, 0.00314246, 0.00129781, 0.5399]), Trial([-0.9 0.0; -0.93 3.67394e-18; … ; 0.288108 -0.0354597; 0.309329 -0.0142541], 26.9, 0.7, [-0.0502835 -0.072786 … 0.0423171 0.0959134; -0.396425 -0.13277 … -0.43932 -0.567231; … ; -0.458298 -0.492002 … -0.52997 -0.827558; 0.378087 -0.052494 … -0.303705 -0.0355476], [-0.0254913; -0.039656; … ; -0.0592844; -0.0154105], [-0.00376914, -0.00318301, -0.00272649, 7.65519e-5, -0.00117397, 7.49148e-5, -0.00111831, 7.3359e-5, -0.00106539, 7.18805e-5  …  0.0997422, 0.0939296, 0.083175, 0.0684579, 0.0506431, 0.0306581, 0.00949536, -0.011855, -0.0324868, -2.30657]), Trial([0.0 0.9; -0.0212132 0.878787; … ; 0.3 0.0; 0.285557 -0.0262944], 120.1, 0.6, [-0.0301553 -0.0723542 … 0.0423171 0.0955964; 0.229674 0.0567198 … -0.43932 -0.595992; … ; 0.431963 -0.383579 … -0.52997 -0.843676; 0.391996 -0.0576329 … -0.303705 -0.0355487], [-0.0147729; 0.0644438; … ; 0.12462; -0.00730151], [-0.0148492, -0.0181038, -0.0207053, -0.0223048, -0.0403012, -0.0328052, -0.0603628, -0.0610792, -0.0584833, -0.0453615  …  -0.00212853, 0.00353013, -0.00336251, -0.00273498, -0.00093063, -0.00140813, 0.00302032, 0.00328409, 0.00305218, 2.52392]), Trial([0.9 0.0; 0.878787 -0.0212132; … ; 0.262223 -0.0221848; 0.292223 -0.0221293], 5.0, 1.5, [-0.215271 -0.0723542 … 0.271226 0.0955964; -0.101891 0.0567198 … -0.695541 -0.595992; … ; -0.101009 -0.383579 … -0.881236 -0.843676; 0.40187 -0.0576329 … -0.309322 -0.0355487], [-0.0229749; -0.0658052; … ; -0.105037; -0.0216598], [0.13059, 0.129622, 0.123825, 0.113055, 0.0974857, 0.0775972, 0.0541343, 0.028039, 0.000373378, -0.0277535  …  0.152606, 0.167004, 0.161933, 0.148482, 0.130295, 0.108819, 0.0849407, 0.0594467, 0.0331283, -3.93967])], [0.3 0.0])], [0.480079 -0.756263; -0.130409 0.1446; … ; 0.0050745 0.107373; 0.598544 0.638892])                                                                                                                                                                                                            \n",
       " Experiment(Day[Day(Trial[Trial([-0.9 0.0; -0.878787 0.0212132; … ; 0.0 0.3; 0.00893571 0.328638], 120.1, 3.6, [0.0 0.0 … 0.0 0.0; 0.0 0.0 … 0.0 0.0; … ; 0.0 0.0 … 0.0 0.0; 0.0 0.0 … 0.0 0.0], [3.37043e-5; 0.0595007; … ; 0.0609438; 0.00679331], [0.0, 0.0, 0.0, 0.0, 0.0, 0.0, 0.0, 0.0, 0.0, 0.0  …  0.0, 0.0, 0.0, 0.0, 0.0, 0.0, 0.0, 0.0, 0.0, 1.0]), Trial([0.0 -0.9; 0.0212132 -0.921213; … ; -0.0496299 0.302731; -0.0282459 0.323772], 7.0, 1.1, [-0.00145285 0.000602626 … 0.00293604 0.00122945; -0.0803437 -0.0874392 … -0.0483325 -0.0733422; … ; -0.0586043 -0.0657878 … -0.0393505 -0.0570749; -0.000746852 -0.0010904 … -0.000888919 -0.00122497], [0.00297907; -0.0382821; … ; -0.0273594; 6.84596e-5], [-0.00696469, -0.000895115, -0.00653951, -0.00150252, -0.00422969, -1.49525e-5, 0.00161474, -0.000223862, -0.0001829, 0.00156372  …  -0.0457985, 0.0492245, 0.0585121, 0.0421316, 0.0261158, 0.0134293, 0.00303783, -0.00605932, -0.0144042, -1.20727]), Trial([-0.9 0.0; -0.9 0.03; … ; 0.0 0.3; 0.019594 0.277283], 120.1, 0.1, [0.0538984 -0.00254758 … 0.00594702 0.0117782; -0.0678995 -0.0863857 … -0.0515772 -0.0729161; … ; -0.0410901 -0.0655555 … -0.0437818 -0.0572986; -0.000646895 -0.00108976 … -0.000901052 -0.00120909], [0.00129802; 0.121252; … ; 0.142449; 0.0153564], [-0.0245846, -0.0215241, -0.0401362, -0.0327564, 0.0322776, 0.0162334, -0.0359988, 0.020193, -0.02702, 0.0346295  …  0.00207715, -0.000388862, -0.00271987, -0.00484636, -0.00669878, -0.00821276, -0.00933631, -0.0100382, -0.0167997, 2.53926]), Trial([0.9 0.0; 0.878787 -0.0212132; … ; -0.0470354 0.312036; -0.0196638 0.324316], 6.4, 0.9, [-0.0153809 -0.0146203 … 0.00502821 0.0228439; -0.109733 -0.0944821 … -0.180606 -0.122942; … ; -0.1094 -0.0771265 … -0.16372 -0.127662; 0.00590623 -0.00110298 … -0.00728296 0.00327627], [-0.00253862; -0.100916; … ; -0.0737123; -0.00130572], [0.0394555, 0.0786663, 0.0628736, 0.0485515, 0.0359089, 0.02428, 0.0131561, 0.00233348, -0.00816033, -0.0181637  …  -0.0927452, -0.110968, -0.125538, -0.136574, -0.144408, -0.149504, -0.152363, -0.184597, -0.0592659, -2.67043]), Trial([0.0 -0.9; 1.83697e-18 -0.87; … ; 0.0 0.3; -0.0184206 0.276321], 120.1, 0.1, [0.0236211 -0.01746 … 0.00373004 0.0227798; 0.700679 -0.138715 … -0.219498 -0.122945; … ; 0.725484 -0.131614 … -0.20973 -0.127665; 0.0084276 -0.001442 … -0.007658 0.00327627], [-0.00688637; 0.258826; … ; 0.278925; 0.0211467], [0.0460526, 0.0471561, 0.0460558, 0.0424889, 0.0363877, 0.0278949, 0.017342, 0.00519788, -0.0079988, -0.0217071  …  -0.00121958, 0.00149266, -0.000949355, 0.000491515, -0.00105955, 0.0012399, -0.00135808, 0.000744201, -0.000579756, 4.82148]), Trial([0.0 -0.9; -0.0212132 -0.921213; … ; -0.00723418 0.346871; -0.0117911 0.317219], 33.3, 1.4, [-0.000584138 -0.0194 … 0.0029502 0.0212604; -0.478781 -0.60344 … -0.653577 -0.566914; … ; -0.482029 -0.591353 … -0.62564 -0.603876; -0.0493493 -0.0553701 … -0.0258042 -0.0650674], [0.000160657; 0.0818794; … ; 0.112574; 0.00864232], [-0.0141199, -0.0109907, -0.00859212, -0.00679599, 0.00651256, 0.00553553, 0.00428128, 0.00343717, 0.00229062, 0.00159032  …  -0.048013, -0.0649571, -0.0790875, -0.0961417, -0.0973424, -0.108109, -0.12077, -0.0938172, -0.130015, 1.9521]), Trial([0.0 0.9; 0.0212132 0.878787; … ; 0.035865 0.308104; 0.0182601 0.283813], 6.7, 2.1, [-0.00162372 -0.0194 … 0.00293898 0.0212604; -0.700863 -0.60344 … -0.661613 -0.566914; … ; -0.704068 -0.591353 … -0.640461 -0.603876; 0.67474 -0.0553701 … -0.13956 -0.0650674], [-0.000203218; -0.0628686; … ; -0.0499231; -0.00715953], [0.0992132, 0.0847342, 0.0658101, 0.0437837, 0.0202408, -0.00324702, -0.0253447, -0.0450925, -0.0619439, -0.0757182  …  0.0911041, 0.0871101, 0.0795515, 0.0515508, -0.0321221, -0.0922905, 0.0184829, 0.0673564, -0.052615, -1.24572]), Trial([0.0 0.9; -0.0212132 0.878787; … ; 0.0 0.3; 1.83697e-18 0.33], 120.1, 0.1, [-0.00162381 -0.0194 … 0.00293898 0.0212604; -0.733522 -0.615371 … -0.661613 -0.574928; … ; -0.726226 -0.59903 … -0.640461 -0.60888; 0.662502 -0.0570717 … -0.13956 -0.0659196], [-0.000114203; 0.106104; … ; 0.120357; 0.00976129], [-0.00148671, -0.00982276, -0.0194105, -0.029702, -0.0399488, -0.0492807, -0.0568282, -0.0618674, -0.0639487, -0.0762191  …  0.000841667, -0.000831641, 0.00084176, -0.000831733, 0.000841853, -0.000831824, 0.000841946, -0.000831916, 0.000842039, 2.81486]), Trial([0.0 0.9; 1.83697e-18 0.93; … ; 0.0 0.3; 0.00146653 0.270036], 120.1, 12.0, [0.234797 -0.0194374 … 0.00291948 0.0212392; -0.646156 -1.05191 … -0.853734 -0.769159; … ; -0.386193 -0.948189 … -0.784041 -0.762347; 0.652803 -0.0623795 … -0.149249 -0.0779414], [-0.00500581; 0.0761857; … ; 0.0950439; -0.00482545], [-0.463775, -0.169811, 0.00700258, -0.127201, 0.100307, 0.195963, 0.241199, 0.260377, 0.258571, 0.236087  …  -0.00287451, 0.00338875, -0.00267759, -0.0032271, 0.00551874, -0.000911466, 0.00109321, -0.00125355, 0.000617263, 0.702833]), Trial([0.0 0.9; 1.83697e-18 0.87; … ; 0.00778986 0.336257; 0.0151179 0.307166], 2.0, 0.7, [0.234758 -0.0194406 … 0.00291948 0.0212392; -0.759171 -1.07176 … -0.853734 -0.769159; … ; -0.498927 -0.969229 … -0.784041 -0.762347; 0.634789 -0.0396787 … -0.149249 -0.0779414], [-0.00504371; 0.0128067; … ; 0.0297356; -0.0103025], [0.0748577, 0.0776141, 0.0762301, 0.0701422, 0.0593711, 0.0446022, 0.0271031, 0.00849063, -0.00958768, -0.0257546, -0.0391027, -0.0492538, -0.0562925, -0.0465847, -0.0694534, -0.0490644, -0.0750848, -0.0464046, -0.0770415, -0.708939]), Trial([-0.9 0.0; -0.878787 -0.0212132; … ; 0.0 0.3; 0.0130323 0.272979], 120.1, 0.1, [0.24425 -0.0194406 … 0.00291948 0.0212392; -0.737337 -1.07176 … -0.853734 -0.769159; … ; -0.480201 -0.969229 … -0.784041 -0.762347; 0.63479 -0.0396787 … -0.149249 -0.0779414], [-0.00538871; 0.107423; … ; 0.127624; -0.00216558], [-0.0406145, -0.0318007, -0.0211396, -0.00896174, 0.00430264, 0.0181446, 0.0320013, 0.0452832, 0.0574027, 0.0678037  …  0.0172694, -0.0135469, 0.0158586, -0.0137636, 0.00681841, -0.00625076, -0.0193132, -0.0248475, -0.0129928, 1.43741]), Trial([0.0 0.9; 1.83697e-18 0.87; … ; -0.0467965 0.311634; -0.0571263 0.283468], 2.1, 0.8, [0.243826 -0.0194683 … 0.00291948 0.0212392; -1.57521 -1.24404 … -0.853734 -0.769159; … ; -1.27199 -1.13568 … -0.784041 -0.762347; 0.580688 -0.0425026 … -0.149249 -0.0779414], [-0.0054356; 0.00262326; … ; 0.0282102; -0.00810871], [0.11349, 0.113302, 0.106734, 0.0933745, 0.0737239, 0.0492262, 0.0220597, -0.00526948, -0.0304112, -0.0515831  …  -0.0788758, -0.0852824, -0.0878883, -0.0877242, -0.100602, -0.093128, -0.109717, -0.122116, -0.057423, -0.932229]), Trial([0.0 0.9; 1.83697e-18 0.87; … ; -0.0255333 0.326281; -0.00494527 0.30446], 2.3, 1.0, [0.243826 -0.019467 … 0.00291729 0.0212355; -1.57521 -1.266 … -0.885056 -0.80969; … ; -1.27199 -1.15266 … -0.810523 -0.798701; 0.580688 -0.0826784 … -0.153326 -0.0852684], [-0.00537629; 0.106893; … ; 0.131469; -0.00338104], [-0.0483018, -0.0587423, -0.0664099, -0.0700753, -0.0688893, -0.0626073, -0.0516882, -0.0372207, -0.020697, -0.00370873  …  -0.0364515, -0.0628165, -0.0741124, 0.0021594, 0.0949136, 0.137487, 0.148102, 0.143177, 0.130691, 1.18655]), Trial([-0.9 0.0; -0.878787 -0.0212132; … ; -0.0205089 0.254762; 0.0075177 0.265463], 21.0, 2.4, [0.215632 -0.0194755 … 0.00345049 0.0212355; -1.8894 -1.23501 … -0.622747 -0.80969; … ; -1.71057 -1.11858 … -0.50617 -0.798701; 0.555198 -0.0377071 … -0.112958 -0.0852684], [-0.0055108; 0.0461401; … ; 0.04696; -0.0154758], [-0.00735948, -0.00263995, 0.00259758, 0.00814271, 0.0137521, 0.0191622, 0.0241037, 0.0283156, 0.0315603, 0.0336374  …  -0.0581924, -0.023354, 0.00560536, 0.0197858, 0.0239243, 0.0400832, 0.0337062, 0.0193713, -0.00275636, -0.30349]), Trial([0.0 -0.9; 1.83697e-18 -0.87; … ; -0.0477011 0.29664; -0.0177121 0.295827], 4.2, 0.9, [0.215632 -0.0194755 … 0.00344578 0.0212355; -1.8894 -1.23501 … -0.635076 -0.80969; … ; -1.71057 -1.11858 … -0.517522 -0.798701; 0.555198 -0.0377071 … -0.113451 -0.0852684], [-0.00490813; 0.080402; … ; 0.0827823; -0.0130781], [-0.0120898, -0.012423, -0.0121616, -0.0112564, -0.00971517, -0.00760409, -0.00503901, -0.0021684, 0.000847229, 0.00385483  …  -0.00636089, -0.00772083, -0.00865124, 0.00448771, 0.00220798, -0.00646906, -0.0169491, -0.0193326, -0.00512674, 0.508267]), Trial([0.9 0.0; 0.878787 -0.0212132; … ; 0.0228012 0.281395; 0.00176968 0.302788], 6.9, 0.7, [0.319619 -0.0194755 … 0.00317786 0.0212355; -1.88579 -1.23501 … -1.39538 -0.80969; … ; -1.70085 -1.11858 … -1.27872 -0.798701; 0.552667 -0.0377071 … -0.182807 -0.0852684], [0.0121127; 0.000813327; … ; 0.00248382; -0.0205893], [-0.0141894, -0.0143454, -0.0140328, -0.0132149, -0.0118854, -0.0100692, -0.00782004, -0.00521491, -0.00234726, 0.000679977  …  -0.012765, -0.0138533, -0.0147915, 0.0310531, 0.0432758, 0.0392682, 0.0278632, 0.0132009, -0.00268143, -1.34633]), Trial([0.0 -0.9; 1.83697e-18 -0.87; … ; 0.0 0.3; 1.83697e-18 0.33], 120.1, 1.4, [0.31963 -0.0194893 … 0.00317786 0.0212355; -1.88676 -1.28362 … -1.39538 -0.80969; … ; -1.70211 -1.17897 … -1.27872 -0.798701; 0.553518 -0.214219 … -0.182807 -0.0852684], [0.00550426; 0.112283; … ; 0.119588; -0.000309761], [0.0254988, 0.0228394, 0.0187617, 0.0133333, 0.00674933, -0.000687466, -0.00860579, -0.0166137, -0.0243447, -0.0314926  …  -0.00819739, 0.00844426, -0.0082026, 0.00844963, -0.00820781, 0.00845499, -0.00821302, 0.00846036, -0.00821823, 1.44903]), Trial([0.0 0.9; 1.83697e-18 0.93; … ; 0.0440962 0.317043; 0.0453653 0.28707], 3.9, 1.1, [0.31963 -0.0195228 … 0.00317786 0.0212274; -1.88676 -1.29795 … -1.39538 -0.804406; … ; -1.70211 -1.20676 … -1.27872 -0.791071; 0.553518 -0.114568 … -0.182807 -0.0709027], [0.00543015; 0.0271561; … ; 0.0235548; -0.0142995], [-0.219792, -0.171808, -0.129967, 0.0196668, -0.0626665, 0.0215657, 0.0614287, 0.0853114, 0.102593, 0.115138  …  0.0673951, 0.0847079, 0.0215851, -0.0263163, 0.018564, 0.0189137, -0.0638384, -0.101034, -0.0407196, -0.813666]), Trial([0.0 0.9; 1.83697e-18 0.87; … ; -0.0450212 0.310799; -0.0541659 0.282227], 2.4, 1.1, [0.31963 -0.0195229 … 0.00317786 0.0218939; -1.88676 -1.32643 … -1.39538 0.346432; … ; -1.70211 -1.23097 … -1.27872 0.300268; 0.553518 -0.14471 … -0.182807 -0.00771125], [0.00549848; 0.147331; … ; 0.137149; -0.0104823], [-0.0254192, -0.0323849, -0.038023, -0.0415752, -0.0424666, -0.0404477, -0.0356711, -0.0286709, -0.0202493, -0.0113079  …  0.0152489, 0.0105794, 0.0050382, 0.0146048, 0.0289961, 0.0323944, 0.0281373, 0.0202253, 0.0108069, 1.62277]), Trial([0.0 -0.9; 1.83697e-18 -0.87; … ; 0.0398907 0.321683; 0.0388488 0.291701], 18.7, 9.5, [0.31963 -0.0195279 … 0.00317786 0.0200663; -1.88676 -1.33751 … -1.39538 -1.02634; … ; -1.70211 -1.24492 … -1.27872 -0.857638; 0.553518 -0.160626 … -0.182807 -0.0117459], [0.0167293; 0.0718629; … ; 0.0861963; -0.0132618], [-0.0121697, -0.0103443, -0.00728244, -0.00296073, 0.00253988, 0.00904123, 0.0162911, 0.0239969, 0.0318609, 0.0396098  …  0.0273105, 0.0218585, -0.0146647, -0.0767335, -0.0843178, -0.0307624, 0.000528058, 0.00172937, 0.0295746, 0.359722])], [0.0 0.3])], [0.480079 -0.756263; -0.130409 0.1446; … ; 0.0050745 0.107373; 0.598544 0.638892])                                                                                                                                                                                                                                                           \n",
       " Experiment(Day[Day(Trial[Trial([0.0 0.9; 0.03 0.9; … ; 0.3 0.0; 0.297275 0.029876], 120.1, 0.6, [0.0 0.0 … 0.0 0.0; 0.0 0.0 … 0.0 0.0; … ; 0.0 0.0 … 0.0 0.0; 0.0 0.0 … 0.0 0.0], [0.00214461; 0.026916; … ; 0.0481501; 0.00615476], [0.0, 0.0, 0.0, 0.0, 0.0, 0.0, 0.0, 0.0, 0.0, 0.0  …  0.0, 0.0, 0.0, 0.0, 0.0, 0.0, 0.0, 0.0, 0.0, 1.0]), Trial([0.0 0.9; -0.03 0.9; … ; 0.338775 -0.0184475; 0.326001 0.00869674], 11.9, 3.9, [-0.000652458 -0.00337697 … -0.00157158 -0.00138512; -0.10909 -0.0354072 … -0.0702426 -0.0613672; … ; -0.137072 -0.0607022 … -0.0969905 -0.084496; 0.196452 -0.0085611 … -0.00755364 -0.00723055], [0.0025413; 0.0199824; … ; 0.0395288; 0.0228926], [-0.019101, -0.00520749, -0.0125552, 0.00998616, -0.0276969, -0.0103295, -0.027256, -0.0165544, -0.00757166, 0.00166933  …  -0.0261495, -0.0309702, -0.0249226, -0.0213983, -0.0229182, -0.021427, -0.00171261, 0.0174307, 0.0168396, 0.853337]), Trial([0.9 0.0; 0.9 0.03; … ; 0.311019 0.0178664; 0.290206 -0.00373957], 13.5, 2.6, [0.0151388 -0.00337697 … -0.00157158 -0.00163302; -0.0573592 -0.0354072 … -0.0702426 -0.064474; … ; -0.00647003 -0.0607022 … -0.0969905 -0.0910429; 0.397351 -0.0085611 … -0.00755364 -0.0106768], [0.00313448; 0.00779509; … ; 0.0211585; 0.0253107], [-0.012973, -0.0156021, -0.0177613, -0.0194394, -0.0206496, -0.0214243, -0.0218094, -0.0218578, -0.0216234, -0.0211568  …  -0.0114704, 0.00712079, 0.0284828, 0.0286461, 0.0274034, 0.0272451, 0.0272771, 0.0268984, 0.0257147, 0.46313]), Trial([0.9 0.0; 0.878787 -0.0212132; … ; 0.306297 0.0324105; 0.320664 0.00607458], 5.6, 2.5, [-0.106679 -0.00337697 … -0.00157158 -0.00163302; -0.172075 -0.0354072 … -0.0702426 -0.064474; … ; -0.191757 -0.0607022 … -0.0969905 -0.0910429; 0.398889 -0.0085611 … -0.00755364 -0.0106768], [9.27547e-5; -0.00384432; … ; 0.00372629; 0.0273359], [0.0363621, 0.0379141, 0.0384163, 0.0376911, 0.0356236, 0.0321728, 0.0273742, 0.0213352, 0.014225, 0.00626185  …  0.0360488, 0.0436842, 0.0462172, 0.0459121, 0.0437258, 0.0400915, 0.0285628, -0.00237698, -0.0199017, 0.116197]), Trial([0.0 0.9; 0.03 0.9; … ; 0.319128 -0.02532; 0.333275 0.00113521], 115.7, 9.7, [-0.146805 -0.010227 … -0.00358998 -0.000657041; -0.183953 -0.0345349 … -0.073013 -0.0706763; … ; -0.208396 -0.0592303 … -0.102046 -0.100885; 0.307759 -0.0085271 … -0.00751112 -0.010497], [-3.86181e-5; 0.0166341; … ; 0.0417849; 0.0321927], [0.0182832, 0.0171412, 0.0156858, 0.0140219, 0.0122311, 0.0103669, 0.00845476, 0.00649673, 0.00447785, 0.00237422  …  -0.0053642, -0.0041986, -0.00732923, -0.00542363, 0.00140646, -0.000609826, -0.0092496, -0.00797551, -0.00814783, 1.21095]), Trial([0.9 0.0; 0.93 0.0; … ; 0.32282 -0.0185591; 0.295043 -0.0298925], 23.7, 10.6, [-0.160985 -0.010227 … 0.000371393 -0.000657041; 0.0615473 -0.0345349 … -0.0730006 -0.0706763; … ; 0.230825 -0.0592303 … -0.10198 -0.100885; 0.425244 -0.0085271 … -0.00747312 -0.010497], [-0.00222547; 0.0277286; … ; 0.0546379; 0.0260562], [-0.190346, -0.102895, -0.0254954, 0.0115296, 0.0296824, 0.0388012, -0.0973212, -0.0279281, 0.0041711, -0.100666  …  -0.0196479, -0.0410347, -0.0218437, -0.0378129, -0.0201737, 0.00335333, 0.0226895, 0.0454508, 0.031833, 0.862144]), Trial([0.9 0.0; 0.878787 -0.0212132; … ; 0.278455 -0.0420243; 0.253222 -0.0257987], 5.2, 2.5, [-0.305964 -0.010227 … 0.000371393 -0.000657041; -0.289535 -0.0345349 … -0.0730006 -0.0706763; … ; -0.377851 -0.0592303 … -0.10198 -0.100885; 0.402177 -0.0085271 … -0.00747312 -0.010497], [-0.00476162; -0.0112114; … ; -0.00977277; 0.0240372], [0.0563359, 0.0580384, 0.0576224, 0.0548633, 0.0496775, 0.0421335, 0.0324462, 0.0209574, 0.00810677, -0.00560015  …  -0.110724, -0.0787341, -0.0722834, -0.00529682, 0.0715938, 0.0735954, 0.0537631, 0.0334853, 0.0164641, -0.646839]), Trial([0.0 -0.9; 1.83697e-18 -0.87; … ; 0.3 0.0; 0.288001 0.0274957], 120.1, 5.7, [-0.31 -0.0102275 … 0.000375555 -0.000707817; -0.37921 -0.0345856 … -0.0677264 -0.0713932; … ; -0.563524 -0.0594556 … -0.0964398 -0.102393; 0.0441651 -0.0314307 … 0.213446 0.0170135], [-0.00367682; 0.0350808; … ; 0.0624668; 0.00731992], [-0.0359227, -0.0369804, -0.036579, -0.0345773, -0.0309744, -0.0259162, -0.0196766, -0.012617, -0.00513699, 0.00237521  …  8.18753e-5, -4.89618e-5, 0.000370369, 0.000107094, 0.000362662, 0.000150904, 0.000287182, 0.000164676, 0.000204052, 1.0848]), Trial([-0.9 0.0; -0.87 0.0; … ; 0.320557 -0.0408165; 0.336593 -0.0154625], 8.8, 2.8, [-0.31 -0.0184145 … -0.000246641 -0.000788717; -0.37921 0.12712 … -0.140944 -0.0877163; … ; -0.563524 0.155633 … -0.211075 -0.127348; 0.0441651 0.0578938 … 0.166907 0.00562385], [-0.00382601; 0.0292952; … ; 0.0416947; 0.00516752], [0.0162167, 0.0193618, 0.0226054, 0.0258305, 0.0289009, 0.0316702, 0.0339921, 0.0357348, 0.0367955, 0.0371148  …  -0.0490702, -0.0129192, 0.000126212, -0.034526, -0.0123275, -0.0293209, -0.0115414, -0.0198423, -0.0073471, 0.818524]), Trial([-0.9 0.0; -0.87 0.0; … ; 0.3 0.0; 0.327888 -0.0110571], 120.1, 1.2, [-0.31 0.0148352 … -0.000246641 -0.000788717; -0.37921 0.274625 … -0.140944 -0.0877163; … ; -0.563524 0.343753 … -0.211075 -0.127348; 0.0441651 0.0836072 … 0.166907 0.00562385], [-0.00543406; 0.0141069; … ; 0.0293237; -0.00402447], [0.064528, 0.0649331, 0.0632505, 0.0592377, 0.0527855, 0.0439537, 0.0329967, 0.0203702, 0.00671511, -0.00718635  …  -0.00181694, 0.00366038, -0.00261959, -0.00236157, 0.0061888, -0.00731321, 0.00593673, -0.00275374, -0.00588485, 0.256408]), Trial([0.0 -0.9; 1.83697e-18 -0.87; … ; 0.3 0.0; 0.3 -0.03], 120.1, 0.5, [-0.31 0.368655 … -0.000246641 -0.000788717; -0.37921 0.178691 … -0.140944 -0.0877163; … ; -0.563524 0.242166 … -0.211075 -0.127348; 0.0441651 0.0841013 … 0.166907 0.00562385], [-0.00484492; 0.0151491; … ; 0.044685; -0.00033397], [0.0137991, 0.0203521, 0.027005, 0.0333495, 0.038972, 0.043506, 0.0466761, 0.048324, 0.0484128, 0.0470103  …  0.00367399, -0.003793, 0.0036768, -0.0037959, 0.00367961, -0.00379881, 0.00368243, -0.00380171, 0.00368524, 0.993584]), Trial([-0.9 0.0; -0.87 0.0; … ; 0.323153 -0.043364; 0.322949 -0.0133646], 6.1, 1.4, [-0.31 0.305169 … -0.000246641 -0.0165843; -0.37921 -0.0129998 … -0.140944 -0.0938566; … ; -0.563524 -0.0750748 … -0.211075 -0.141962; 0.0441651 0.0753979 … 0.166907 0.00480334], [-0.0139527; 0.00268307; … ; 0.00138404; -0.00555591], [0.0392653, 0.0349386, 0.029159, 0.0220567, 0.0138896, 0.00504296, -0.00398608, -0.0126196, -0.0202469, -0.026284  …  -0.023106, 0.0694205, 0.0914619, 0.0833758, 0.0673905, 0.0496344, 0.0316221, 0.0139264, -0.00298813, -0.974575]), Trial([0.0 -0.9; 1.83697e-18 -0.87; … ; 0.278057 -0.00246424; 0.294849 0.0223962], 31.5, 0.9, [-0.31 0.304232 … 0.125613 -0.0165843; -0.37921 0.364906 … 0.257448 -0.0938566; … ; -0.563524 0.245031 … 0.69482 -0.141962; 0.0441651 0.080741 … 0.275065 0.00480334], [-0.00929983; 0.04261; … ; 0.0912417; 0.00525721], [-0.0164199, -0.0172204, -0.0175164, -0.01722, -0.0162867, -0.0147216, -0.0125773, -0.00994349, -0.00693228, -0.00366206  …  -0.0155857, -0.00372348, -0.0265222, -0.022498, -0.0295355, -0.0101423, -0.031969, -0.0264474, -0.0316439, 1.95599]), Trial([0.9 0.0; 0.878787 0.0212132; … ; 0.30166 -0.0400615; 0.32055 -0.0167553], 6.8, 2.2, [-0.31 0.295546 … 0.108354 -0.0165843; -0.37921 0.133748 … -0.531028 -0.0938566; … ; -0.563524 0.0159137 … -0.440251 -0.141962; 0.0441651 0.614843 … -0.226849 0.00480334], [-0.0160509; -0.0556171; … ; -0.068453; -0.000720907], [0.100483, 0.100612, 0.0970621, 0.0897041, 0.078616, 0.0640712, 0.046513, 0.0265296, 0.00483663, -0.0177334  …  0.106384, 0.0909063, 0.0730162, 0.0532265, 0.0321689, 0.0105598, -0.0108329, -0.0355569, -0.073882, -2.11807]), Trial([0.0 0.9; 1.83697e-18 0.87; … ; 0.3 0.0; 0.316483 0.0250658], 120.1, 2.6, [-0.31 0.271283 … 0.159401 -0.0165843; -0.37921 0.82993 … -0.791894 -0.0938566; … ; -0.563524 0.836335 … -0.662482 -0.141962; 0.0441651 0.576346 … -0.222475 0.00480334], [-0.00411111; 0.0430418; … ; 0.0795012; 0.00479703], [-0.0390655, -0.0476328, -0.0550587, -0.0604794, -0.0631859, -0.0627868, -0.0593092, -0.0531975, -0.0452103, -0.0362472  …  0.0192498, 0.0327251, 0.0256257, 0.0085244, -0.00505849, -0.0220663, -0.0215767, -0.0157621, 0.0188814, 1.39872]), Trial([0.0 -0.9; 1.83697e-18 -0.87; … ; 0.314105 -0.0260527; 0.29438 -0.00344854], 9.1, 3.7, [-0.31 0.24841 … 0.136156 -0.0165843; -0.37921 0.501487 … -0.88181 -0.0938566; … ; -0.563524 0.487749 … -0.828926 -0.141962; 0.0441651 0.609459 … -0.234906 0.00480334], [0.00965481; -4.07781e-5; … ; 0.0265341; 0.00635416], [0.0464314, 0.0564141, 0.0655203, 0.0731045, 0.0786167, 0.0816762, 0.0821162, 0.0799882, 0.0755295, 0.0691045  …  -0.0294459, -0.0159919, 0.00378421, -0.00600736, -0.0198756, -0.0295638, -0.0225735, -0.0411629, -0.0295206, 0.416696]), Trial([0.9 0.0; 0.9 -0.03; … ; 0.342623 -0.00101137; 0.328229 -0.0273325], 37.1, 7.5, [-0.31 0.211425 … 0.132585 -0.0227977; -0.37921 0.487257 … -0.902515 -0.108683; … ; -0.563524 0.436852 … -0.851287 -0.168815; 0.0441651 0.579328 … -0.22287 0.00401099], [-0.0130717; 0.00573178; … ; 0.03767; 0.00687538], [-0.0115296, -0.0142146, -0.0164888, -0.0182871, -0.0195655, -0.0203019, -0.0204951, -0.0201641, -0.0193463, 0.0360288  …  0.0279502, 0.0268658, 0.023962, 0.00672016, 0.0128053, -0.0117373, -0.000352628, -0.0236283, -0.0114372, 0.638203]), Trial([0.9 0.0; 0.878787 0.0212132; … ; 0.324109 -0.0283703; 0.324749 0.0016229], 7.7, 2.2, [-0.31 0.212355 … 0.182855 -0.0227977; -0.37921 0.488967 … -0.975634 -0.108683; … ; -0.563524 0.442681 … -0.995312 -0.168815; 0.0441651 0.60417 … -0.219725 0.00401099], [-0.0169097; -0.00678974; … ; 0.0110646; 0.0071575], [0.0459066, 0.044686, 0.0419456, 0.0376779, 0.03195, 0.0248933, 0.0166918, 0.0820696, 0.0540032, 0.0114052  …  0.0297161, 0.019031, 0.0449006, 0.0364667, -0.000997805, 0.0439981, 0.0378368, 0.0169029, 0.0285351, -0.405812]), Trial([0.9 0.0; 0.878787 0.0212132; … ; 0.30419 0.0337618; 0.291775 0.00645151], 7.8, 2.6, [-0.31 0.207881 … 0.211921 -0.0227977; -0.37921 0.476949 … -0.9084 -0.108683; … ; -0.563524 0.414952 … -0.865005 -0.168815; 0.0441651 0.586239 … -0.208255 0.00401099], [-0.0165612; 0.0114994; … ; 0.0436957; 0.00865291], [0.0092001, 0.00854661, 0.00775668, 0.00685397, -0.0141053, -0.0297971, -0.0167657, -0.0350269, -0.0169904, 4.84432e-5  …  0.027776, 0.0267727, 0.0013119, -0.0199828, 0.0174459, 0.0296865, 0.0252742, 0.0165624, -0.0145399, 0.503047]), Trial([0.9 0.0; 0.878787 0.0212132; … ; 0.302087 -0.0445472; 0.301451 -0.014554], 7.8, 2.4, [-0.31 0.207362 … 0.226061 -0.0227977; -0.37921 0.471604 … -0.853788 -0.108683; … ; -0.563524 0.404136 … -0.77489 -0.168815; 0.0441651 0.594111 … -0.182946 0.00401099], [-0.018729; 0.00924978; … ; 0.0364658; 0.00963624], [0.0432605, 0.0426071, 0.0405779, 0.0371489, 0.032362, 0.0263158, 0.0191555, 0.0110641, 0.00225909, 0.0499852  …  0.00308636, 0.03673, 0.0404671, 0.0303073, 0.0175074, 0.0304202, 0.0078412, -0.0215026, 0.0206179, 0.140167])], [0.3 0.0])], [0.480079 -0.756263; -0.130409 0.1446; … ; 0.0050745 0.107373; 0.598544 0.638892])                                                                                                                                                                                                                                                                                                                                                                             \n",
       " Experiment(Day[Day(Trial[Trial([0.9 0.0; 0.921213 -0.0212132; … ; 0.504857 -0.528038; 0.505844 -0.498054], 9.1, 1.4, [0.0 0.0 … 0.0 0.0; 0.0 0.0 … 0.0 0.0; … ; 0.0 0.0 … 0.0 0.0; 0.0 0.0 … 0.0 0.0], [0.0550333; 0.000850924; … ; 0.00259222; 5.80129e-5], [0.0, 0.0, 0.0, 0.0, 0.0, 0.0, 0.0, 0.0, 0.0, 0.0  …  0.0, 0.0, 0.0, 0.0, 0.0, 0.0, 0.0, 0.0, 0.0, 1.0]), Trial([0.0 -0.9; 0.03 -0.9; … ; 0.5 -0.5; 0.47038 -0.504759], 120.1, 0.9, [-8.79493e-5 -0.00494942 … -0.0058622 0.152027; -0.00230467 -0.00343339 … -0.0032046 -0.0363161; … ; -0.0048599 -0.00704017 … -0.00528199 -0.0457863; 0.000335188 0.00114056 … -0.00035769 0.000803869], [0.0493916; -0.00204518; … ; -0.00161466; 0.000115512], [0.0710048, 0.0678401, 0.0629991, 0.0563154, 0.0476755, 0.0370661, 0.0246215, 0.0106598, -0.00430314, -0.0195761  …  -0.00160293, -0.000422501, -0.000294177, -0.00055188, -0.000397132, -0.00196176, -0.00162832, 0.00190662, 0.00359235, 1.3733]), Trial([-0.9 0.0; -0.9 -0.03; … ; 0.480689 -0.477847; 0.489949 -0.506383], 11.6, 3.3, [-0.0733941 -0.0811702 … -0.0716072 0.0301592; -0.0063452 -0.00833389 … -0.00770572 -0.0508727; … ; -0.0146007 -0.0176788 … -0.0153227 -0.0758943; 0.000226381 0.00122852 … -0.000451243 0.000689588], [0.0428318; 0.0180417; … ; 0.00982403; -0.000149682], [-0.000277958, 0.000733805, 0.00108036, 0.000623036, 0.00225986, -0.0011089, 0.00207819, 0.00427765, 0.00606165, 0.00769181  …  -0.00567677, 0.00971866, 0.0108697, 0.0103258, 0.0089328, 0.00536464, -0.00358522, -0.00654839, -0.00982817, 0.87428]), Trial([0.0 -0.9; 0.0212132 -0.921213; … ; 0.534204 -0.483174; 0.525653 -0.454418], 27.4, 1.0, [-0.0656714 -0.0594907 … -0.0703702 -0.047939; -0.00632007 -0.0075079 … -0.00770459 -0.050908; … ; -0.0144728 -0.0150198 … -0.0153171 -0.0760431; 0.000288182 0.00147488 … -0.000450708 0.000687575], [-0.0137372; 0.017976; … ; 0.0095071; -0.000409821], [-0.0446295, -0.0420979, -0.0395615, -0.0370303, 0.0211196, 0.0216944, 0.0206357, 0.0207861, 0.0191972, 0.0189482  …  0.0195727, -0.00151586, -0.0184276, -0.0316861, -0.0416316, -0.0402962, 0.00714748, 0.0384527, 0.036053, -0.0396189]), Trial([0.0 -0.9; 1.83697e-18 -0.87; … ; 0.546721 -0.491816; 0.52863 -0.467885], 83.3, 2.3, [-0.070709 0.229135 … -0.0703702 -0.047939; -0.00632142 -0.00255005 … -0.00770459 -0.050908; … ; -0.0144777 0.000582648 … -0.0153171 -0.0760431; 0.000288399 0.00195952 … -0.000450708 0.000687575], [0.019316; 0.012003; … ; 0.000945475; -0.000424631], [0.0461276, 0.0524284, 0.0569703, 0.0592267, 0.0588447, 0.0556995, 0.0499107, 0.0418169, 0.0319181, 0.0208017  …  0.0290611, 0.0295214, 0.0261027, 0.0205982, 0.0137148, 0.00583069, -0.00269996, -0.0114668, -0.0179808, 0.565621]), Trial([0.9 0.0; 0.9 -0.03; … ; 0.481134 -0.529626; 0.48114 -0.499626], 6.6, 0.7, [-0.070709 -0.0734414 … -0.0703702 -0.047939; -0.00632142 -0.00218588 … -0.00770459 -0.050908; … ; -0.0144777 0.00232677 … -0.0153171 -0.0760431; 0.000288399 0.0103534 … -0.000450708 0.000687575], [-0.0875316; 0.0101247; … ; -0.00448171; 0.000305014], [0.059881, 0.0596232, 0.0575538, 0.0536897, 0.0481185, 0.0409926, 0.0325228, 0.0229723, 0.01265, 0.00190283  …  0.0837264, 0.0858389, 0.0835038, 0.0766729, 0.0656192, 0.050913, 0.0333518, 0.0138769, -0.00650316, -2.03312]), Trial([-0.9 0.0; -0.87 0.0; … ; 0.5 -0.5; 0.487688 -0.527357], 120.1, 0.1, [-0.070739 -0.0804773 … -0.0703716 -0.0354922; -0.0176252 0.118412 … -0.00770753 -0.0136186; … ; -0.0230283 0.119315 … -0.0153218 -0.0497964; 0.000271636 0.0104518 … -0.000450708 0.000689165], [0.199283; -0.00842159; … ; -0.00501367; 0.000468434], [0.0447693, 0.0457491, 0.0450495, 0.0423785, 0.0375335, 0.030439, 0.0211771, 0.010007, -0.00263517, -0.0161594  …  -0.00182422, 0.00291294, 0.0028127, -0.000504073, -0.00564887, -0.0119207, -0.0120741, 0.0110017, 0.0163965, 4.78154]), Trial([0.0 0.9; 1.83697e-18 0.87; … ; 0.5 -0.5; 0.488637 -0.527765], 120.1, 3.7, [-0.350302 -0.696251 … -0.301831 -0.0317479; -0.0178323 0.863092 … -0.017456 -0.0622976; … ; -0.0220128 0.799102 … -0.0361336 -0.122705; -0.00126448 0.0352969 … -0.00169189 0.000360526], [0.0597514; 0.0618122; … ; 0.0551607; 0.00253595], [-0.00830938, -0.00839615, -0.00290782, -0.00343699, -0.00784766, -0.00425585, -0.00659841, -0.0119876, -0.00705038, 0.000364834  …  -0.00120369, -0.00728709, 0.00979288, 0.000193081, -0.00632918, 0.00587046, -0.00446781, 0.00478281, -0.00577906, 1.27545]), Trial([0.0 -0.9; 0.0212132 -0.921213; … ; 0.479044 -0.537604; 0.457874 -0.516347], 5.7, 0.8, [-0.436187 -0.696251 … -2.40081 -0.221465; -0.017902 0.863092 … -0.0633804 -0.0624503; … ; -0.0221905 0.799102 … -0.166481 -0.123115; -0.00126453 0.0352969 … -0.00359779 0.000359671], [-0.172321; 0.0572082; … ; 0.0420897; 0.00234522], [0.0096155, -0.00510235, -0.0185513, -0.0303944, 0.0450783, 0.0420743, 0.0367577, 0.0334727, 0.0277076, 0.0242535  …  0.106423, 0.133263, 0.137724, 0.129483, 0.111359, 0.0846945, 0.0510715, 0.0127259, -0.0275714, -4.54651]), Trial([0.9 0.0; 0.9 -0.03; … ; 0.5 -0.5; 0.5 -0.53], 120.1, 0.1, [-0.445352 1.28324 … -2.40081 -0.237857; -0.0182523 0.86374 … -0.0633804 -0.0630687; … ; -0.0238343 0.801413 … -0.166481 -0.125934; -0.00490509 0.0181167 … -0.00359779 -0.00443346], [0.312753; 0.0605495; … ; 0.0521678; -0.000152306], [-0.178375, -0.16632, -0.149751, -0.129076, -0.226704, -0.323867, -0.106145, -0.0427652, 0.0106533, 0.0566171  …  0.00898833, -0.00893527, 0.00898858, -0.00893552, 0.00898883, -0.00893577, 0.00898909, -0.00893602, 0.00898934, 4.83389]), Trial([0.9 0.0; 0.9 -0.03; … ; 0.5 -0.5; 0.53 -0.5], 120.1, 0.1, [-0.672628 -2.23907 … -2.40081 -0.474116; -0.0183612 0.863817 … -0.0633804 -0.0631775; … ; -0.0242695 0.801895 … -0.166481 -0.126297; -0.0049109 0.040621 … -0.00359779 -0.0044341], [-0.0148641; 0.0616215; … ; 0.0558211; 0.00356234], [0.272371, 0.270277, 0.26075, 0.243878, 0.220016, 0.189753, 0.153891, 0.113423, 0.069512, 0.0234678  …  -0.0225174, 0.0213364, -0.0224993, 0.0213294, -0.0224812, 0.0213233, -0.0224632, 0.021318, -0.0224453, 1.27156]), Trial([-0.9 0.0; -0.9 -0.03; … ; 0.479703 -0.477033; 0.468657 -0.504925], 23.0, 0.8, [-0.675816 -2.23781 … -2.40081 -0.469212; -0.0184165 0.861218 … -0.0633804 -0.0978941; … ; -0.0245708 0.801265 … -0.166481 -0.204424; -0.0060687 0.0414305 … -0.00359779 0.00135385], [-0.0598765; 0.0546404; … ; 0.0396881; 0.00363515], [-0.028569, -0.0291913, -0.0292765, -0.0288598, -0.021061, -0.0178892, -0.0169018, -0.0168637, -0.0171224, -0.0172871  …  -0.177566, -0.099844, -0.0105327, 0.0149139, 0.0118152, -0.143007, -0.0805979, -0.189819, -0.120377, 0.13564]), Trial([0.0 -0.9; 0.0212132 -0.921213; … ; 0.531746 -0.517962; 0.503648 -0.507449], 2.8, 0.9, [-0.675816 -2.23781 … -2.40081 -1.80618; -0.0184165 0.861218 … -0.0633804 -0.11758; … ; -0.0245708 0.801265 … -0.166481 -0.264228; -0.0060687 0.0414305 … -0.00359779 0.000115644], [-0.146552; 0.0528413; … ; 0.0342255; 0.00351503], [-0.0196332, -0.0193322, -0.0182519, -0.0283702, -0.0271047, -0.0149526, -0.000642744, -0.00872656, 0.000756633, 0.0113426  …  0.0710148, 0.0674918, 0.0613799, 0.0531021, 0.0430931, 0.031777, 0.0195611, 0.110626, 0.0673961, -2.54916]), Trial([-0.9 0.0; -0.9 -0.03; … ; 0.5 -0.5; 0.481335 -0.523486], 120.1, 0.1, [0.373878 -2.23781 … -2.40081 -1.80618; -0.018123 0.860381 … -0.0633804 -0.11758; … ; -0.0226945 0.80101 … -0.166481 -0.264228; -0.00606773 0.0414305 … -0.00359779 0.000115644], [0.183319; 0.0558429; … ; 0.0453412; 0.00370668], [-0.0128284, -0.0118347, -0.0106815, -0.00284323, 0.000769756, 0.00237377, 0.00283516, 0.00251098, 0.00157266, 0.000122295  …  -0.0192908, 0.0280115, -0.0405304, 0.0449647, -0.0377905, 0.0396582, -0.0431321, 0.0456625, -0.0411421, 4.70376]), Trial([0.0 -0.9; -0.0212132 -0.921213; … ; 0.487691 -0.52928; 0.487656 -0.49928], 13.9, 0.7, [-0.849176 -2.23781 … -2.40081 -1.80618; -0.0201605 0.860381 … -0.0633804 -0.11758; … ; -0.0269634 0.80101 … -0.166481 -0.264228; -0.00611489 0.0414305 … -0.00359779 0.000115644], [-0.279391; 0.0496993; … ; 0.0270937; 0.00331231], [-0.562291, -0.468497, -0.220332, -0.256367, 0.155219, -0.0164856, 0.265781, 0.0171622, 0.317176, -0.0163786  …  0.219205, 0.205763, 0.185232, 0.160325, 0.131381, 0.0986476, 0.0628144, 0.024988, -0.0134653, -6.50458]), Trial([0.0 0.9; 1.83697e-18 0.87; … ; 0.5 -0.5; 0.494956 -0.529573], 120.1, 0.1, [-0.502082 -2.24291 … -2.40081 -1.80618; 0.953336 -0.0663028 … -0.0633804 -0.11758; … ; 1.27199 -0.174621 … -0.166481 -0.264228; -0.00371563 -0.0479999 … -0.00359779 0.000115644], [0.452974; -0.00602268; … ; 0.00185919; -0.00718206], [0.0604243, 0.0602191, 0.0559538, 0.0472822, 0.0344161, 0.0181597, -0.000206071, -0.0191664, -0.0372723, -0.0534019  …  -0.0076926, 0.00982577, -0.0113555, 0.00922387, -0.00821506, 0.00758985, -0.0101235, 0.0102412, -0.0136541, 11.7177]), Trial([0.9 0.0; 0.878787 -0.0212132; … ; 0.492426 -0.523923; 0.513639 -0.502709], 24.5, 2.6, [-3.82817 -2.61229 … -2.40081 -2.05312; 1.15153 -0.105379 … -0.0633804 -0.14323; … ; 1.71111 -0.269313 … -0.166481 -0.335139; 0.0470455 -0.0739462 … -0.00359779 -0.074608], [0.00359147; 0.00785105; … ; 0.0266052; -0.0388171], [0.721576, 0.781235, 0.821785, 0.839512, 0.831916, 0.797927, 0.737944, 0.653716, 0.548103, 0.424784  …  -0.0448701, -0.0361754, -0.0252745, -0.0127074, 0.00093462, 0.0150595, 0.029101, 0.0425268, 0.0548368, 1.75699]), Trial([0.0 0.9; -0.0212132 0.878787; … ; 0.5 -0.5; 0.490962 -0.471394], 120.1, 0.1, [-3.82817 -2.61229 … -2.40081 -2.05312; 1.20103 -0.105379 … -0.066558 -0.143433; … ; 1.74225 -0.269313 … -0.167612 -0.335197; 0.0447638 -0.0739462 … -0.00359864 -0.074608], [-0.219098; 0.00748918; … ; 0.0149458; -0.0393934], [-0.0381867, -0.0344237, -0.0284297, -0.0202771, -0.0103171, 0.000817128, 0.0122663, 0.023062, 0.0322813, 0.0392007  …  -0.00080294, 0.00281868, -0.00883237, 0.0088971, -0.00738311, 0.00439393, -0.00353158, 0.0043884, -0.00713781, -4.37212]), Trial([0.0 0.9; -0.0212132 0.878787; … ; 0.5 -0.5; 0.495596 -0.470325], 120.1, 0.1, [-3.82817 -2.61229 … -2.40081 -2.05312; 1.21206 -0.105379 … -0.0740918 -0.143567; … ; 1.74994 -0.269313 … -0.169662 -0.335231; 0.0484476 -0.0739462 … -0.00359923 -0.074608], [0.323219; 0.0196893; … ; 0.0506906; -0.0381581], [-0.00213599, 0.00119455, 0.00469928, 0.00814428, 0.0112539, 0.0137472, 0.0153841, 0.0160111, 0.0155931, 0.0142225  …  0.0117459, -0.00216645, 0.000500955, -0.000153628, -0.000231131, -0.00382692, -0.00695937, 0.0106023, -0.00289977, 10.6909]), Trial([0.9 0.0; 0.921213 0.0212132; … ; 0.5 -0.5; 0.528658 -0.491127], 120.1, 3.0, [-4.70099 -3.04305 … -2.40081 -2.4014; 1.19232 -0.122654 … -0.0740918 -0.156766; … ; 1.72086 -0.316721 … -0.169662 -0.378904; 0.111503 -0.075537 … -0.00359923 -0.115074], [0.161947; 0.00193296; … ; 0.0074047; -0.0310237], [-1.19443, -0.546626, 0.191904, 0.564385, 0.742347, 0.820436, 0.839789, 0.817428, 0.761101, 0.675862  …  -0.00183881, -0.0096092, 0.00470209, -0.00500793, 0.0358955, -0.0352036, 0.0278209, -0.0381044, 0.0353189, 2.83608])], [0.5 -0.5])], [0.480079 -0.756263; -0.130409 0.1446; … ; 0.0050745 0.107373; 0.598544 0.638892])                                                                                                                                                                                                                                                                                                                   \n",
       " Experiment(Day[Day(Trial[Trial([0.0 0.9; -0.03 0.9; … ; 0.53748 0.480308; 0.540592 0.510146], 36.7, 3.4, [0.0 0.0 … 0.0 0.0; 0.0 0.0 … 0.0 0.0; … ; 0.0 0.0 … 0.0 0.0; 0.0 0.0 … 0.0 0.0], [1.05854e-5; 0.00312153; … ; 0.00660318; 0.0716134], [0.0, 0.0, 0.0, 0.0, 0.0, 0.0, 0.0, 0.0, 0.0, 0.0  …  0.0, 0.0, 0.0, 0.0, 0.0, 0.0, 0.0, 0.0, 0.0, 1.0]), Trial([0.0 -0.9; 0.03 -0.9; … ; 0.5 0.5; 0.506112 0.470629], 120.1, 0.3, [-0.0305441 0.00571818 … -0.0161471 0.000606572; -0.0364452 -0.00150278 … -0.252917 -0.00272711; … ; 0.000568683 -0.000110785 … -0.360546 -0.00242291; 0.0974325 -0.00204352 … -0.0801295 0.0211417], [-0.000617732; 0.00323236; … ; 0.00836742; 0.0739244], [0.000456485, -0.000193473, 0.00122909, -0.000496549, 0.00160055, -0.000494494, -0.00102752, -0.000406821, 0.00068022, -0.000486828  …  0.000331071, -7.06057e-5, 0.000132307, -0.00015534, 0.000110376, -0.000176266, 5.87413e-5, -8.44931e-5, 0.000120388, 1.2547]), Trial([0.0 0.9; 0.03 0.9; … ; 0.460317 0.521844; 0.457148 0.492012], 3.6, 0.7, [-0.0311208 0.00571818 … -0.0161471 0.000606572; -0.317057 -0.00150278 … -0.252917 -0.00272711; … ; -0.504696 -0.000110785 … -0.360546 -0.00242291; -2.35149 -0.00204352 … -0.0801295 0.0211417], [-0.000674778; -0.0209196; … ; -0.0373232; -0.164916], [0.0592101, 0.0522948, 0.0445206, 0.0363048, 0.0279559, 0.0196668, 0.0115271, 0.00354719, -0.0043108, -0.0121026  …  0.0860379, 0.0866176, 0.0684558, 0.044305, 0.0175856, -0.0106587, -0.0397481, -0.0687862, -0.0588631, -4.08734]), Trial([-0.9 0.0; -0.87 0.0; … ; 0.5 0.5; 0.516205 0.474753], 120.1, 0.1, [-0.0311208 -0.183066 … -0.0254292 0.00721945; -0.317057 0.737114 … -0.252925 -0.00271947; … ; -0.504696 1.02758 … -0.36058 -0.00238586; -2.35149 0.0235673 … -0.0801322 0.021145], [-0.00415734; 0.0441791; … ; 0.106926; 0.446975], [-0.00478506, -0.00635352, -0.00814949, -0.0101491, -0.0123118, -0.0145805, -0.016884, -0.0191415, -0.0212697, -0.023192  …  -0.0119705, 0.010916, -0.0119797, 0.0109514, -0.0119815, 0.0109865, -0.0102657, 0.01084, -0.00810657, 9.19236]), Trial([0.0 -0.9; 0.03 -0.9; … ; 0.5 0.5; 0.529015 0.507623], 120.1, 0.1, [-0.0311208 -0.225583 … -0.514087 0.00123862; -0.317057 0.407843 … -0.609557 -0.126049; … ; -0.504696 0.393843 … -1.11124 -0.260105; -2.35149 -0.276668 … -0.960808 -0.452967], [-0.0339942; -0.0211848; … ; -0.022949; 0.239284], [0.0267747, 0.0277883, 0.0283348, 0.0283274, 0.0276748, 0.0262964, 0.0241395, 0.0211993, 0.0175353, 0.0132804  …  -0.0442937, 0.0469467, -0.0385, 0.0443784, -0.0624594, 0.0705655, -0.0444956, 0.0151389, -0.0139566, 2.65824]), Trial([0.0 0.9; 1.83697e-18 0.87; … ; 0.5 0.5; 0.5 0.53], 120.1, 2.1, [-0.0311208 -0.225594 … -0.597463 0.00121986; -0.317057 0.383066 … -0.61319 -0.130812; … ; -0.504696 0.365684 … -1.12592 -0.271374; -2.35149 -0.857439 … -0.956571 -0.840561], [-0.0446344; -0.0204251; … ; -0.0223762; 0.170998], [0.0686008, 0.0562156, 0.038095, 0.01505, -0.0112534, -0.0384946, -0.0640914, -0.0856796, 0.0139076, 0.0602554  …  -0.0100543, 0.0120135, -0.0100649, 0.0117898, -0.0100853, 0.0116037, -0.0101141, 0.0114511, -0.0101499, 2.24046]), Trial([-0.9 0.0; -0.9 -0.03; … ; 0.506825 0.537828; 0.512603 0.50839], 17.8, 0.7, [-0.0311483 -0.22585 … -0.593856 0.00121515; -0.317071 0.30484 … -0.615619 -0.131247; … ; -0.504706 0.196096 … -1.13482 -0.272296; -2.35149 -2.20111 … -0.969989 -0.924472], [0.0202082; -0.0295089; … ; -0.0426154; -0.0670566], [0.0271325, 0.00595441, 0.0213857, 0.0296965, 0.0336515, 0.0350478, 0.034895, 0.0337422, 0.0318913, 0.0295168  …  0.117962, 0.108136, 0.0846249, 0.0539185, 0.0181105, -0.0211392, -0.0616197, -0.100565, -0.13191, -2.17396]), Trial([0.9 0.0; 0.878787 0.0212132; … ; 0.5 0.5; 0.53 0.5], 120.1, 0.1, [-0.0311483 -0.22585 … -0.601463 0.00121515; -0.317071 0.30484 … -0.617673 -0.131247; … ; -0.504706 0.196096 … -1.14347 -0.272296; -2.35149 -2.20111 … -1.01816 -0.924472], [0.0190444; -0.00923357; … ; -0.000710289; 0.343851], [-0.333844, -0.359339, -0.343557, -0.0148745, 0.223147, 0.293054, 0.281551, 0.239992, 0.0674551, 0.00582566  …  -0.0274908, 0.0278199, -0.0274936, 0.0278227, -0.0274963, 0.0278255, -0.0274991, 0.0278283, -0.0275018, 5.83646]), Trial([0.0 -0.9; 0.03 -0.9; … ; 0.5 0.5; 0.525379 0.484004], 120.1, 2.5, [-0.0311483 -0.22585 … -0.66833 0.00113417; -0.317071 0.30484 … -0.664273 -0.147857; … ; -0.504706 0.196096 … -1.26314 -0.307007; -2.35149 -2.20111 … -1.80189 -1.42251], [0.0216777; -0.0151321; … ; -0.0140548; 0.045948], [0.0522054, 0.0496521, 0.0460391, 0.0413309, 0.0355226, 0.0286661, 0.0208944, 0.0124392, 0.00363321, -0.00510816  …  -0.0196695, 0.0176658, -0.0192407, 0.0281678, -0.0175209, 0.0161556, -0.0171536, 0.0132519, -0.0173724, 0.66047]), Trial([0.9 0.0; 0.921213 -0.0212132; … ; 0.5 0.5; 0.526824 0.486566], 120.1, 0.1, [-0.0311483 -0.22585 … -0.671927 0.00113417; -0.317071 0.30484 … -0.66437 -0.147857; … ; -0.504706 0.196096 … -1.26361 -0.307007; -2.35149 -2.20111 … -1.8028 -1.42251], [0.0197927; -0.0213831; … ; -0.0273142; -0.0653328], [0.0707716, 0.0618806, 0.0503876, 0.0373704, -0.00757555, -0.009773, -0.0109928, -0.0130134, -0.013919, -0.0156341  …  0.0214931, -0.0119283, 0.0267738, -0.0250573, 0.0281092, -0.0282228, 0.0204206, -0.0293307, 0.0385581, -1.63064]), Trial([0.0 -0.9; 0.03 -0.9; … ; 0.5 0.5; 0.526841 0.4866], 120.1, 0.1, [-0.0311483 -0.22585 … -0.671927 0.00113417; -0.317071 0.30484 … -0.66437 -0.147857; … ; -0.504706 0.196096 … -1.26361 -0.307007; -2.35149 -2.20111 … -1.8028 -1.42251], [0.0030938; -0.00557995; … ; 0.0057324; 0.219835], [0.0261277, 0.0213953, 0.0160458, 0.0101732, 0.00391709, -0.00252624, -0.00889976, -0.0148941, -0.0201704, -0.0243979  …  -0.0104097, 0.0148109, -0.00988644, 0.00526756, -0.00292158, -0.000655744, 0.00439728, -0.00659875, 0.00898167, 4.1723]), Trial([-0.9 0.0; -0.9 -0.03; … ; 0.5 0.5; 0.527937 0.489068], 120.1, 1.9, [-0.0311483 -0.225861 … -0.675898 0.00112142; -0.317071 0.307821 … -0.687596 -0.156102; … ; -0.504706 0.196978 … -1.32363 -0.32307; -2.35149 -2.20111 … -2.32605 -2.02399], [0.0228422; -0.00824073; … ; -0.00359402; -0.0198687], [0.0239235, 0.0240102, 0.0234213, 0.0222359, 0.0205413, 0.0184264, 0.0159764, 0.0132724, 0.0103917, 0.00741087  …  -0.0320839, 0.0326513, -0.032091, 0.032659, -0.0320981, 0.0326667, -0.0321053, 0.0326744, -0.0321124, 0.433145]), Trial([-0.9 0.0; -0.9 -0.03; … ; 0.5 0.5; 0.528174 0.489694], 120.1, 0.1, [-0.0311483 -0.225868 … -0.67641 0.00112142; -0.317071 0.309258 … -0.687653 -0.156102; … ; -0.504706 0.197381 … -1.32392 -0.32307; -2.35149 -2.20111 … -2.32916 -2.02399], [0.0167502; -0.00936032; … ; -0.00735698; -0.0402365], [0.0171523, 0.0162863, 0.014963, 0.0132657, 0.0112794, 0.00908561, 0.00676099, 0.00437658, 0.00199949, -0.00030537  …  0.0256344, -0.0254307, 0.0256387, 0.030039, -0.111692, 0.0880112, -0.0907393, 0.0960165, -0.0873449, -0.214527]), Trial([-0.9 0.0; -0.9 -0.03; … ; 0.5 0.5; 0.527937 0.489068], 120.1, 0.1, [-0.0311483 -0.225869 … -0.67641 0.00112142; -0.317071 0.310305 … -0.687653 -0.156102; … ; -0.504706 0.197688 … -1.32392 -0.32307; -2.35149 -2.20111 … -2.32916 -2.02399], [0.0298655; -0.00772157; … ; -0.00401373; -0.00868357], [0.0133709, 0.012306, 0.010916, 0.00927881, 0.00747018, 0.00556054, 0.00361335, 0.00168543, -0.000171732, -0.00191055  …  0.0179569, -0.0178379, 0.0179575, -0.0178385, 0.017958, -0.0178391, 0.0179586, -0.0178396, 0.0179592, 0.454932]), Trial([0.9 0.0; 0.93 0.0; … ; 0.5 0.5; 0.5 0.53], 120.1, 0.1, [-0.0311483 -0.225869 … -0.685092 0.00102076; -0.317071 0.310305 … -0.687952 -0.166888; … ; -0.504706 0.197688 … -1.32537 -0.304747; -2.35149 -2.20111 … -2.32971 -1.9173], [0.0371165; -0.0600302; … ; -0.0479923; 0.0392613], [0.177988, 0.124875, 0.0776835, -0.0481151, 0.00783758, -0.0481434, 0.0105834, -0.0481708, 0.0131495, -0.0481973  …  0.00470797, -0.0045552, 0.00471179, -0.0045589, 0.00471562, -0.00456261, 0.00471945, -0.00456631, 0.00472328, 0.986131]), Trial([0.9 0.0; 0.921213 -0.0212132; … ; 0.5 0.5; 0.529302 0.493565], 120.1, 0.1, [-0.0311483 -0.225869 … -0.691306 0.00102067; -0.317071 0.310305 … -0.688116 -0.170493; … ; -0.504706 0.197688 … -1.32621 -0.309056; -2.35149 -2.20111 … -2.33725 -2.06286], [0.0285589; -0.0594314; … ; -0.0465797; -0.0306073], [-0.00170126, 0.00368057, 0.00545701, 0.0043371, -0.011338, -0.0102776, -0.00906799, -0.00849491, -0.00765505, -0.00742523  …  0.000746787, 0.00237249, 0.000443725, 0.00201203, 0.00015806, 0.00168318, -0.000101739, 0.00138868, -0.0151215, 0.270384]), Trial([-0.9 0.0; -0.9 -0.03; … ; 0.5 0.5; 0.527485 0.487975], 120.1, 0.1, [-0.0311483 -0.225872 … -0.691306 0.00102067; -0.317071 0.312659 … -0.688116 -0.170493; … ; -0.504706 0.198383 … -1.32621 -0.309056; -2.35149 -2.20111 … -2.33725 -2.06286], [0.0162235; -0.061803; … ; -0.0519971; -0.0787787], [0.0281617, 0.0255716, 0.0225137, 0.0191363, 0.0155758, 0.0119518, 0.00836612, 0.00490486, 0.00164214, -0.00135632  …  0.00137612, -0.00137052, 0.00137614, -0.00137054, 0.00137616, -0.00137056, 0.00137618, -0.00137058, 0.0013762, -0.702817]), Trial([0.0 -0.9; 0.03 -0.9; … ; 0.5 0.5; 0.527485 0.487975], 120.1, 0.1, [-0.0311483 -0.225872 … -0.691306 0.00102067; -0.317071 0.312659 … -0.688116 -0.170493; … ; -0.504706 0.198383 … -1.32621 -0.309056; -2.35149 -2.20111 … -2.33725 -2.06286], [0.0169926; -0.0550289; … ; -0.0378187; 0.045167], [-0.00845599, -0.00829285, -0.00810803, -0.00792311, -0.00774871, -0.0075842, -0.00741834, -0.00723123, -0.00699752, -0.0066909  …  0.00425307, -0.00421374, 0.00425338, -0.00421404, 0.00425369, -0.00421435, 0.004254, -0.00421465, 0.0042543, 1.80833]), Trial([0.0 -0.9; 0.03 -0.9; … ; 0.5 0.5; 0.527485 0.487975], 120.1, 0.1, [-0.0311483 -0.225872 … -0.691306 0.00102067; -0.317071 0.312659 … -0.688116 -0.170493; … ; -0.504706 0.198383 … -1.32621 -0.309056; -2.35149 -2.20111 … -2.33725 -2.06286], [0.0144621; -0.0724877; … ; -0.0743977; -0.273304], [-0.00654659, -0.0103502, -0.00635354, -0.00368169, -0.00173863, -0.00025593, 0.000870489, 0.00167155, 0.00215257, 0.00231891  …  -0.00753628, 0.00771807, -0.0075397, 0.00772158, -0.00754313, 0.0077251, -0.00754657, 0.00772861, -0.00755, -4.64637]), Trial([0.0 -0.9; 0.03 -0.9; … ; 0.5 0.5; 0.527485 0.487975], 120.1, 0.1, [-0.0311483 -0.225872 … -0.691306 0.00102067; -0.317071 0.312659 … -0.688116 -0.170493; … ; -0.504706 0.198383 … -1.32621 -0.309056; -2.35149 -2.20111 … -2.33725 -2.06286], [0.0245543; -0.0276049; … ; 0.0195629; 0.546502], [-0.0126989, -0.0108578, -0.00883906, -0.00669157, -0.000372083, 0.000313064, 0.00156903, 0.00297354, 0.00430968, 0.00543415  …  -0.000542728, 0.000543067, -0.000542728, 0.000543067, -0.000542728, 0.000543068, -0.000542729, 0.000543068, -0.000542729, 11.9607])], [0.5 0.5])], [0.480079 -0.756263; -0.130409 0.1446; … ; 0.0050745 0.107373; 0.598544 0.638892])                                                                                                                                                                                                                                                                                                                                                                                                                                                                                                                                                                                                    \n",
       " Experiment(Day[Day(Trial[Trial([0.9 0.0; 0.87 3.67394e-18; … ; 0.511166 0.47649; 0.511634 0.506486], 9.1, 1.4, [0.0 0.0 … 0.0 0.0; 0.0 0.0 … 0.0 0.0; … ; 0.0 0.0 … 0.0 0.0; 0.0 0.0 … 0.0 0.0], [1.13103e-5; 0.00391321; … ; 0.00793679; 0.0695931], [0.0, 0.0, 0.0, 0.0, 0.0, 0.0, 0.0, 0.0, 0.0, 0.0  …  0.0, 0.0, 0.0, 0.0, 0.0, 0.0, 0.0, 0.0, 0.0, 1.0]), Trial([-0.9 0.0; -0.878787 -0.0212132; … ; 0.5 0.5; 0.483311 0.524929], 120.1, 0.6, [-4.83698e-5 -3.36015e-5 … 5.35473e-7 -9.1491e-5; 2.23795e-5 -0.000265259 … 0.00531381 2.65669e-5; … ; -0.000361245 -0.000656692 … 0.00486373 -0.000963869; -0.0102545 -0.0137172 … 0.188986 -0.0189752], [-6.80895e-5; 0.0343217; … ; 0.032151; 0.0755752], [0.000499759, 0.00173083, 0.00186272, 0.00154596, 0.0022277, 0.00164272, 0.00403064, 0.00474367, 0.002966, 0.00620216  …  0.0223501, -0.0196408, 0.0219646, -0.0206151, 0.0215903, -0.0214012, 0.0212213, -0.0220306, 0.0137757, 1.0726]), Trial([0.0 0.9; -0.0212132 0.921213; … ; 0.483822 0.457917; 0.505071 0.479094], 5.8, 0.7, [-4.83709e-5 -0.000150187 … -7.04334e-5 -9.14916e-5; -0.00159962 -0.0964279 … -0.0152009 -0.00119815; … ; -0.00152271 -0.0941244 … -0.0224708 -0.0017937; -0.013617 -0.0298295 … 0.165381 -0.0209579], [-0.000114604; 0.0153738; … ; 0.00332626; -0.0756917], [-0.163323, -0.128877, -0.0840743, -0.0622183, -0.0516428, -0.00744733, -0.0236957, -0.0113609, 0.00351016, 0.0172861  …  0.00603251, 0.0297892, 0.0344714, 0.0291269, 0.0180297, 0.00336159, -0.0134784, -0.0313038, -0.048917, -2.1871]), Trial([0.9 0.0; 0.878787 0.0212132; … ; 0.5 0.5; 0.521213 0.478787], 120.1, 0.1, [-0.00258912 -0.00270922 … -0.00198047 -9.14916e-5; -0.00160091 -0.0964294 … -0.0156264 -0.00119815; … ; -0.00152838 -0.0941309 … -0.0243043 -0.0017937; -0.0136171 -0.0298296 … 0.155077 -0.0209579], [-0.000182634; 0.0345982; … ; 0.0435234; 0.245814], [-0.165934, -0.144613, 0.100659, 0.251871, 0.250347, 0.211003, 0.170021, 0.0409426, 0.0996317, 0.0361236  …  -0.00197331, 0.00303375, -0.00198211, 0.00292886, -0.0019915, 0.0028348, -0.00200125, 0.00275069, -0.00201124, 4.71402]), Trial([0.0 0.9; 1.83697e-18 0.87; … ; 0.523536 0.506484; 0.49365 0.503868], 3.9, 1.5, [-0.00348846 -0.00273446 … -0.00209636 -0.000114219; -0.344932 -0.348331 … -0.0262482 -0.00403741; … ; -0.679899 -0.335978 … -0.0489328 -0.00828195; -5.21689 -0.028528 … -0.0401786 -0.0817784], [-0.000323824; 0.0228063; … ; -0.00297987; -0.374701], [0.240645, 0.244309, 0.233023, 0.205346, 0.16197, 0.105885, 0.0419915, -0.0238067, -0.0857358, -0.139173  …  -0.25605, -0.316526, -0.395096, -0.43407, -0.32139, -0.0934947, 0.0240214, -0.182164, -0.0210028, -7.65271]), Trial([0.0 -0.9; 0.0212132 -0.921213; … ; 0.5 0.5; 0.475865 0.482182], 120.1, 0.1, [-0.000255477 -0.00214302 … 0.0173531 0.0254389; -0.344923 -0.0738593 … -0.0868287 1.1789; … ; -0.679883 -0.203088 … -0.12091 1.58356; -5.21689 -0.0297339 … -0.0409403 -0.049222], [0.00164181; 0.166785; … ; 0.268216; 0.83443], [0.000733055, -0.00146581, 0.000264271, -0.00382445, -0.000599557, 0.00625395, -0.00545423, 0.00251293, -0.00201124, 0.00720211  …  -0.00617287, -0.00350968, 0.00798302, 0.000253746, -0.0112484, -0.00238669, 0.0132776, -0.00139893, -0.0153205, 18.807]), Trial([-0.9 0.0; -0.878787 0.0212132; … ; 0.472614 0.504613; 0.502575 0.50615], 10.1, 3.0, [-0.000255477 -0.0040948 … 0.0197486 0.0217767; -0.344923 -0.8508 … -0.212677 0.436131; … ; -0.679883 -1.2142 … -0.27137 0.550035; -5.21689 -0.397715 … -1.08241 -1.0351], [0.000691427; 0.0591068; … ; -0.0338804; -0.505294], [0.0319243, 0.0387184, 0.0463616, 0.0548201, 0.064023, 0.0738622, 0.0841956, 0.0948556, 0.105659, 0.116422  …  -0.152439, -0.217441, -0.260527, -0.28651, 0.0526673, 0.104785, 0.0841913, 0.0445005, -0.00549233, -11.8332]), Trial([0.0 -0.9; -0.03 -0.9; … ; 0.5 0.5; 0.5 0.47], 120.1, 0.1, [-0.000255477 0.048433 … 0.0197486 0.0520519; -0.344923 -0.883662 … -0.212677 2.6514; … ; -0.679883 -1.22585 … -0.27137 2.26941; -5.21689 -0.397816 … -1.08241 -1.02883], [0.00168443; 0.194076; … ; 0.275317; 1.4439], [0.00503552, -0.0277903, -0.0364366, -0.0384763, -0.0400003, -0.0345844, 0.000473743, 0.0249467, -0.0196278, -0.0348763  …  -0.0304116, 0.0291663, -0.0304526, 0.0292058, -0.0304937, 0.0292453, -0.0305348, 0.0292849, -0.0305761, 30.1295]), Trial([0.9 0.0; 0.878787 0.0212132; … ; 0.5 0.5; 0.510932 0.472063], 120.1, 1.2, [-0.000255477 0.0454285 … 0.0222336 0.0974151; -0.344923 -1.07938 … -1.1157 2.36229; … ; -0.679883 -1.59148 … -2.14625 1.79176; -5.21689 -1.83398 … -9.05885 -2.82311], [0.00369775; 0.0785607; … ; 0.0501117; 0.458358], [2.48212, 2.62004, 2.68296, 2.66106, 2.54846, 2.34328, 2.04748, 1.66659, 1.20964, 0.68933  …  0.0139385, -0.0143689, 0.0139477, -0.0143778, 0.0139569, -0.0143868, 0.0139661, -0.0143958, 0.0139753, 6.8461]), Trial([0.9 0.0; 0.921213 -0.0212132; … ; 0.5 0.5; 0.5 0.53], 120.1, 0.1, [-0.000255477 0.0453966 … 0.0222336 0.0974151; -0.344923 -1.10295 … -1.1157 2.36229; … ; -0.679883 -1.62796 … -2.14625 1.79176; -5.21689 -3.91933 … -9.05885 -2.82311], [0.00187031; 0.0799048; … ; 0.053349; -0.00188346], [-0.636368, -0.526797, -0.425101, -0.283938, 0.201853, 0.0333797, 0.134526, 0.172622, 0.171701, 0.200371  …  0.00826475, -0.00829669, 0.00826485, -0.00829678, 0.00826494, -0.00829688, 0.00826504, -0.00829697, 0.00826513, 1.25847]), Trial([-0.9 0.0; -0.9 -0.03; … ; 0.5 0.5; 0.5 0.47], 120.1, 0.1, [-0.000255477 0.0439079 … 0.0222336 0.0974151; -0.344923 -1.10373 … -1.1157 2.36229; … ; -0.679883 -1.6281 … -2.14625 1.79176; -5.21689 -3.91933 … -9.05885 -2.82311], [0.00166179; 0.0643265; … ; 0.0219725; -0.207205], [-0.0285903, -0.0252861, -0.0214271, -0.0171352, -0.0125245, -0.00769892, -0.00275335, 0.00222249, 0.00713825, 0.0118976  …  0.000552804, -0.000553302, 0.000552804, -0.000553303, 0.000552805, -0.000553303, 0.000552805, -0.000553304, 0.000552805, -3.17393]), Trial([0.0 -0.9; 1.83697e-18 -0.93; … ; 0.5 0.5; 0.5 0.47], 120.1, 0.1, [-0.000255477 0.0528775 … 0.0222336 0.0974151; -0.344923 -1.10331 … -1.1157 2.36229; … ; -0.679883 -1.62739 … -2.14625 1.79176; -5.21689 -3.91933 … -9.05885 -2.82311], [0.00271228; 0.104263; … ; 0.102761; 0.321234], [-0.0461882, -0.0334992, -0.0221876, 0.0107501, -0.00386021, 0.010741, -0.00430721, 0.0107327, -0.0047257, 0.0107251  …  0.0125567, -0.0128028, 0.0125603, -0.0128065, 0.012564, -0.0128102, 0.0125676, -0.012814, 0.0125713, 8.16878]), Trial([0.9 0.0; 0.9 0.03; … ; 0.488528 0.532835; 0.486862 0.502881], 9.7, 5.1, [-0.000255477 0.0528775 … 0.0222336 0.09553; -0.344923 -1.10331 … -1.1157 2.13153; … ; -0.679883 -1.62739 … -2.14625 1.38011; -5.21689 -3.91933 … -9.05885 -2.87416], [0.00231933; 0.043788; … ; -0.0115878; 0.00888357], [0.230917, 0.176026, 0.118098, 0.0587855, -0.000392464, -0.0581122, -0.113262, -0.164922, -0.212308, -0.254719  …  -0.12094, 0.000315692, -0.165941, -0.020527, -0.188254, -0.0272712, 0.0572213, 0.0657835, 0.0880306, -1.38469]), Trial([-0.9 0.0; -0.9 -0.03; … ; 0.5 0.5; 0.47982 0.477802], 120.1, 0.1, [-0.000255477 0.0595743 … 0.0222336 0.09553; -0.344923 -1.10134 … -1.1157 2.13153; … ; -0.679883 -1.62674 … -2.14625 1.38011; -5.21689 -3.91933 … -9.05885 -2.87416], [0.0030484; 0.0631191; … ; 0.0259121; 0.233541], [-0.00100736, 0.00122739, 0.00356389, 0.00593023, 0.00825665, 0.0104759, 0.0125221, 0.0143304, 0.0158355, 0.0169737  …  0.00050276, -0.000503213, 0.00050276, -0.000503213, 0.00050276, -0.000503214, 0.000502761, -0.000503214, 0.000502761, 3.50794]), Trial([0.0 0.9; 1.83697e-18 0.87; … ; 0.460426 0.496521; 0.45572 0.52615], 4.3, 1.7, [-0.000255477 0.0595004 … 0.0222336 0.0952691; -0.344923 -1.33045 … -1.1157 1.95817; … ; -0.679883 -1.88253 … -2.14625 1.06299; -5.21689 -4.13781 … -9.05885 -5.04608], [0.00300554; 0.0287403; … ; -0.0315323; -0.0821496], [0.28433, 0.312164, 0.322424, 0.311082, 0.276579, 0.220499, 0.147515, 0.0645632, -0.0205303, -0.10053  …  -0.243809, -0.0137353, 0.0605416, 0.0311281, -0.0221548, -0.122272, -0.120993, -0.18807, -0.198341, -2.75133]), Trial([0.0 0.9; 1.83697e-18 0.87; … ; 0.5 0.5; 0.5 0.53], 120.1, 0.1, [-0.000255477 0.0594676 … 0.0222336 0.0952691; -0.344923 -1.45673 … -1.1157 1.95817; … ; -0.679883 -2.01343 … -2.14625 1.06299; -5.21689 -4.19728 … -9.05885 -5.04608], [0.00302087; -0.000474679; … ; -0.0445725; 0.2914], [0.0323494, 0.0403842, 0.0456344, 0.0471305, 0.0442979, 0.0371324, 0.0262531, 0.0128013, -0.00178518, -0.0160496  …  -0.00166683, 0.00166191, -0.00166684, 0.00166192, -0.00166685, 0.00166193, -0.00166686, 0.00166194, -0.00166687, 4.09337]), Trial([0.9 0.0; 0.9 0.03; … ; 0.545476 0.50615; 0.545484 0.47615], 6.3, 0.8, [-0.000255477 0.0578059 … 0.0222336 0.0952691; -0.344923 -1.77786 … -1.1157 1.95817; … ; -0.679883 -2.71078 … -2.14625 1.06299; -5.21689 -9.60593 … -9.05885 -5.04608], [0.00306594; -0.033653; … ; -0.1162; -0.40744], [0.0936809, 0.0783832, 0.0629609, 0.0477378, 0.0329119, 0.0185528, 0.00461571, -0.00902869, -0.0225539, -0.0361306  …  0.282568, 0.279197, 0.259738, 0.224001, 0.172759, 0.108238, 0.0342379, -0.0441401, -0.121079, -9.81921]), Trial([0.9 0.0; 0.9 0.03; … ; 0.5 0.5; 0.521213 0.521213], 120.1, 0.1, [-0.00556597 0.0578059 … 0.0222336 0.0952691; -0.347743 -1.77786 … -1.1157 1.95817; … ; -0.691531 -2.71078 … -2.14625 1.06299; -5.32051 -9.60593 … -9.05885 -5.04608], [0.00112217; -0.0182869; … ; -0.0837732; 0.39892], [-0.645044, -0.617595, -0.572368, -0.963709, -0.923419, -0.278812, 0.322386, 0.681052, 0.856263, 0.920153  …  -0.0176145, 0.0177137, -0.0176151, 0.0177143, -0.0176157, 0.0177149, -0.0176163, 0.0177155, -0.0176169, 4.07744]), Trial([0.9 0.0; 0.921213 0.0212132; … ; 0.5 0.5; 0.521213 0.521213], 120.1, 0.1, [-0.00556597 0.0578059 … 0.0222336 0.0952691; -0.347743 -1.77786 … -1.1157 1.95817; … ; -0.691531 -2.71078 … -2.14625 1.06299; -5.32051 -9.60593 … -9.05885 -5.04608], [0.00155316; -0.0131712; … ; -0.0742176; 0.208052], [0.141258, 0.0858602, 0.0338978, -0.0132104, 0.165475, 0.157531, 0.14373, 0.13551, 0.120746, 0.112482  …  -5.30717e-5, 5.30815e-5, -5.30717e-5, 5.30815e-5, -5.30717e-5, 5.30815e-5, -5.30717e-5, 5.30815e-5, -5.30717e-5, 1.82607]), Trial([-0.9 0.0; -0.9 -0.03; … ; 0.5 0.5; 0.526224 0.485429], 120.1, 0.1, [-0.00556597 0.0612662 … 0.0222336 0.0952691; -0.347743 -1.77507 … -1.1157 1.95817; … ; -0.691531 -2.7099 … -2.14625 1.06299; -5.32051 -9.60593 … -9.05885 -5.04608], [0.00182925; -0.0306449; … ; -0.111259; -0.108479], [0.0139016, 0.0150867, 0.0159419, 0.0164786, 0.0167087, 0.0166411, 0.0162799, 0.0156244, 0.0146707, 0.0134156  …  0.000383458, -0.000383804, 0.000383458, -0.000383804, 0.000383458, -0.000383804, 0.000383459, -0.000383804, 0.000383459, -4.64268])], [0.5 0.5])], [0.480079 -0.756263; -0.130409 0.1446; … ; 0.0050745 0.107373; 0.598544 0.638892])                                                                                                                                                                                                                                                                                                                                                                                                                                                                                                                                                                                                                                                                            \n",
       " Experiment(Day[Day(Trial[Trial([0.0 0.9; 0.0212132 0.921213; … ; -0.539142 0.511678; -0.511395 0.523086], 13.9, 1.4, [0.0 0.0 … 0.0 0.0; 0.0 0.0 … 0.0 0.0; … ; 0.0 0.0 … 0.0 0.0; 0.0 0.0 … 0.0 0.0], [3.82189e-8; 0.0161157; … ; 0.00695899; 7.91243e-5], [0.0, 0.0, 0.0, 0.0, 0.0, 0.0, 0.0, 0.0, 0.0, 0.0  …  0.0, 0.0, 0.0, 0.0, 0.0, 0.0, 0.0, 0.0, 0.0, 1.0]), Trial([0.0 -0.9; -0.03 -0.9; … ; -0.5 0.5; -0.524529 0.517273], 120.1, 1.4, [-0.000288322 -0.00414994 … 0.00366161 0.0107473; -0.000556483 -0.0115983 … 0.0268662 0.283091; … ; 0.000973419 -0.00732237 … 0.0180015 0.386672; 0.00035178 -8.69974e-5 … 9.10129e-5 0.0289298], [0.0012525; 0.025333; … ; 0.0245586; 0.00103571], [0.000339702, 0.000843645, -5.16801e-6, -0.00146607, -0.000559474, -0.0011419, -0.000535036, -0.000295606, 0.000118504, -0.000362449  …  -0.00109294, -0.00390112, -0.00325802, -0.00257998, 0.00428025, 0.00429759, 0.00303776, 0.000977531, -0.000252358, 1.20317]), Trial([-0.9 0.0; -0.921213 0.0212132; … ; -0.450512 0.501004; -0.477083 0.487077], 7.5, 4.3, [-0.000288383 -0.00415 … 0.00369733 0.0107274; -0.0113747 -0.0297024 … 0.129653 0.195677; … ; -0.00339692 -0.0140833 … 0.0947144 0.34078; 0.000326648 -0.000101162 … 0.000253768 0.0288026], [0.00125055; 0.0191474; … ; 0.0227489; 0.00108627], [-0.0182504, 0.0893933, 0.116646, 0.117418, 0.111005, 0.101933, 0.0905245, 0.0763074, 0.0590039, 0.0387675  …  -0.00495409, -0.00714869, -0.01247, -0.0163694, -0.0129271, -0.0184185, -0.0155185, -0.00602398, 0.000461321, 0.658402]), Trial([0.0 -0.9; -0.0212132 -0.878787; … ; -0.509699 0.475529; -0.533314 0.494031], 9.6, 2.2, [-0.000288383 -0.00415 … 0.00566197 0.0102041; -0.0113747 -0.0297024 … 0.156101 0.276751; … ; -0.00339692 -0.0140833 … 0.107882 0.383444; 0.000326648 -0.000101162 … -0.00026947 0.0297391], [0.00148891; -0.00021577; … ; 0.0109161; 0.000936981], [0.00235678, 0.00201991, 0.00162915, 0.00684701, 0.00414162, 0.0021324, 0.000718658, -0.000254634, -0.000889452, -0.00883462  …  -0.0314782, -0.0223189, -0.00929928, -0.0083338, -0.0173534, -0.0306832, -0.0287578, -0.0103904, 0.0033142, 0.253753]), Trial([0.9 0.0; 0.87 3.67394e-18; … ; -0.499871 0.545898; -0.477152 0.526306], 8.7, 3.7, [-0.000288383 -0.00415 … 0.00607778 0.00484265; -0.0113747 -0.0297024 … 0.392926 0.155802; … ; -0.00339692 -0.0140833 … 0.315215 0.231001; 0.000326648 -0.000101162 … 0.00164515 0.025681], [0.000994371; 0.0214253; … ; 0.0210522; 0.000793867], [0.0294384, 0.0314423, 0.0323322, 0.0318828, 0.0299733, 0.0266113, 0.0219355, 0.0161972, 0.00972505, 0.00288287  …  -0.0230272, -0.00890959, -0.0210134, -0.0160782, 0.00354585, 0.0119449, 0.0111643, 0.00835604, 0.00539674, 0.585422]), Trial([0.9 0.0; 0.87 3.67394e-18; … ; -0.45535 0.509405; -0.483998 0.500502], 21.8, 5.3, [-0.000288973 -0.00415 … 0.00728878 0.00506585; -0.0306836 -0.0297024 … 0.395882 0.346387; … ; -0.0137495 -0.0140833 … 0.420958 0.306089; 0.000247725 -0.000101162 … 0.0133249 0.027735], [0.00113778; 0.0295653; … ; 0.0324555; 0.00175646], [0.0157827, 0.0145499, 0.0127162, 0.0103511, 0.00758817, 0.00461245, 0.00163783, -0.00112017, -0.00347049, -0.0052664  …  -0.0120748, -0.0161288, -0.0192296, -0.0213395, -0.0201982, -0.0249589, -0.0233106, -0.0156604, -0.00394482, 1.21216]), Trial([0.0 0.9; -0.03 0.9; … ; -0.469933 0.507967; -0.497126 0.520637], 7.5, 1.2, [-0.000288973 -0.00415 … 0.00728878 0.00506498; -0.0306836 -0.0297024 … 0.395882 0.0440584; … ; -0.0137495 -0.0140833 … 0.420958 0.176017; 0.000247725 -0.000101162 … 0.0133249 0.0399021], [0.00113771; 0.00477861; … ; 0.0214663; 0.00298006], [0.0930956, 0.0857891, 0.0739471, 0.058064, 0.0390372, 0.0180732, -0.00346032, -0.0242086, -0.0429955, -0.0589487  …  0.0626067, 0.0537361, 0.0422127, 0.0284374, 0.0128831, -0.00441333, -0.0326707, -0.0953717, -0.116204, -1.33375]), Trial([0.0 0.9; 1.83697e-18 0.93; … ; -0.5 0.5; -0.47982 0.522198], 120.1, 0.1, [-0.000288973 -0.00415 … 0.00728878 0.00506498; -0.0306836 -0.0297024 … 0.395882 0.0440584; … ; -0.0137495 -0.0140833 … 0.420958 0.176017; 0.000247725 -0.000101162 … 0.0133249 0.0399021], [0.00113785; 0.0528066; … ; 0.0433182; 0.00524217], [0.0782522, 0.0663925, 0.0548839, -0.00455526, 0.0206908, -0.00453347, 0.0192827, -0.00451369, 0.0179964, -0.00449574  …  -0.00522433, 0.00533637, -0.00522607, 0.00533815, -0.00522781, 0.00533993, -0.00522956, 0.00534171, -0.0052313, 2.59412]), Trial([-0.9 0.0; -0.87 0.0; … ; -0.491393 0.519665; -0.479459 0.492141], 5.1, 2.2, [-0.000289324 -0.00415038 … 0.00742216 0.00506498; -0.0656226 -0.0797015 … 0.606407 0.0440584; … ; -0.0332456 -0.0415929 … 0.554987 0.176017; -0.000355901 -0.00112358 … 0.0130256 0.0399021], [0.00113724; -0.014094; … ; 0.0101032; 0.00450613], [0.130727, 0.13215, 0.129343, 0.121732, 0.10899, 0.0911138, 0.0684879, 0.0419069, 0.0125581, -0.0180532  …  -0.012072, -0.0466371, -0.115495, -0.0606027, -0.13459, -0.0917922, -0.0382925, 0.0433935, 0.0455402, -1.49492]), Trial([0.0 -0.9; -0.0212132 -0.878787; … ; -0.5 0.5; -0.527997 0.489221], 120.1, 0.1, [-0.000289044 -0.00415038 … 0.0339097 0.00506498; 0.091762 -0.0797015 … 0.537315 0.0440584; … ; 0.0285023 -0.0415929 … 0.523258 0.176017; -0.000306782 -0.00112358 … 0.013018 0.0399021], [0.00378397; 0.0337518; … ; 0.0297249; 0.00469267], [0.0214708, 0.0228971, 0.0239271, 0.0244989, 0.0245636, 0.0240882, 0.0230589, 0.0214838, 0.0193932, 0.01684  …  0.0213383, -0.0281896, 0.0345864, -0.0271879, 0.023775, -0.0195969, 0.0185529, -0.0244598, 0.0076579, 3.01493]), Trial([0.9 0.0; 0.87 3.67394e-18; … ; -0.542241 0.517528; -0.533299 0.546165], 7.1, 2.2, [-0.000291006 -0.00415045 … 0.0352972 0.00655652; -0.157536 -0.099276 … 0.917797 0.0412605; … ; -0.0885046 -0.0488271 … 1.0528 0.170633; -0.000673565 -0.00113889 … 0.118902 0.0467888], [0.00407162; 0.0182645; … ; 0.0589167; 0.0158192], [0.0299192, 0.0292723, 0.0275223, 0.0246699, 0.0208293, 0.0162229, 0.011156, 0.00597819, 0.00104, -0.00334573  …  -0.126214, -0.155059, -0.102072, -0.0177036, 0.0120886, 0.0165436, 0.0120051, -0.00573249, -0.0431254, -1.74364]), Trial([0.0 0.9; -0.0212132 0.921213; … ; -0.5 0.5; -0.478777 0.521203], 120.1, 0.1, [-0.000291 -0.00748754 … 0.034014 0.00164257; -0.157498 -0.189444 … 0.637996 -0.0327209; … ; -0.0884338 -0.151656 … 0.653105 0.0750203; 0.00409704 0.438278 … -0.468596 -0.128591], [0.00306432; 0.0437959; … ; 0.0359591; -0.00220392], [-0.0729593, 0.0576701, -0.00594868, 0.0520254, 0.0491593, 0.0845595, 0.0672877, 0.064393, 0.0646722, 0.0382061  …  0.00390669, -0.000584573, 0.00397702, -0.000607787, 0.00355508, -0.000830744, 0.00307818, -0.0010694, 0.00264198, 3.15694]), Trial([-0.9 0.0; -0.921213 0.0212132; … ; -0.5 0.5; -0.527778 0.48867], 120.1, 3.5, [-0.000291981 -0.00748981 … 0.0340279 0.00165445; -0.225751 -0.316826 … 0.665823 0.343427; … ; -0.130652 -0.234265 … 0.659437 0.329256; 0.00138943 0.431992 … -0.472926 -0.117959], [0.0030647; 0.0235627; … ; 0.0242599; -0.00348168], [-0.00961362, -0.0263743, 0.165016, 0.209606, 0.208415, 0.195532, 0.178733, 0.158511, 0.133979, 0.104562  …  0.000196227, 0.0015236, 2.94952e-5, -0.0164861, 0.0119827, -0.00193018, 0.0119962, -0.0048076, 0.00735855, 1.97128]), Trial([0.9 0.0; 0.87 3.67394e-18; … ; -0.5 0.5; -0.507738 0.528985], 120.1, 0.1, [-0.000291981 -0.00751614 … 0.0340279 0.00112259; -0.225751 -0.316808 … 0.665823 0.343302; … ; -0.130652 -0.234209 … 0.659437 0.328725; 0.00138943 0.462042 … -0.472926 -0.117771], [0.0030478; -0.0442694; … ; -0.00531259; -0.00509656], [-0.0154276, -0.0152406, -0.00425182, 0.0107997, 0.018689, 0.0210914, 0.0204984, 0.0183473, 0.0154137, 0.0121501  …  -0.0141136, 0.0142596, -0.0104402, 0.000154539, -0.00150953, 0.00342203, -0.000572357, 0.00337725, -0.000734269, -4.24548]), Trial([-0.9 0.0; -0.921213 -0.0212132; … ; -0.5 0.5; -0.528684 0.491211], 120.1, 0.1, [-0.000296448 -0.00751614 … 0.0340271 0.00112259; -0.225568 -0.316808 … 0.659563 0.343302; … ; -0.131497 -0.234209 … 0.657365 0.328725; 0.00138947 0.462042 … -0.472926 -0.117771], [0.00304771; 0.107677; … ; 0.0594303; -0.00455], [0.283941, 0.225933, 0.174144, 0.128902, 0.0390067, 0.030927, 0.0248864, 0.0185097, 0.0137896, 0.00885496  …  0.0969522, -0.103452, 0.0554466, -0.01418, 0.0798727, -0.00750131, 0.018046, -0.0037783, 0.0464799, 8.9725]), Trial([0.0 0.9; -0.03 0.9; … ; -0.514587 0.547154; -0.514606 0.517154], 3.1, 0.7, [-0.000296448 -0.00752606 … 0.0340271 0.00112263; -0.226558 -4.19027 … 0.659563 0.334784; … ; -0.131901 -1.90869 … 0.657365 0.335112; 0.00132877 0.446462 … -0.472926 -0.0642771], [0.00304673; -0.281458; … ; -0.107759; -0.000826197], [0.398912, 0.354072, 0.29149, 0.214121, 0.126429, 0.0338939, -0.0576634, -0.142816, -0.217175, -0.277821  …  0.556536, 0.57132, 0.54107, 0.473881, 0.37579, 0.253674, 0.11555, -0.0300456, -0.174916, -24.7959]), Trial([-0.9 0.0; -0.921213 -0.0212132; … ; -0.5 0.5; -0.529491 0.494498], 120.1, 0.1, [-0.000379906 -0.00752606 … 0.0340481 0.00112263; -0.157762 -4.19027 … 0.65608 0.334784; … ; -0.115207 -1.90869 … 0.656482 0.335112; 0.00132937 0.446462 … -0.472926 -0.0642771], [0.00304281; 0.559938; … ; 0.248815; 0.00219963], [1.83883, 1.48639, 1.1699, 0.891533, 0.358692, 0.305554, 0.263349, 0.219532, 0.184147, 0.148472  …  -0.108041, -0.0204036, 0.0256449, 0.0205295, 0.0243743, 0.0067716, 0.00706166, -0.0230914, 0.0583183, 49.9097]), Trial([0.0 -0.9; -0.0212132 -0.878787; … ; -0.5 0.5; -0.521213 0.478787], 120.1, 1.7, [0.00181259 -0.00752606 … 0.159977 0.00102825; 4.64517 -4.19027 … -0.714573 -1.32748; … ; 3.71543 -1.90869 … -0.0749584 -0.736539; 0.0328722 0.446462 … -0.503665 -0.0886131], [0.0158158; -0.171194; … ; -0.167225; -0.018585], [0.000413339, 0.0049688, 0.0121988, 0.0226139, 0.0366932, 0.0548526, 0.0774104, 0.104552, 0.136297, 0.172468  …  0.0450379, -0.0521279, 0.04427, -0.0528952, 0.0435935, -0.0535114, 0.0429997, -0.0539935, 0.0424805, 8.81302]), Trial([0.9 0.0; 0.878787 -0.0212132; … ; -0.491173 0.546393; -0.498595 0.517326], 14.2, 0.8, [0.40581 -0.00752606 … 0.260793 0.00102825; 0.279156 -4.19027 … -1.13487 -1.3278; … ; 1.77486 -1.90869 … -0.533461 -0.736615; 0.0325622 0.446462 … -0.504095 -0.0886131], [0.0662975; -0.553446; … ; -0.364576; -0.0187085], [0.000912047, 0.0109158, 0.0224748, 0.0352489, 0.0488097, 0.0626746, 0.0763461, 0.0893456, 0.10124, 0.111654  …  -0.228705, 0.309403, 0.353032, 0.221531, 0.0199699, -0.215614, -0.334958, -0.672949, -0.628472, -19.8335]), Trial([0.9 0.0; 0.878787 -0.0212132; … ; -0.5 0.5; -0.53 0.5], 120.1, 0.1, [0.0135571 -0.00752606 … -0.127244 -0.0115378; 0.260131 -4.19027 … -1.62332 3.9078; … ; 1.72361 -1.90869 … -1.16457 2.77267; 0.0546307 0.446462 … -0.50776 -0.0826347], [-0.0609088; 0.217875; … ; -0.101614; -0.0157404], [0.136618, 0.133878, 0.126358, 0.114057, 0.0973022, 0.076728, 0.0532209, 0.0278403, 0.00173215, -0.0239526  …  0.0757568, -0.078387, 0.0758099, -0.0784419, 0.075863, -0.0784968, 0.0759161, -0.0785518, 0.0759693, 30.1934])], [-0.5 0.5])], [0.480079 -0.756263; -0.130409 0.1446; … ; 0.0050745 0.107373; 0.598544 0.638892])                                                                                                                                                                                                                                                                                                                                                                                \n",
       " Experiment(Day[Day(Trial[Trial([0.9 0.0; 0.93 0.0; … ; -0.26355 0.0188259; -0.234615 0.0109052], 73.1, 0.8, [0.0 0.0 … 0.0 0.0; 0.0 0.0 … 0.0 0.0; … ; 0.0 0.0 … 0.0 0.0; 0.0 0.0 … 0.0 0.0], [0.000178104; 0.0681968; … ; 0.0552106; 0.000189131], [0.0, 0.0, 0.0, 0.0, 0.0, 0.0, 0.0, 0.0, 0.0, 0.0  …  0.0, 0.0, 0.0, 0.0, 0.0, 0.0, 0.0, 0.0, 0.0, 1.0]), Trial([0.9 0.0; 0.87 3.67394e-18; … ; -0.32399 0.0437661; -0.296875 0.0566027], 12.8, 2.5, [-8.40979e-8 6.8001e-5 … 5.32307e-9 0.00156611; -0.0035198 0.175506 … 0.000225478 -0.02964; … ; -0.00380711 0.16227 … 7.36641e-5 0.00516176; -0.00246813 0.0531849 … -3.43227e-8 0.0946163], [0.000269181; 0.0194477; … ; 0.014119; 0.00343639], [0.0166116, 0.0136705, 0.0199546, 0.0207652, 0.00952515, -0.000911705, -0.00789799, 0.0135597, 0.0232326, 0.00422272  …  0.00771386, -0.010365, -0.019627, 0.0164121, 0.0179449, 0.00705594, -0.00131474, -0.00675081, 0.005666, -0.00839134]), Trial([0.9 0.0; 0.87 3.67394e-18; … ; -0.297066 0.032741; -0.321398 0.0502892], 4.9, 1.0, [-8.40979e-8 -0.00121802 … 5.32307e-9 0.00210552; -0.0035198 0.13537 … 0.000225478 -0.0245593; … ; -0.00380711 0.124218 … 7.36641e-5 0.00798646; -0.00246813 0.0523076 … -3.43227e-8 0.0923984], [0.000287238; 0.0369435; … ; 0.0246255; 0.0031545], [0.0189352, 0.017611, 0.0154456, 0.0124967, 0.00891094, 0.00491253, 0.000777078, -0.00320295, -0.00675335, -0.0096472  …  -0.0112341, -0.00498506, -0.0134135, -0.0203288, -0.0128679, -0.0119971, -0.0210663, -0.0246177, -0.0213051, 0.439339]), Trial([0.9 0.0; 0.87 3.67394e-18; … ; -0.3 0.0; -0.278991 -0.0214156], 120.1, 1.3, [-0.000764518 -0.00173715 … -0.0049387 -0.046189; -0.00577742 0.0220419 … -0.00923163 -0.0855831; … ; -0.0121969 0.0194663 … -0.00771642 -0.0831835; -0.00458721 0.0466575 … -0.00234989 0.0677407], [-0.00255961; 0.0700885; … ; 0.0525871; -0.000367246], [0.0160181, 0.0144969, 0.0123598, 0.00971107, 0.00672543, 0.00363102, 0.000682142, -0.00187255, -0.0038195, -0.00500202  …  -0.00133846, 0.00278488, -0.00123274, 0.00227495, -0.0023597, 0.00199162, -0.000563291, 0.00110091, -0.000769311, 1.24576]), Trial([-0.9 0.0; -0.878787 -0.0212132; … ; -0.326371 0.0226378; -0.300357 0.00769687], 3.8, 1.0, [-0.000764518 -0.00173715 … -0.0049387 -0.046189; -0.00577742 0.0220419 … -0.00923163 -0.0855831; … ; -0.0121969 0.0194663 … -0.00771642 -0.0831835; -0.00458721 0.0466575 … -0.00234989 0.0677407], [-0.00271775; -0.0803994; … ; -0.0564563; -0.000598011], [0.0771042, 0.077541, 0.0757753, 0.0717093, 0.0653429, 0.0567735, 0.0461915, 0.0338732, 0.0201711, 0.00550072  …  -0.0224856, -0.0430562, -0.0629294, -0.081503, -0.0980778, -0.0412829, -0.0879257, -0.0435334, -0.0295401, -2.1967]), Trial([-0.9 0.0; -0.921213 -0.0212132; … ; -0.3 0.0; -0.326266 0.0144939], 120.1, 0.1, [-0.000769429 -0.00173723 … -0.00493872 -0.046189; 0.0865757 -0.0126242 … -0.0151245 -0.0877408; … ; 0.0203893 0.00775419 … -0.00974508 -0.0839694; -0.00456306 0.0466391 … -0.00235343 0.0677395], [-0.00237813; 0.174351; … ; 0.12179; -0.000260258], [0.156425, 0.130666, 0.106576, 0.0845839, 0.0139308, 0.0118965, 0.0112272, 0.00946792, 0.00894006, 0.00742632  …  -0.0707214, 0.0538047, -0.045896, 0.058051, -0.0799709, 0.0889716, -0.0630722, 0.0603152, -0.0348345, 4.26954]), Trial([0.0 0.9; 1.83697e-18 0.87; … ; -0.255504 0.0113268; -0.283267 0.0226939], 4.0, 1.0, [-0.0107984 -0.00216345 … -0.00493872 -0.046189; -5.87109 -0.168437 … -0.0151245 -0.0877408; … ; -4.36997 -0.174614 … -0.00974508 -0.0839694; -0.0108097 0.125774 … -0.00235343 0.0677395], [-0.00338979; -0.434251; … ; -0.332858; 0.007032], [0.101042, 0.113286, 0.121568, 0.124554, 0.121474, 0.112358, 0.0980879, 0.0802452, 0.060777, 0.0416022  …  0.0244889, -0.0180004, -0.0610796, -0.102688, -0.141272, 0.0795868, 0.0625861, -0.00954915, -0.0781283, -9.44095]), Trial([-0.9 0.0; -0.9 0.03; … ; -0.3 0.0; -0.314687 0.0261592], 120.1, 0.1, [-0.0107984 -0.00216357 … -0.00493874 -0.0461887; -5.87109 -0.296158 … -0.029183 0.133847; … ; -4.36997 -0.240554 … -0.01695 0.0238534; -0.0108097 0.117091 … -0.00295666 0.0713765], [-0.00194389; 0.687896; … ; 0.462007; 0.00787672], [0.0697666, 0.0962941, 0.120929, 0.142722, 0.160832, 0.174609, 0.183658, 0.187863, 0.187383, 0.182618  …  -0.00656416, -0.000634395, 0.00309321, -0.0580439, 0.0678805, -0.0415998, 0.0412168, -0.053836, 0.0641601, 18.1177]), Trial([0.0 0.9; -0.03 0.9; … ; -0.252262 -0.00277894; -0.278049 0.0125529], 35.2, 7.4, [-0.0107984 -0.0133315 … -0.0116309 -0.0370222; -5.87109 -0.431917 … -0.681753 -0.855423; … ; -4.36997 -0.454753 … -0.466382 -0.306839; -0.0108097 0.103381 … -0.00881743 0.167731], [-0.00516806; 0.163134; … ; 0.140025; 0.0116661], [0.20476, 0.172664, 0.131511, 0.0833366, 0.0309269, -0.0224976, -0.0736836, -0.119752, -0.15853, -0.188749  …  -0.0737347, -0.0644949, -0.0835438, -0.0820792, -0.0743491, -0.0296703, -0.0669776, -0.0212349, -0.0357356, 2.21763]), Trial([-0.9 0.0; -0.878787 -0.0212132; … ; -0.313683 0.0371746; -0.287919 0.0525437], 3.2, 0.9, [-0.0107984 -0.0131954 … -0.0116309 -0.0370222; -5.87109 0.110971 … -0.681753 -0.855423; … ; -4.36997 -0.147017 … -0.466382 -0.306839; -0.0108097 0.104039 … -0.00881743 0.167731], [-0.00538655; -0.0327241; … ; 0.00349151; 0.0112573], [-0.239883, 0.110022, 0.227734, 0.203235, 0.127763, 0.0383438, -0.00105787, -0.0599337, -0.11624, -0.174828  …  0.127699, 0.0365124, -0.0673019, -0.153327, 0.051999, 0.137809, 0.104063, 0.0399427, 0.0684399, -2.92829]), Trial([-0.9 0.0; -0.878787 -0.0212132; … ; -0.3 0.0; -0.321213 0.0212132], 120.1, 0.1, [-0.0107984 -0.0132085 … -0.0115915 -0.0370222; -5.87109 0.0608266 … -0.270903 -0.855423; … ; -4.36997 -0.165529 … -0.319724 -0.306839; -0.0108097 0.104038 … -0.00847148 0.167731], [-0.0049308; 0.31966; … ; 0.251736; 0.0117868], [-0.37078, -0.394641, -0.307716, -0.216606, -0.43809, -0.32723, -0.405684, -0.268274, -0.290523, 0.090861  …  -0.0289913, 0.0295838, -0.0290003, 0.0295929, -0.0290092, 0.029602, -0.0290182, 0.0296112, -0.0290271, 5.79384]), Trial([0.9 0.0; 0.87 3.67394e-18; … ; -0.3 0.0; -0.328846 -0.00823988], 120.1, 1.3, [-0.0107984 -0.0134751 … -0.016613 0.0374081; -5.87109 -0.117795 … -2.6983 -0.751076; … ; -4.36997 -0.308413 … -2.21935 0.10266; -0.0108097 0.103108 … -0.0221559 0.345635], [0.00182504; -0.0253767; … ; 0.0212577; 0.0280053], [0.0265838, 0.0365014, 0.0477334, 0.0599763, 0.0728369, 0.0858787, 0.0986728, 0.110842, 0.122088, 0.132191  …  -0.0196767, 0.0203704, -0.0196939, 0.0203883, -0.0197112, 0.0204062, -0.0197285, 0.020424, -0.0197458, -1.68038]), Trial([0.0 -0.9; 1.83697e-18 -0.87; … ; -0.3 0.0; -0.270053 -0.00177632], 120.1, 0.1, [-0.0107984 -0.013479 … -0.016613 -0.194254; -5.87109 -0.128654 … -2.6983 -1.48571; … ; -4.36997 -0.325931 … -2.21935 -1.11366; -0.0108097 -0.0951977 … -0.0221559 0.113849], [0.00185241; 0.216376; … ; 0.18721; -0.0067967], [0.0492279, 0.0559746, 0.0614646, 0.0651881, 0.0667492, 0.0659177, 0.0626523, 0.0570892, 0.0495027, 0.0402495  …  -0.000726103, 0.000475512, -0.000732646, 0.000449696, -0.00069161, 0.00195357, -0.00376868, 0.00316741, -0.00339237, 3.8049]), Trial([-0.9 0.0; -0.921213 0.0212132; … ; -0.3 0.0; -0.29176 0.0288462], 120.1, 0.1, [-0.0107984 -0.013479 … -0.0166132 -0.194254; -5.87109 -0.128654 … -2.71549 -1.48571; … ; -4.36997 -0.325931 … -2.22304 -1.11366; -0.0108097 -0.0951977 … -0.0221184 0.113849], [0.00121609; -0.216197; … ; -0.130256; -0.0076208], [-0.124768, -0.134351, -0.142724, -0.149466, 0.000462639, -0.00907559, -0.0214265, -0.0293485, -0.0398074, -0.0458859  …  9.04431e-5, -9.04622e-5, 9.04431e-5, -9.04622e-5, 9.04431e-5, -9.04622e-5, 9.04431e-5, -9.04622e-5, 9.04431e-5, -6.68566]), Trial([0.0 -0.9; 0.03 -0.9; … ; -0.3 0.0; -0.27 3.1218e-300], 120.1, 0.1, [-0.0107984 -0.013479 … -0.0166132 -0.196087; -5.87109 -0.128654 … -2.71549 -1.48688; … ; -4.36997 -0.325931 … -2.22304 -1.11796; -0.0108097 -0.0951977 … -0.0221184 0.0817297], [-0.000118393; 0.724893; … ; 0.595397; 0.000134606], [0.0156609, 0.0040244, -0.0066404, -0.0161483, -0.0242934, -0.0308531, -0.0356061, -0.0395968, -0.0450506, -0.0487483  …  -0.00482844, 0.00493791, -0.00483013, 0.00493963, -0.00483182, 0.00494136, -0.0048335, 0.00494308, -0.00483519, 14.7231]), Trial([0.9 0.0; 0.93 0.0; … ; -0.3 0.0; -0.272515 -0.0120249], 120.1, 0.1, [-0.0107984 -0.013479 … -0.0166132 -0.196112; -5.87109 -0.128654 … -2.71549 -1.48688; … ; -4.36997 -0.325931 … -2.22304 -1.11797; -0.0108097 -0.0951977 … -0.0221184 0.0816885], [-0.0305483; -1.27295; … ; -0.9466; -0.00487723], [-0.185673, -0.131201, -0.0873836, 0.0249443, -0.0231106, 0.0249525, -0.023274, 0.0209551, -0.0137585, 0.0175635  …  0.0624461, -0.0643381, 0.0624899, -0.0643832, 0.0625337, -0.0644284, 0.0625776, -0.0644735, 0.0626215, -32.0187]), Trial([-0.9 0.0; -0.921213 0.0212132; … ; -0.3 0.0; -0.321213 0.0212132], 120.1, 0.1, [-0.0107984 -0.013479 … -0.0166108 -0.196112; -5.87109 -0.128654 … -2.42696 -1.48688; … ; -4.36997 -0.325931 … -2.14324 -1.11797; -0.0108097 -0.0951977 … -0.0219556 0.0816885], [-0.0260074; 2.2243; … ; 1.51563; 0.000186793], [2.39776, 2.12197, 1.8364, 1.55129, 0.144974, 0.115404, 0.114728, 0.087858, 0.0890006, 0.0650547  …  -0.00286266, 0.00286326, -0.00286266, 0.00286326, -0.00286266, 0.00286326, -0.00286266, 0.00286326, -0.00286266, 57.7577]), Trial([-0.9 0.0; -0.921213 0.0212132; … ; -0.3 0.0; -0.327591 0.0117783], 120.1, 3.1, [-0.0107984 -0.0214484 … -0.0178455 -0.197528; -5.87899 -3.72447 … -5.89478 -0.439105; … ; -4.37198 -2.54622 … -4.39811 -0.834066; -0.0108103 -0.0931513 … -0.0343536 0.0802075], [-0.0264045; 0.618387; … ; 0.557174; -0.00323204], [-4.49909, -4.17637, -3.81243, -3.4235, 0.622391, 2.53196, 3.42607, 3.95226, 4.30107, 4.51125  …  0.0173819, -0.00551885, 0.0115494, 0.0363853, -0.136786, 0.125822, -0.113876, 0.127316, -0.0684365, 15.1746]), Trial([0.0 -0.9; 1.83697e-18 -0.87; … ; -0.3 0.0; -0.327485 0.0120249], 120.1, 1.5, [-0.0107985 -0.0214484 … -0.0178457 -0.192887; -5.90834 -3.72447 … -6.259 -2.36483; … ; -4.3798 -2.54622 … -4.53278 -2.0119; -0.010811 -0.0931513 … -0.0356125 0.0811473], [0.0955609; 0.190318; … ; 0.218826; -0.00409793], [0.535406, 0.603686, 0.658525, 0.695161, 0.710165, 0.701931, 0.670829, 0.619018, 0.549968, 0.467832  …  0.409357, -0.390805, 0.41002, -0.391438, 0.410684, -0.392072, 0.41135, -0.392708, 0.412016, 1.03262]), Trial([0.9 0.0; 0.921213 -0.0212132; … ; -0.3 0.0; -0.30824 -0.0288462], 120.1, 0.1, [-0.0107985 -0.0214484 … -0.0178457 -0.192887; -5.90834 -3.72447 … -6.259 -2.36483; … ; -4.3798 -2.54622 … -4.53278 -2.0119; -0.010811 -0.0931513 … -0.0356125 0.0811473], [-0.0137436; 0.063204; … ; 0.125333; -0.00363901], [0.0258322, 0.0297597, 0.0322718, 0.0335076, 0.0169938, 0.018051, 0.0193448, 0.0203646, 0.0214572, 0.0224222  …  -0.009876, 0.00983499, -0.00987614, 0.00983513, -0.00987629, 0.00983527, -0.00987643, 0.00983542, -0.00987657, -2.23943])], [-0.3 0.0])], [0.480079 -0.756263; -0.130409 0.1446; … ; 0.0050745 0.107373; 0.598544 0.638892])                                                                                                                                                                                                                                                                                                                                                                                                                         \n",
       " Experiment(Day[Day(Trial[Trial([-0.9 0.0; -0.878787 0.0212132; … ; -0.489333 -0.471932; -0.518518 -0.478878], 12.9, 2.9, [0.0 0.0 … 0.0 0.0; 0.0 0.0 … 0.0 0.0; … ; 0.0 0.0 … 0.0 0.0; 0.0 0.0 … 0.0 0.0], [0.000204864; 0.00399729; … ; 0.00258464; 7.5489e-8], [0.0, 0.0, 0.0, 0.0, 0.0, 0.0, 0.0, 0.0, 0.0, 0.0  …  0.0, 0.0, 0.0, 0.0, 0.0, 0.0, 0.0, 0.0, 0.0, 1.0]), Trial([0.9 0.0; 0.921213 -0.0212132; … ; -0.495893 -0.547104; -0.471684 -0.564821], 12.1, 1.3, [0.0729329 -0.00365204 … -0.000103651 0.00139066; 0.0911187 0.0218032 … -1.88249e-5 0.000743224; … ; 0.148245 0.00418691 … -5.67378e-5 0.00206873; 0.00486155 7.51104e-7 … 0.000166532 0.00103642], [0.00487297; -0.007433; … ; -0.00165147; 0.000162303], [-0.000802657, 0.000727484, 0.00165545, 0.0012779, 0.00192531, 0.00246823, 0.00297, 0.0024686, -0.00169835, 0.00259557  …  -0.0461625, -0.0572213, 0.00706718, 0.0188854, 0.00871958, -0.00761906, -0.02474, -0.0313492, -0.0423142, -0.846992]), Trial([-0.9 0.0; -0.9 -0.03; … ; -0.5 -0.5; -0.518198 -0.47615], 120.1, 0.1, [0.0729329 -0.00365217 … -0.000104127 0.00139166; 0.0911187 0.0208361 … -0.000645263 0.00134752; … ; 0.148245 0.0038908 … -0.000296597 0.00235784; 0.00486155 7.47245e-7 … 0.000166529 0.00103642], [0.00525401; -8.1937e-5; … ; 0.00318571; 0.000162448], [-0.000117099, -0.000440957, -0.000842438, -0.00130611, -0.0018128, -0.00233981, -0.00286099, -0.0303642, 0.000550819, -0.0341383  …  0.00354502, -0.00259283, 0.00339575, -0.00266603, 0.00325776, -0.00273207, 0.00372364, -0.0116198, 0.00945543, 1.86946]), Trial([0.0 0.9; 0.03 0.9; … ; -0.5 -0.5; -0.50128 -0.470027], 120.1, 4.7, [0.0706454 -0.00380501 … -0.000525479 0.000582381; 0.0190112 0.136724 … -0.0155426 -0.015445; … ; 0.0722273 0.0971141 … -0.00943464 -0.00731339; 0.0128544 -0.0014188 … 0.00241022 0.0019469], [0.00531527; 0.00884948; … ; 0.00439707; 0.0010312], [0.00130689, -0.000536864, -0.000609627, 0.000722339, 0.00138113, 0.00137926, 0.00209631, 0.00205239, 0.00177693, 0.00152602  …  -0.000245719, -0.000652421, -0.0001472, -0.000534962, -0.0015389, -0.0010217, -0.00054814, -0.00028599, -1.23613e-5, 1.20601]), Trial([0.0 -0.9; -0.0212132 -0.921213; … ; -0.462436 -0.530697; -0.46929 -0.501491], 3.4, 0.9, [0.0771834 -0.00380501 … -0.000525479 0.000582381; 0.0580062 0.136724 … -0.0155426 -0.015445; … ; 0.11314 0.0971141 … -0.00943464 -0.00731339; 0.0128673 -0.0014188 … 0.00241022 0.0019469], [0.00820314; -0.00122197; … ; -0.00302981; 0.00103047], [-0.0389757, 0.077064, 0.107763, 0.106894, 0.0963603, 0.0819987, 0.0650363, 0.0458412, 0.0249422, 0.00316171  …  0.0355346, 0.0142102, -0.0085552, -0.0320497, -0.0553215, -0.0373033, -0.056238, -0.0669691, -0.0820556, -2.44336]), Trial([0.0 -0.9; -0.0212132 -0.921213; … ; -0.5 -0.5; -0.478787 -0.521213], 120.1, 0.1, [-0.00264246 -0.00380501 … -0.0201572 0.000582381; 0.0552913 0.136724 … -0.016292 -0.015445; … ; 0.107632 0.0971141 … -0.0106124 -0.00731339; 0.0128518 -0.0014188 … 0.00241003 0.0019469], [-0.00985631; 0.0142319; … ; 0.00747485; 0.00102897], [-0.0153553, -0.00516539, 0.00414259, 0.0124873, -0.0583983, -0.0560527, -0.0514956, 0.0157418, 0.0248647, -0.0473086  …  0.00265262, -0.00273497, 0.00265457, -0.00273698, 0.00265651, -0.00273899, 0.00265846, -0.002741, 0.00266042, 4.47412]), Trial([0.9 0.0; 0.878787 -0.0212132; … ; -0.5 -0.5; -0.482344 -0.524254], 120.1, 3.4, [0.148043 -0.00380501 … -0.0245521 0.0981346; 0.0707536 0.136724 … -0.020625 -0.0396311; … ; 0.141525 0.0971141 … -0.014277 -0.0263943; 0.0176884 -0.0014188 … 0.00240996 0.00194591], [-0.015099; 0.00818391; … ; 0.00371084; 0.00151166], [0.0126887, 0.0131058, 0.0132942, 0.013273, 0.0130869, 0.0128038, 0.0125108, 0.0123072, 0.0122965, 0.0125786  …  -0.0019116, 0.0018609, -8.54737e-5, 0.00202249, 0.0013653, 0.00171137, -0.00356355, -0.000853529, 0.000538355, 1.45487]), Trial([0.0 -0.9; 0.0212132 -0.921213; … ; -0.478105 -0.527738; -0.504441 -0.542105], 11.5, 2.9, [0.152481 -0.00380501 … -0.0271886 0.230229; 0.0503154 0.136724 … -0.0237024 -0.0382161; … ; 0.129173 0.0971141 … -0.0167367 -0.0244783; 0.0176884 -0.0014188 … 0.00240989 0.00194599], [-0.0207163; 0.00496179; … ; 0.0015753; 0.00151163], [-0.132884, -0.113271, -0.0944945, -0.0768331, -0.0483729, -0.0438454, -0.0395141, 0.0330553, 0.0595443, 0.0728997  …  -0.0078408, 0.0349686, 0.0621131, 0.0328658, -0.000616599, -0.0246527, 0.0456957, 0.049754, 0.0154414, -0.907265]), Trial([0.0 0.9; -0.0212132 0.878787; … ; -0.5 -0.5; -0.516359 -0.474853], 120.1, 0.1, [0.152266 -0.00445742 … -0.0263108 0.230229; -0.00555964 0.0162866 … 0.0914307 -0.0378678; … ; 0.0831977 -0.00259197 … 0.0761132 -0.0244373; 0.024544 0.00173424 … 0.00124448 -0.00151012], [-0.0203893; 0.00568246; … ; 0.000586187; 0.00211913], [0.000627157, 0.00150417, 0.001105, 0.000700234, 0.000238107, -0.0036489, -0.00297199, -0.00449399, -0.0035643, 0.000285355  …  -0.00306927, 0.000670048, -0.00309019, 0.00105195, -0.00308598, 0.00139662, -0.00306284, 0.00536116, -0.00219679, 1.57295]), Trial([0.9 0.0; 0.878787 -0.0212132; … ; -0.456429 -0.484496; -0.449866 -0.455223], 13.1, 6.0, [-0.0314492 -0.00506362 … -0.027624 0.548803; -0.0144054 -0.00172508 … 0.0371741 -0.00509985; … ; 0.0565754 -0.0151966 … 0.042466 0.0541161; 0.028935 0.00173311 … 0.00124156 -0.00125187], [-0.00684519; 0.00327034; … ; 0.00293734; 0.00258366], [0.0488736, 0.0460936, 0.0412631, 0.0344332, 0.0257937, 0.0156605, 0.00445018, -0.00735329, -0.0192339, -0.0306751  …  -0.00792928, 0.0192468, 0.0124664, -0.0216117, -0.0355749, -0.0301539, -0.0220586, 0.0127486, 0.0346529, 1.11799]), Trial([-0.9 0.0; -0.878787 0.0212132; … ; -0.503716 -0.450467; -0.486404 -0.474968], 10.2, 4.0, [-0.0254213 -0.00515403 … -0.0281863 0.548199; 0.307856 -0.00383033 … -0.00868819 -0.0639616; … ; 0.269712 -0.0167101 … 0.00504009 0.00800647; 0.0290521 0.00173298 … 0.00120982 -0.00128139], [-0.0069084; -0.00546983; … ; -0.0087581; 0.0025733], [-0.0489273, -0.0560542, -0.0616317, 0.0279743, 0.0766412, 0.101492, 0.112807, 0.11543, 0.111626, 0.102627  …  -0.0459264, -0.0534339, -0.0573471, -0.0502615, -0.0437773, -0.0617361, -0.0300191, -0.0522048, -0.0369034, 1.37071]), Trial([0.0 0.9; -0.0212132 0.878787; … ; -0.513277 -0.531593; -0.483885 -0.537605], 12.7, 0.7, [-0.0313527 -0.00515403 … -0.0281863 0.548199; 0.284335 -0.00383033 … -0.00868819 -0.0639616; … ; 0.251514 -0.0167101 … 0.00504009 0.00800647; 0.0339498 0.00173298 … 0.00120982 -0.00128139], [-0.00746192; -0.00747348; … ; -0.0103591; 0.00306308], [0.00676671, 0.00847325, 0.0100671, 0.011407, 0.0123567, 0.0128085, 0.012707, 0.012065, 0.0109676, 0.00955912  …  0.0356612, 0.0619775, 0.0704332, 0.0706858, 0.0657159, 0.0564961, 0.0436989, 0.0282125, 0.01485, -1.68513]), Trial([0.9 0.0; 0.878787 -0.0212132; … ; -0.5 -0.5; -0.478144 -0.520551], 120.1, 0.1, [-0.0131384 -0.00334733 … -0.0287329 0.412378; 0.114439 3.49967e-5 … -0.0113292 -0.178611; … ; 0.142888 -0.0131206 … 0.00238611 -0.17828; 0.0392943 0.0017318 … 0.00120889 -0.00528531], [-0.0210239; 0.00535292; … ; -0.00156972; 0.00318624], [0.0324499, 0.0313056, 0.0291444, 0.0259842, 0.0219054, 0.0170441, 0.01158, 0.00572002, -0.000317946, -0.00631905  …  0.000442318, -0.00115573, 0.00289346, -0.000785206, 0.000432747, 0.00352194, 0.00324058, 0.00200714, 0.00455527, 2.17808]), Trial([0.0 0.9; -0.0212132 0.878787; … ; -0.468879 -0.481093; -0.440154 -0.489747], 8.4, 1.3, [-0.010567 -0.0167666 … -0.0289115 0.44381; 0.421731 -0.0115617 … -0.0147844 -0.159561; … ; 0.353273 -0.025917 … -9.96306e-5 -0.157414; 0.0420383 0.0017291 … 0.0012087 -0.00528302], [-0.0244731; -0.00774782; … ; -0.0206949; 0.00351384], [0.000824632, 0.000302544, -0.000181132, -0.000561943, -0.000771007, -0.000744943, -0.000436846, 0.000174486, 0.00107991, 0.00224169  …  -0.0169873, 0.0252845, 0.0244235, -0.0890546, -0.0275757, -0.0422447, 0.000287924, -0.0252303, -0.0698401, -2.3828]), Trial([0.9 0.0; 0.878787 -0.0212132; … ; -0.5 -0.5; -0.53 -0.5], 120.1, 1.3, [-0.0389645 -0.0167666 … -0.0289115 0.431468; 0.419928 -0.0115617 … -0.0147844 -0.0606729; … ; 0.344411 -0.025917 … -9.96306e-5 -0.0958804; 0.0283022 0.0017291 … 0.0012087 -0.00602895], [-0.0282199; 0.00705392; … ; -0.0119828; 0.00206572], [-0.0307504, -0.0376861, -0.0439217, -0.0490885, -0.0528685, -0.0550218, -0.0554049, -0.053976, -0.0507899, -0.0459835  …  -0.0226687, 0.0217076, -0.0226942, 0.0217324, -0.0227198, 0.0217572, -0.0227454, 0.0217821, -0.0227711, 1.70539]), Trial([0.9 0.0; 0.9 -0.03; … ; -0.514823 -0.539219; -0.520011 -0.509671], 11.0, 1.6, [-0.0389645 -0.0171617 … -0.030456 0.91115; 0.419928 -0.0116073 … -0.0152554 -0.117356; … ; 0.344411 -0.0261244 … -0.00105477 -0.117691; 0.0283022 0.000738182 … -0.00172814 -0.00599327], [0.0275577; 0.00165154; … ; -0.0139202; 0.00210651], [-0.024644, -0.074922, -0.00518095, 0.038196, 0.0599122, 0.0676305, 0.0677078, 0.0638687, 0.0182016, -0.0209249  …  -0.103553, -0.0545723, 0.0629261, 0.0841747, 0.064838, 0.0394685, 0.0164135, -0.00316138, 0.0218568, -1.79568]), Trial([0.0 0.9; -0.0212132 0.878787; … ; -0.5 -0.5; -0.470579 -0.505864], 120.1, 0.1, [-0.0389838 -0.0172133 … -0.030456 0.28533; 0.231802 -0.0281988 … -0.0152554 -0.183713; … ; 0.238913 -0.0361672 … -0.00105477 -0.219823; 0.0392264 0.00073517 … -0.00172814 -0.00633008], [-0.0103906; 0.0102088; … ; 0.00173299; 0.00310037], [0.0543834, 0.0548658, 0.0525555, 0.0471244, 0.0385509, 0.027191, 0.0137828, -0.000630872, -0.0148576, -0.0277524  …  0.00302214, 0.000561073, 0.000971082, 0.000501854, -0.000896359, 0.000660452, -0.00261528, 0.000965292, -0.00376094, 2.998]), Trial([0.0 0.9; -0.0212132 0.878787; … ; -0.5476 -0.497214; -0.531663 -0.522631], 17.5, 3.3, [-0.0486043 -0.0275285 … -0.0279823 0.400577; 0.719423 -0.0389841 … -0.0151116 -0.181141; … ; 0.539474 -0.044686 … -0.00385802 -0.215742; 0.039458 0.000734131 … -0.00173004 -0.00632954], [-0.00984488; 0.0082501; … ; -0.010749; 0.00319988], [-0.0134731, -0.0171792, -0.0201347, -0.0219245, -0.0221851, -0.0206762, -0.0173413, -0.00227601, 0.0105885, 0.00727876  …  -0.00513823, 0.0029201, 0.00529271, -0.0246517, -0.0502632, -0.04583, -0.023697, -0.0329432, -0.0158411, 0.54368]), Trial([-0.9 0.0; -0.921213 -0.0212132; … ; -0.523358 -0.513698; -0.528235 -0.484097], 5.0, 2.1, [-0.0486043 -0.0275285 … -0.0282478 0.400577; 0.717485 -0.0389841 … -0.0271979 -0.181141; … ; 0.538908 -0.044686 … -0.0104983 -0.215742; 0.039458 0.000734131 … -0.00173017 -0.00632954], [-0.00986856; 0.00847418; … ; -0.0109135; 0.00319988], [-0.0911144, -0.00520286, 0.0371427, 0.0579354, 0.0689301, 0.0744437, 0.076113, 0.0746318, 0.070351, 0.0635042  …  0.0280821, 0.0227521, 0.0168901, 0.0106139, 0.0148696, 0.0107029, 0.0106687, 0.0112636, 0.0230051, 0.0180876]), Trial([0.0 -0.9; -0.03 -0.9; … ; -0.464727 -0.501841; -0.478893 -0.475396], 2.3, 0.8, [-0.0486043 -0.0275285 … -0.0356738 0.408193; 0.717485 -0.0389841 … -0.025529 -0.181049; … ; 0.538908 -0.044686 … -0.00972483 -0.215599; 0.039458 0.000734131 … -0.00173014 -0.00632954], [-0.00984412; 0.00869223; … ; -0.0107915; 0.00319989], [0.0241046, 0.0170515, 0.00988261, 0.00173063, -0.00585755, -0.0124646, -0.0179279, -0.022035, -0.024575, -0.0253963  …  -0.0121251, -0.00581242, 0.00091398, 0.00756966, 0.0136717, 0.0187761, 0.0225138, 0.0120381, 0.0289838, 0.0064243])], [-0.5 -0.5])], [0.480079 -0.756263; -0.130409 0.1446; … ; 0.0050745 0.107373; 0.598544 0.638892])"
      ]
     },
     "execution_count": 203,
     "metadata": {},
     "output_type": "execute_result"
    }
   ],
   "source": [
    "rats.experiment"
   ]
  },
  {
   "cell_type": "code",
   "execution_count": null,
   "metadata": {
    "collapsed": true
   },
   "outputs": [],
   "source": []
  },
  {
   "cell_type": "code",
   "execution_count": null,
   "metadata": {
    "collapsed": true
   },
   "outputs": [],
   "source": []
  },
  {
   "cell_type": "code",
   "execution_count": null,
   "metadata": {
    "collapsed": true
   },
   "outputs": [],
   "source": []
  }
 ],
 "metadata": {
  "kernelspec": {
   "display_name": "Julia 0.6.0",
   "language": "julia",
   "name": "julia-0.6"
  },
  "language_info": {
   "file_extension": ".jl",
   "mimetype": "application/julia",
   "name": "julia",
   "version": "0.6.0"
  }
 },
 "nbformat": 4,
 "nbformat_minor": 2
}
