{
 "cells": [
  {
   "cell_type": "code",
   "execution_count": 1,
   "metadata": {
    "collapsed": true
   },
   "outputs": [],
   "source": [
    "# This code is an implementation of the model proposed by Foster Dayan and Morris (Hippocampus, 2000). \n",
    "# This is the DMP algrithm in which every day the location of the platform changes and every trial the \n",
    "# start location of the rat changes. We can define the number of rats (= number of independant experiment \n",
    "# to perform statistics), the number of days and the number of trials per day. \n",
    "# This particular code is the implementation of their second model in which they store an estimate of \n",
    "# the positions to perform better. "
   ]
  },
  {
   "cell_type": "code",
   "execution_count": 2,
   "metadata": {
    "collapsed": true
   },
   "outputs": [],
   "source": [
    "using Polynomials"
   ]
  },
  {
   "cell_type": "code",
   "execution_count": 3,
   "metadata": {
    "collapsed": true
   },
   "outputs": [],
   "source": [
    "###################################################################################\n",
    "###################################################################################\n",
    "########################                                ###########################\n",
    "########################       DEFINE CLASSES           ###########################\n",
    "########################                                ###########################\n",
    "########################                                ##########################\n",
    "########################                                ##########################\n",
    "###################################################################################\n",
    "###################################################################################\n"
   ]
  },
  {
   "cell_type": "code",
   "execution_count": 4,
   "metadata": {
    "collapsed": true
   },
   "outputs": [],
   "source": [
    "type Trial\n",
    "    Trajectory\n",
    "    Latency\n",
    "    SearchPreference\n",
    "    ActionMap\n",
    "    Valuemap\n",
    "    Error\n",
    "    xweight\n",
    "    yweight\n",
    "    platformestimate\n",
    "end"
   ]
  },
  {
   "cell_type": "code",
   "execution_count": 5,
   "metadata": {
    "collapsed": true
   },
   "outputs": [],
   "source": [
    "type TrialDebug\n",
    "    Trajectory\n",
    "    Latency\n",
    "    SearchPreference\n",
    "    ActionMap\n",
    "    Valuemap\n",
    "    Error\n",
    "    xweight\n",
    "    yweight\n",
    "    platformestimate\n",
    "    xhistory\n",
    "    dirtaken\n",
    "end"
   ]
  },
  {
   "cell_type": "code",
   "execution_count": 6,
   "metadata": {
    "collapsed": true
   },
   "outputs": [],
   "source": [
    "type Day \n",
    "    trial::Any\n",
    "    Day()=new(Trial[]);\n",
    "    Platform::Any\n",
    "end"
   ]
  },
  {
   "cell_type": "code",
   "execution_count": 7,
   "metadata": {
    "collapsed": true
   },
   "outputs": [],
   "source": [
    "type Experiment \n",
    "    day::Any\n",
    "        Experiment()=new(Day[])\n",
    "\n",
    "    PlaceCells::Any\n",
    "end"
   ]
  },
  {
   "cell_type": "code",
   "execution_count": 8,
   "metadata": {
    "collapsed": true
   },
   "outputs": [],
   "source": [
    "type Rat\n",
    "    experiment::Any\n",
    "    Rat()=new(Experiment[])\n",
    "    parameters\n",
    "    featuresexperiment\n",
    "end"
   ]
  },
  {
   "cell_type": "code",
   "execution_count": 9,
   "metadata": {
    "collapsed": true
   },
   "outputs": [],
   "source": [
    "###################################################################################\n",
    "###################################################################################\n",
    "########################                                ###########################\n",
    "########################       DEFINE FUNCTIONS         ###########################\n",
    "########################                                ###########################\n",
    "########################                                ##########################\n",
    "########################                                ##########################\n",
    "###################################################################################\n",
    "###################################################################################\n"
   ]
  },
  {
   "cell_type": "code",
   "execution_count": 10,
   "metadata": {},
   "outputs": [
    {
     "data": {
      "text/plain": [
       "radius (generic function with 1 method)"
      ]
     },
     "execution_count": 10,
     "metadata": {},
     "output_type": "execute_result"
    }
   ],
   "source": [
    "#The algorithm places n points, of which the kth point is put at distance sqrt(k-1/2) from the boundary (index begins with k=1), and with polar angle 2*pi*k/phi^2 where phi is the golden ratio. Exception: the last alpha*sqrt(n) points are placed on the outer boundary of the circle, and the polar radius of other points is scaled to account for that. This computation of the polar radius is done in the function radius.\n",
    "\n",
    "function  radius(k,n,b) # k index of point on the boundary, n number of total points, b number of boundary points\n",
    "    if k>n-b\n",
    "        r = 1;            # put on the boundary\n",
    "    else\n",
    "        r = sqrt(k-1/2)/sqrt(n-(b+1)/2);     # computation of radius of the different points \n",
    "    end\n",
    "end\n",
    "\n"
   ]
  },
  {
   "cell_type": "code",
   "execution_count": 11,
   "metadata": {
    "collapsed": true
   },
   "outputs": [],
   "source": [
    "# sunflower seed arrangement :\n",
    "function sunflower(n, R, alpha)   # n number of centers,\n",
    "    # alpha is indicating how much one cares about the evenness of boundary , chose 2 to have nice trade off\n",
    "    # R is the radius of the circle in cm\n",
    "    r=Array{Any}( n);\n",
    "    theta=Array{Any}( n);\n",
    "    b = round(alpha*sqrt(n));      # number of boundary points\n",
    "    phi = (sqrt(5)+1)/2;           # golden ratio\n",
    "    \n",
    "    for k=1:n\n",
    "        r[k] = R*radius(k,n,b); # computation of the radius of each point \n",
    "        theta[k] = 2*pi*k/phi^2; # computation of the angle of each point \n",
    "        \n",
    "        #plot(r*cos.(theta), r*sin.(theta), \"m\");\n",
    "    end\n",
    "    # scatter(r.*cos.(theta), r.*sin.(theta));#, marker='o', \"m\");\n",
    "    X=r.*cos.(theta); \n",
    "    Y=r.*sin.(theta);\n",
    "    return hcat(X, Y)\n",
    "end\n",
    "\n",
    "Xplacecell=sunflower(493, 100, 2)[:,1];\n",
    "Yplacecell=sunflower(493, 100, 2)[:,2];"
   ]
  },
  {
   "cell_type": "code",
   "execution_count": 12,
   "metadata": {},
   "outputs": [
    {
     "data": {
      "text/plain": [
       "place_activity (generic function with 1 method)"
      ]
     },
     "execution_count": 12,
     "metadata": {},
     "output_type": "execute_result"
    }
   ],
   "source": [
    "# Define the place activity :\n",
    "\n",
    "# Define activity as a function of position \n",
    "###### !!!!!!! POSITIONS TO BE GIVEN IN THE SAME UNITE THAN THE SIGMA ###### !!!!!!!\n",
    "function place_activity(x,y,xpc,ypc,σ) # x,y 2 scalars the position of the rat, xpc,ypc 2 vectors posiions of all place cells\n",
    "    N=length(xpc); # N number of place cells \n",
    "    actplacecell=zeros(N,1); # define empty array of activity \n",
    "    \n",
    "    for k=1:N # k is the k-th place cell\n",
    "        actplacecell[k]=exp(-((x-xpc[k])^2+(y-ypc[k])^2)/(2σ^2));\n",
    "    end\n",
    "    return actplacecell\n",
    "end "
   ]
  },
  {
   "cell_type": "code",
   "execution_count": 13,
   "metadata": {},
   "outputs": [
    {
     "data": {
      "text/plain": [
       "placecells (generic function with 1 method)"
      ]
     },
     "execution_count": 13,
     "metadata": {},
     "output_type": "execute_result"
    }
   ],
   "source": [
    "function  placecells(position,centres,width)\n",
    "# PLACECELLS Calculates the activity of the place cells in the simulation.\n",
    "#\n",
    "#\tF = PLACECELLS(POSITION,CENTRES,WIDTH) calculates the activity of the place cells\n",
    "#\tin the simulation. The returned vector F is of length N, where N is the number of place\n",
    "#\tcells, and it contains the activity of each place cell given the simulated rat's current\n",
    "#\tPOSITION (a 2 element column vector). The activity of the place cells is modelled as a\n",
    "#\trate-of-fire (i.e. a scalar value) determined by a gaussian function. The CENTRES of the\n",
    "#\tgaussian functions are an argument, and must be a 2 x N matrix containing each place\n",
    "#\tcell's preferred location in 2D space. The WIDTH of the place cell fields must\n",
    "#\talso be provided as a scalar value (all place cells are assumed to have the same\n",
    "#\twidth).\n",
    "#\n",
    "#\tThe returned vector, F, must be a N element column vector.\n",
    "#\n",
    "#\tCode for BIO/NROD08 Assignment 2, Winter 2017\n",
    "#\tAuthor: Blake Richards, blake.richards@utoronto.ca\n",
    "\n",
    "\n",
    "# calculate the place cell activity\n",
    "F = exp.(-sum((repmat(position,size(centres,1),1).-centres).^2,2)/(2*width^2));\n",
    "return F\n",
    "end"
   ]
  },
  {
   "cell_type": "code",
   "execution_count": 14,
   "metadata": {},
   "outputs": [
    {
     "data": {
      "text/plain": [
       "reward (generic function with 1 method)"
      ]
     },
     "execution_count": 14,
     "metadata": {},
     "output_type": "execute_result"
    }
   ],
   "source": [
    "# Calculate reward as a function of position \n",
    "function reward(x,y,xp,yp,r) # x,y position of the rat and xp,yp position of the platform, r radius of the platform\n",
    "    if (x-xp)^2+(y-yp)^2<= r^2 # if the rat is in the platform\n",
    "        R=1;\n",
    "    else # else \n",
    "        R=0;\n",
    "    end \n",
    "    \n",
    "end\n"
   ]
  },
  {
   "cell_type": "code",
   "execution_count": 15,
   "metadata": {},
   "outputs": [
    {
     "data": {
      "text/plain": [
       "cumul (generic function with 1 method)"
      ]
     },
     "execution_count": 15,
     "metadata": {},
     "output_type": "execute_result"
    }
   ],
   "source": [
    "# Function to return the cumulative sum of the terms of a vector : \n",
    "function cumul(A) # A vector \n",
    "    Acum=zeros(length(A),1);\n",
    "    for k=1:length(A)\n",
    "       Acum[k]=sum(A[1:k]);\n",
    "    \n",
    "    end\n",
    "    return Acum\n",
    "end"
   ]
  },
  {
   "cell_type": "code",
   "execution_count": 16,
   "metadata": {},
   "outputs": [
    {
     "data": {
      "text/plain": [
       "indice (generic function with 1 method)"
      ]
     },
     "execution_count": 16,
     "metadata": {},
     "output_type": "execute_result"
    }
   ],
   "source": [
    "# This function tells within wich index column is located x\n",
    "function indice(Acum,x) # x number, Acum vector\n",
    "    j=0;\n",
    "    for i=1:length(Acum)\n",
    "       if i==1\n",
    "           if x<Acum[i]\n",
    "                j=i;\n",
    "            end\n",
    "        else\n",
    "            if Acum[i-1]<x<=Acum[i]\n",
    "               j=i;\n",
    "            end\n",
    "        end\n",
    "    return Int[j]\n",
    "    end\n",
    "end"
   ]
  },
  {
   "cell_type": "code",
   "execution_count": 17,
   "metadata": {
    "collapsed": true
   },
   "outputs": [],
   "source": [
    "###################################################################################\n",
    "################## GENERAL THINGS THAT DONT CHANGE WITHIN TRIALS ##################\n",
    "###################################################################################\n",
    "\n",
    "# Creating the circle and the place cells:\n",
    "center=[0,0];\n",
    "R= 100; # Radius of the circle in cm\n",
    "r=5;# Radius of the platform  in cm\n",
    "radiussearchpref=20; # radius of the area in which we calculate searchpreference \n",
    "\n",
    "# Motion characteristic \n",
    "dt=0.1; # timestep in s \n",
    "speed=30; # speed of the rat in cm.s-1\n",
    "# Different possible directions \n",
    "angles=[-3*pi/4, -2*pi/4, -pi/4, 0, pi/4, 2*pi/4, 3*pi/4, pi];\n",
    "\n",
    "\n",
    "# Trial characteristic :\n",
    "T=120; # maximal duration of a trial in seconds\n",
    "DeltaT=15; # Interval between trials in seconds  \n",
    "\n",
    "# Place cells \n",
    "N=493; # number of place cells \n",
    "Xplacecell=sunflower(N,R,2)[:,1]; # absciss place cells  \n",
    "Yplacecell=sunflower(N,R,2)[:,2]; # y place cells \n",
    "\n",
    "\n",
    "# Place cell : method used by Blake richards \n",
    "# initialize the centres of the place cells by random unifrom sampling across the pool\n",
    "#arguments= rand(1,N)*2*pi;\n",
    "#radii= sqrt.(rand(1,N))*R;\n",
    "#centres= [cos.(arguments).*radii; sin.(arguments).*radii]; \n",
    "#Xplacecell=centres[1,:];\n",
    "#Yplacecell=centres[2,:];\n",
    "\n",
    "Xplacecell=sunflower(493, R, 2)[:,1];\n",
    "Yplacecell=sunflower(493, R, 2)[:,2];\n",
    "centres=[Xplacecell Yplacecell];\n",
    "\n",
    "σ=0.30*100; # variability of place cell activity, in centimeters\n",
    "\n",
    "\n",
    "# Action cells : \n",
    "n=9; # number of action cells \n",
    "\n",
    "\n",
    "# Potential positions of the platform : \n",
    "Xplatform=[0.3,0,-0.3,0,0.5,-0.5,0.5,-0.5].*R; # in cm\n",
    "Yplatform=[0,0.3,0,-0.3,0.5,0.5,-0.5,-0.5].*R;# in cm\n",
    "\n",
    "# Potential Starting positions of the rat :\n",
    "Xstart=[0.95,0,-0.95,0].*R; # East, North, West, South\n",
    "Ystart=[0,0.95,0,-0.95].*R;\n",
    "\n",
    "# Define number of rats, number of days and numbers of trials per day\n",
    "numberofdays=1;\n",
    "numberofrats=20;\n",
    "numberoftrials=60;\n",
    "\n",
    "\n",
    "times=collect(0:dt:T+dt);\n"
   ]
  },
  {
   "cell_type": "code",
   "execution_count": 18,
   "metadata": {
    "collapsed": true
   },
   "outputs": [],
   "source": [
    "\n",
    "# Parameter that regulate the choice between former angle and new angle \n",
    "momentum=1.1;\n",
    "\n",
    "# Learning variables : \n",
    "γ=0.99; # Discount factor.  they dont precise the value  \n",
    "actorLR=0.1; # actor learning rate\n",
    "criticLR=0.01; # critic learning rate\n",
    "\n",
    "# learning rate for position:\n",
    "LRxcoord=0.02; # learning rate for x coordinate \n",
    "LRycoord=0.02;  # learning rate for y coordinate \n",
    "\n",
    "# parameter for postion estimation \n",
    "λ=0.8;"
   ]
  },
  {
   "cell_type": "code",
   "execution_count": null,
   "metadata": {
    "collapsed": true
   },
   "outputs": [],
   "source": []
  }
 ],
 "metadata": {
  "kernelspec": {
   "display_name": "Julia 0.6.0",
   "language": "julia",
   "name": "julia-0.6"
  },
  "language_info": {
   "file_extension": ".jl",
   "mimetype": "application/julia",
   "name": "julia",
   "version": "0.6.0"
  }
 },
 "nbformat": 4,
 "nbformat_minor": 2
}
